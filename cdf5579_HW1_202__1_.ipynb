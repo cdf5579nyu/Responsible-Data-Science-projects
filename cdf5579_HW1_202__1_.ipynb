{
  "nbformat": 4,
  "nbformat_minor": 0,
  "metadata": {
    "colab": {
      "provenance": []
    },
    "kernelspec": {
      "name": "python3",
      "display_name": "Python 3"
    },
    "language_info": {
      "name": "python"
    },
    "accelerator": "GPU",
    "gpuClass": "standard"
  },
  "cells": [
    {
      "cell_type": "code",
      "execution_count": 2,
      "metadata": {
        "id": "PmmFUvLx1bDU"
      },
      "outputs": [],
      "source": [
        "%%capture\n",
        "!pip install fairlearn"
      ]
    },
    {
      "cell_type": "code",
      "source": [
        "#@markdown Load modules\n",
        "import numpy as np\n",
        "from IPython.display import display, Markdown, Latex\n",
        "import pandas as pd\n",
        "import matplotlib.pyplot as plt \n",
        "import seaborn as sns\n",
        "\n",
        "from sklearn.preprocessing import MinMaxScaler\n",
        "from sklearn.model_selection import train_test_split\n",
        "from sklearn.ensemble import RandomForestClassifier\n",
        "from sklearn.metrics import accuracy_score, precision_score, recall_score\n",
        "\n",
        "from fairlearn.postprocessing import ThresholdOptimizer\n",
        "from fairlearn.preprocessing import CorrelationRemover\n",
        "from fairlearn.adversarial import AdversarialFairnessClassifier\n",
        "from fairlearn.metrics import MetricFrame\n",
        "import fairlearn.datasets as fdata\n",
        "from fairlearn.metrics import (demographic_parity_difference, demographic_parity_ratio, \n",
        "                               selection_rate_difference, false_negative_rate_difference, \n",
        "                               false_positive_rate_difference, equalized_odds_ratio,\n",
        "                               false_negative_rate, false_positive_rate)"
      ],
      "metadata": {
        "id": "qOU_nFs11rFc"
      },
      "execution_count": 3,
      "outputs": []
    },
    {
      "cell_type": "markdown",
      "source": [
        "# Load and preprocess the data"
      ],
      "metadata": {
        "id": "_4uCde0xDNZp"
      }
    },
    {
      "cell_type": "code",
      "source": [
        "#@markdown Load and read about the dataset.\n",
        "# get datast from fairlearn and show description\n",
        "dataset = fdata.fetch_diabetes_hospital()\n",
        "\n",
        "display(Markdown(dataset.DESCR))\n",
        "\n",
        "# save dataframe and features\n",
        "x_raw = dataset.data\n",
        "# y_raw = np.array(dataset.target)\n",
        "feature_names = dataset.feature_names"
      ],
      "metadata": {
        "id": "MWqwAwww1-sa",
        "colab": {
          "base_uri": "https://localhost:8080/",
          "height": 277
        },
        "outputId": "5f56eb39-df77-41e3-d9be-57b562b458b7"
      },
      "execution_count": 4,
      "outputs": [
        {
          "output_type": "stream",
          "name": "stderr",
          "text": [
            "/usr/local/lib/python3.9/dist-packages/sklearn/datasets/_openml.py:968: FutureWarning: The default value of `parser` will change from `'liac-arff'` to `'auto'` in 1.4. You can set `parser='auto'` to silence this warning. Therefore, an `ImportError` will be raised from 1.4 if the dataset is dense and pandas is not installed. Note that the pandas parser may return different data types. See the Notes Section in fetch_openml's API doc for details.\n",
            "  warn(\n"
          ]
        },
        {
          "output_type": "display_data",
          "data": {
            "text/plain": [
              "<IPython.core.display.Markdown object>"
            ],
            "text/markdown": "The \"Diabetes 130-Hospitals\" dataset represents 10 years of clinical care at 130 U.S. hospitals and delivery networks, collected from 1999 to 2008. Each record represents the hospital admission record for a patient diagnosed with diabetes whose stay lasted between one to fourteen days. The features describing each encounter include demographics, diagnoses, diabetic medications, number of visits in the year preceding the encounter, and payer information, as well as whether the patient was readmitted after release, and whether the readmission occurred within 30 days of the release.\n\nThe original \"Diabetes 130-Hospitals\" dataset was collected by Beata Strack, Jonathan P. DeShazo, Chris Gennings, Juan L. Olmo, Sebastian Ventura, Krzysztof J. Cios, and John N. Clore in 2014.\n\nThis version of the dataset was derived by the Fairlearn team for the SciPy 2021 tutorial \"Fairness in AI Systems: From social context to practice using Fairlearn\". In this version, the target variable \"readmitted\" is binarized into whether the patient was re-admitted within thirty days. The full dataset pre-processing script can be found on GitHub: https://github.com/fairlearn/talks/blob/main/2021_scipy_tutorial/preprocess.py\n\nDownloaded from openml.org."
          },
          "metadata": {}
        }
      ]
    },
    {
      "cell_type": "markdown",
      "source": [
        "You can read more about the dataset [here](https://fairlearn.org/main/user_guide/datasets/diabetes_hospital_data.html). In this description, we see that two features, `readmitted` and `readmit_binary`, are other representations of the same outcome, so we drop them from the set of predictors."
      ],
      "metadata": {
        "id": "-2H46GsmJ2qg"
      }
    },
    {
      "cell_type": "code",
      "source": [
        "#@markdown Down sample to make runtimes reasonable\n",
        "x_raw = x_raw.sample(frac=0.1, random_state=123)"
      ],
      "metadata": {
        "id": "efDlc2njeMy7"
      },
      "execution_count": 5,
      "outputs": []
    },
    {
      "cell_type": "code",
      "source": [
        "y_raw = x_raw['readmit_binary']\n",
        "x_raw = x_raw.drop(columns=['readmitted', 'readmit_binary'])\n",
        "feature_names = feature_names[:-2]"
      ],
      "metadata": {
        "id": "Nu8TjEmUKGgQ"
      },
      "execution_count": 6,
      "outputs": []
    },
    {
      "cell_type": "code",
      "source": [
        "#@markdown Look at the first few rows of the data.\n",
        "x_raw.head()"
      ],
      "metadata": {
        "id": "VdVRFS3K2f7W",
        "colab": {
          "base_uri": "https://localhost:8080/",
          "height": 473
        },
        "outputId": "304f858f-a403-4134-a05d-206005d6d7c3"
      },
      "execution_count": 7,
      "outputs": [
        {
          "output_type": "execute_result",
          "data": {
            "text/plain": [
              "            race  gender            age discharge_disposition_id  \\\n",
              "65884  Caucasian    Male  Over 60 years       Discharged to Home   \n",
              "86278  Caucasian  Female  Over 60 years                    Other   \n",
              "30000  Caucasian    Male    30-60 years       Discharged to Home   \n",
              "51185  Caucasian    Male    30-60 years                    Other   \n",
              "53902  Caucasian  Female    30-60 years       Discharged to Home   \n",
              "\n",
              "      admission_source_id  time_in_hospital medical_specialty  \\\n",
              "65884           Emergency                 3           Missing   \n",
              "86278            Referral                 5           Missing   \n",
              "30000               Other                 4             Other   \n",
              "51185               Other                 9  InternalMedicine   \n",
              "53902            Referral                 7             Other   \n",
              "\n",
              "       num_lab_procedures  num_procedures  num_medications  ... max_glu_serum  \\\n",
              "65884                  49               6               27  ...          None   \n",
              "86278                  57               0               21  ...          None   \n",
              "30000                  37               2                9  ...          None   \n",
              "51185                  61               6               27  ...          None   \n",
              "53902                  23               0               13  ...          None   \n",
              "\n",
              "       A1Cresult insulin change diabetesMed medicare medicaid had_emergency  \\\n",
              "65884       None      Up     Ch         Yes    False    False         False   \n",
              "86278       None      No     Ch         Yes     True    False         False   \n",
              "30000       None      No     No          No    False    False         False   \n",
              "51185         >8      No     Ch         Yes    False    False          True   \n",
              "53902       None      No     No         Yes     True    False          True   \n",
              "\n",
              "      had_inpatient_days had_outpatient_days  \n",
              "65884               True               False  \n",
              "86278               True               False  \n",
              "30000              False               False  \n",
              "51185              False                True  \n",
              "53902               True               False  \n",
              "\n",
              "[5 rows x 22 columns]"
            ],
            "text/html": [
              "\n",
              "  <div id=\"df-624d74ee-0b1d-4673-8e4d-bf989ca68770\">\n",
              "    <div class=\"colab-df-container\">\n",
              "      <div>\n",
              "<style scoped>\n",
              "    .dataframe tbody tr th:only-of-type {\n",
              "        vertical-align: middle;\n",
              "    }\n",
              "\n",
              "    .dataframe tbody tr th {\n",
              "        vertical-align: top;\n",
              "    }\n",
              "\n",
              "    .dataframe thead th {\n",
              "        text-align: right;\n",
              "    }\n",
              "</style>\n",
              "<table border=\"1\" class=\"dataframe\">\n",
              "  <thead>\n",
              "    <tr style=\"text-align: right;\">\n",
              "      <th></th>\n",
              "      <th>race</th>\n",
              "      <th>gender</th>\n",
              "      <th>age</th>\n",
              "      <th>discharge_disposition_id</th>\n",
              "      <th>admission_source_id</th>\n",
              "      <th>time_in_hospital</th>\n",
              "      <th>medical_specialty</th>\n",
              "      <th>num_lab_procedures</th>\n",
              "      <th>num_procedures</th>\n",
              "      <th>num_medications</th>\n",
              "      <th>...</th>\n",
              "      <th>max_glu_serum</th>\n",
              "      <th>A1Cresult</th>\n",
              "      <th>insulin</th>\n",
              "      <th>change</th>\n",
              "      <th>diabetesMed</th>\n",
              "      <th>medicare</th>\n",
              "      <th>medicaid</th>\n",
              "      <th>had_emergency</th>\n",
              "      <th>had_inpatient_days</th>\n",
              "      <th>had_outpatient_days</th>\n",
              "    </tr>\n",
              "  </thead>\n",
              "  <tbody>\n",
              "    <tr>\n",
              "      <th>65884</th>\n",
              "      <td>Caucasian</td>\n",
              "      <td>Male</td>\n",
              "      <td>Over 60 years</td>\n",
              "      <td>Discharged to Home</td>\n",
              "      <td>Emergency</td>\n",
              "      <td>3</td>\n",
              "      <td>Missing</td>\n",
              "      <td>49</td>\n",
              "      <td>6</td>\n",
              "      <td>27</td>\n",
              "      <td>...</td>\n",
              "      <td>None</td>\n",
              "      <td>None</td>\n",
              "      <td>Up</td>\n",
              "      <td>Ch</td>\n",
              "      <td>Yes</td>\n",
              "      <td>False</td>\n",
              "      <td>False</td>\n",
              "      <td>False</td>\n",
              "      <td>True</td>\n",
              "      <td>False</td>\n",
              "    </tr>\n",
              "    <tr>\n",
              "      <th>86278</th>\n",
              "      <td>Caucasian</td>\n",
              "      <td>Female</td>\n",
              "      <td>Over 60 years</td>\n",
              "      <td>Other</td>\n",
              "      <td>Referral</td>\n",
              "      <td>5</td>\n",
              "      <td>Missing</td>\n",
              "      <td>57</td>\n",
              "      <td>0</td>\n",
              "      <td>21</td>\n",
              "      <td>...</td>\n",
              "      <td>None</td>\n",
              "      <td>None</td>\n",
              "      <td>No</td>\n",
              "      <td>Ch</td>\n",
              "      <td>Yes</td>\n",
              "      <td>True</td>\n",
              "      <td>False</td>\n",
              "      <td>False</td>\n",
              "      <td>True</td>\n",
              "      <td>False</td>\n",
              "    </tr>\n",
              "    <tr>\n",
              "      <th>30000</th>\n",
              "      <td>Caucasian</td>\n",
              "      <td>Male</td>\n",
              "      <td>30-60 years</td>\n",
              "      <td>Discharged to Home</td>\n",
              "      <td>Other</td>\n",
              "      <td>4</td>\n",
              "      <td>Other</td>\n",
              "      <td>37</td>\n",
              "      <td>2</td>\n",
              "      <td>9</td>\n",
              "      <td>...</td>\n",
              "      <td>None</td>\n",
              "      <td>None</td>\n",
              "      <td>No</td>\n",
              "      <td>No</td>\n",
              "      <td>No</td>\n",
              "      <td>False</td>\n",
              "      <td>False</td>\n",
              "      <td>False</td>\n",
              "      <td>False</td>\n",
              "      <td>False</td>\n",
              "    </tr>\n",
              "    <tr>\n",
              "      <th>51185</th>\n",
              "      <td>Caucasian</td>\n",
              "      <td>Male</td>\n",
              "      <td>30-60 years</td>\n",
              "      <td>Other</td>\n",
              "      <td>Other</td>\n",
              "      <td>9</td>\n",
              "      <td>InternalMedicine</td>\n",
              "      <td>61</td>\n",
              "      <td>6</td>\n",
              "      <td>27</td>\n",
              "      <td>...</td>\n",
              "      <td>None</td>\n",
              "      <td>&gt;8</td>\n",
              "      <td>No</td>\n",
              "      <td>Ch</td>\n",
              "      <td>Yes</td>\n",
              "      <td>False</td>\n",
              "      <td>False</td>\n",
              "      <td>True</td>\n",
              "      <td>False</td>\n",
              "      <td>True</td>\n",
              "    </tr>\n",
              "    <tr>\n",
              "      <th>53902</th>\n",
              "      <td>Caucasian</td>\n",
              "      <td>Female</td>\n",
              "      <td>30-60 years</td>\n",
              "      <td>Discharged to Home</td>\n",
              "      <td>Referral</td>\n",
              "      <td>7</td>\n",
              "      <td>Other</td>\n",
              "      <td>23</td>\n",
              "      <td>0</td>\n",
              "      <td>13</td>\n",
              "      <td>...</td>\n",
              "      <td>None</td>\n",
              "      <td>None</td>\n",
              "      <td>No</td>\n",
              "      <td>No</td>\n",
              "      <td>Yes</td>\n",
              "      <td>True</td>\n",
              "      <td>False</td>\n",
              "      <td>True</td>\n",
              "      <td>True</td>\n",
              "      <td>False</td>\n",
              "    </tr>\n",
              "  </tbody>\n",
              "</table>\n",
              "<p>5 rows × 22 columns</p>\n",
              "</div>\n",
              "      <button class=\"colab-df-convert\" onclick=\"convertToInteractive('df-624d74ee-0b1d-4673-8e4d-bf989ca68770')\"\n",
              "              title=\"Convert this dataframe to an interactive table.\"\n",
              "              style=\"display:none;\">\n",
              "        \n",
              "  <svg xmlns=\"http://www.w3.org/2000/svg\" height=\"24px\"viewBox=\"0 0 24 24\"\n",
              "       width=\"24px\">\n",
              "    <path d=\"M0 0h24v24H0V0z\" fill=\"none\"/>\n",
              "    <path d=\"M18.56 5.44l.94 2.06.94-2.06 2.06-.94-2.06-.94-.94-2.06-.94 2.06-2.06.94zm-11 1L8.5 8.5l.94-2.06 2.06-.94-2.06-.94L8.5 2.5l-.94 2.06-2.06.94zm10 10l.94 2.06.94-2.06 2.06-.94-2.06-.94-.94-2.06-.94 2.06-2.06.94z\"/><path d=\"M17.41 7.96l-1.37-1.37c-.4-.4-.92-.59-1.43-.59-.52 0-1.04.2-1.43.59L10.3 9.45l-7.72 7.72c-.78.78-.78 2.05 0 2.83L4 21.41c.39.39.9.59 1.41.59.51 0 1.02-.2 1.41-.59l7.78-7.78 2.81-2.81c.8-.78.8-2.07 0-2.86zM5.41 20L4 18.59l7.72-7.72 1.47 1.35L5.41 20z\"/>\n",
              "  </svg>\n",
              "      </button>\n",
              "      \n",
              "  <style>\n",
              "    .colab-df-container {\n",
              "      display:flex;\n",
              "      flex-wrap:wrap;\n",
              "      gap: 12px;\n",
              "    }\n",
              "\n",
              "    .colab-df-convert {\n",
              "      background-color: #E8F0FE;\n",
              "      border: none;\n",
              "      border-radius: 50%;\n",
              "      cursor: pointer;\n",
              "      display: none;\n",
              "      fill: #1967D2;\n",
              "      height: 32px;\n",
              "      padding: 0 0 0 0;\n",
              "      width: 32px;\n",
              "    }\n",
              "\n",
              "    .colab-df-convert:hover {\n",
              "      background-color: #E2EBFA;\n",
              "      box-shadow: 0px 1px 2px rgba(60, 64, 67, 0.3), 0px 1px 3px 1px rgba(60, 64, 67, 0.15);\n",
              "      fill: #174EA6;\n",
              "    }\n",
              "\n",
              "    [theme=dark] .colab-df-convert {\n",
              "      background-color: #3B4455;\n",
              "      fill: #D2E3FC;\n",
              "    }\n",
              "\n",
              "    [theme=dark] .colab-df-convert:hover {\n",
              "      background-color: #434B5C;\n",
              "      box-shadow: 0px 1px 3px 1px rgba(0, 0, 0, 0.15);\n",
              "      filter: drop-shadow(0px 1px 2px rgba(0, 0, 0, 0.3));\n",
              "      fill: #FFFFFF;\n",
              "    }\n",
              "  </style>\n",
              "\n",
              "      <script>\n",
              "        const buttonEl =\n",
              "          document.querySelector('#df-624d74ee-0b1d-4673-8e4d-bf989ca68770 button.colab-df-convert');\n",
              "        buttonEl.style.display =\n",
              "          google.colab.kernel.accessAllowed ? 'block' : 'none';\n",
              "\n",
              "        async function convertToInteractive(key) {\n",
              "          const element = document.querySelector('#df-624d74ee-0b1d-4673-8e4d-bf989ca68770');\n",
              "          const dataTable =\n",
              "            await google.colab.kernel.invokeFunction('convertToInteractive',\n",
              "                                                     [key], {});\n",
              "          if (!dataTable) return;\n",
              "\n",
              "          const docLinkHtml = 'Like what you see? Visit the ' +\n",
              "            '<a target=\"_blank\" href=https://colab.research.google.com/notebooks/data_table.ipynb>data table notebook</a>'\n",
              "            + ' to learn more about interactive tables.';\n",
              "          element.innerHTML = '';\n",
              "          dataTable['output_type'] = 'display_data';\n",
              "          await google.colab.output.renderOutput(dataTable, element);\n",
              "          const docLink = document.createElement('div');\n",
              "          docLink.innerHTML = docLinkHtml;\n",
              "          element.appendChild(docLink);\n",
              "        }\n",
              "      </script>\n",
              "    </div>\n",
              "  </div>\n",
              "  "
            ]
          },
          "metadata": {},
          "execution_count": 7
        }
      ]
    },
    {
      "cell_type": "code",
      "source": [],
      "metadata": {
        "id": "-PutzKgoaThF"
      },
      "execution_count": 7,
      "outputs": []
    },
    {
      "cell_type": "markdown",
      "source": [
        "## data inspectation "
      ],
      "metadata": {
        "id": "ffNcAr5uaTyz"
      }
    },
    {
      "cell_type": "code",
      "source": [
        "#@markdown drop the rows with 'Unknown/Invalid' values for gender\n",
        "\n",
        "# drop these 3 rows\n",
        "print(x_raw.shape)\n",
        "rows_to_keep = x_raw.gender != 'Unknown/Invalid'\n",
        "x_raw = x_raw[rows_to_keep]\n",
        "y_raw = y_raw[rows_to_keep]\n",
        "print(x_raw.shape)"
      ],
      "metadata": {
        "colab": {
          "base_uri": "https://localhost:8080/"
        },
        "id": "LNoVPfQMPTG2",
        "outputId": "ca4e6ce5-8b54-4546-c56c-ac6817cf4fa9"
      },
      "execution_count": 8,
      "outputs": [
        {
          "output_type": "stream",
          "name": "stdout",
          "text": [
            "(10177, 22)\n",
            "(10177, 22)\n"
          ]
        }
      ]
    },
    {
      "cell_type": "code",
      "source": [
        "#@markdown\n",
        "unique_feature_values = x_raw.apply(np.unique, axis=0)\n",
        "unique_feature_values"
      ],
      "metadata": {
        "colab": {
          "base_uri": "https://localhost:8080/"
        },
        "id": "_fF5fYMHO33T",
        "outputId": "66842b09-a7e0-456d-a440-404a22fce501"
      },
      "execution_count": 9,
      "outputs": [
        {
          "output_type": "execute_result",
          "data": {
            "text/plain": [
              "race                        [AfricanAmerican, Asian, Caucasian, Hispanic, ...\n",
              "gender                                                         [Female, Male]\n",
              "age                         [30 years or younger, 30-60 years, Over 60 years]\n",
              "discharge_disposition_id                          [Discharged to Home, Other]\n",
              "admission_source_id                              [Emergency, Other, Referral]\n",
              "time_in_hospital              [1, 2, 3, 4, 5, 6, 7, 8, 9, 10, 11, 12, 13, 14]\n",
              "medical_specialty           [Cardiology, Emergency/Trauma, Family/GeneralP...\n",
              "num_lab_procedures          [1, 2, 3, 4, 5, 6, 7, 8, 9, 10, 11, 12, 13, 14...\n",
              "num_procedures                                          [0, 1, 2, 3, 4, 5, 6]\n",
              "num_medications             [1, 2, 3, 4, 5, 6, 7, 8, 9, 10, 11, 12, 13, 14...\n",
              "primary_diagnosis           [Diabetes, Genitourinary Issues, Musculoskelet...\n",
              "number_diagnoses                  [1, 2, 3, 4, 5, 6, 7, 8, 9, 11, 13, 15, 16]\n",
              "max_glu_serum                                        [>200, >300, None, Norm]\n",
              "A1Cresult                                                [>7, >8, None, Norm]\n",
              "insulin                                                [Down, No, Steady, Up]\n",
              "change                                                               [Ch, No]\n",
              "diabetesMed                                                         [No, Yes]\n",
              "medicare                                                        [False, True]\n",
              "medicaid                                                        [False, True]\n",
              "had_emergency                                                   [False, True]\n",
              "had_inpatient_days                                              [False, True]\n",
              "had_outpatient_days                                             [False, True]\n",
              "dtype: object"
            ]
          },
          "metadata": {},
          "execution_count": 9
        }
      ]
    },
    {
      "cell_type": "code",
      "source": [
        "#@markdown\n",
        "binary_features = unique_feature_values.index[[len(x) == 2 for x in unique_feature_values]].values\n",
        "print(f'Binary features: {binary_features}')\n",
        "categorical_features = unique_feature_values.index[[len(x) > 2 and isinstance(x[0], str) for x in unique_feature_values]].values\n",
        "print(f'Categorical features: {categorical_features}')"
      ],
      "metadata": {
        "colab": {
          "base_uri": "https://localhost:8080/"
        },
        "id": "FMrfl2a0RL2i",
        "outputId": "60d09fba-f0dd-4317-ad75-a0108fccfbbc"
      },
      "execution_count": 10,
      "outputs": [
        {
          "output_type": "stream",
          "name": "stdout",
          "text": [
            "Binary features: ['gender' 'discharge_disposition_id' 'change' 'diabetesMed' 'medicare'\n",
            " 'medicaid' 'had_emergency' 'had_inpatient_days' 'had_outpatient_days']\n",
            "Categorical features: ['race' 'age' 'admission_source_id' 'medical_specialty'\n",
            " 'primary_diagnosis' 'max_glu_serum' 'A1Cresult' 'insulin']\n"
          ]
        }
      ]
    },
    {
      "cell_type": "code",
      "source": [
        "#@markdown standardize data types \n",
        "for col_name in feature_names:\n",
        "    if col_name in categorical_features:\n",
        "        x_raw[col_name] = x_raw[col_name].astype('category')\n",
        "    elif col_name in binary_features:  # redundant for clarity\n",
        "        # turn into int column\n",
        "        integer_col = (x_raw[col_name] == unique_feature_values[col_name][0]).astype(int)\n",
        "        new_name = f'{col_name}_{unique_feature_values[col_name][0]}'\n",
        "        x_raw[new_name] = integer_col\n",
        "        x_raw.drop(columns=[col_name], inplace=True) "
      ],
      "metadata": {
        "id": "pxllwrtKRy4b"
      },
      "execution_count": 11,
      "outputs": []
    },
    {
      "cell_type": "code",
      "source": [
        "#@markdown\n",
        "%%capture\n",
        "x_raw.apply(np.unique, axis=0)"
      ],
      "metadata": {
        "id": "7hXQfOL7StD2"
      },
      "execution_count": 12,
      "outputs": []
    },
    {
      "cell_type": "code",
      "source": [
        "x_raw.dtypes"
      ],
      "metadata": {
        "colab": {
          "base_uri": "https://localhost:8080/"
        },
        "id": "YrY2593wUQu0",
        "outputId": "0286bd0c-9c1c-4b10-eee9-2f24bd0f1634"
      },
      "execution_count": 13,
      "outputs": [
        {
          "output_type": "execute_result",
          "data": {
            "text/plain": [
              "race                                           category\n",
              "age                                            category\n",
              "admission_source_id                            category\n",
              "time_in_hospital                                  int64\n",
              "medical_specialty                              category\n",
              "num_lab_procedures                                int64\n",
              "num_procedures                                    int64\n",
              "num_medications                                   int64\n",
              "primary_diagnosis                              category\n",
              "number_diagnoses                                  int64\n",
              "max_glu_serum                                  category\n",
              "A1Cresult                                      category\n",
              "insulin                                        category\n",
              "gender_Female                                     int64\n",
              "discharge_disposition_id_Discharged to Home       int64\n",
              "change_Ch                                         int64\n",
              "diabetesMed_No                                    int64\n",
              "medicare_False                                    int64\n",
              "medicaid_False                                    int64\n",
              "had_emergency_False                               int64\n",
              "had_inpatient_days_False                          int64\n",
              "had_outpatient_days_False                         int64\n",
              "dtype: object"
            ]
          },
          "metadata": {},
          "execution_count": 13
        }
      ]
    },
    {
      "cell_type": "code",
      "source": [
        "#@markdown One-hot encode categorical features\n",
        "x_numeric = pd.get_dummies(x_raw)\n",
        "display(x_numeric.head())\n",
        "\n",
        "# get one-hot and numeric column names\n",
        "numeric_cols = x_numeric.dtypes.index[x_numeric.dtypes == 'float64'].values\n",
        "one_hot_cols = x_numeric.dtypes.index[x_numeric.dtypes != 'float64'].values"
      ],
      "metadata": {
        "colab": {
          "base_uri": "https://localhost:8080/",
          "height": 317
        },
        "id": "eIaANYyPEBvl",
        "outputId": "9cc6166c-75dc-48a4-a40a-ff6c93d54be6"
      },
      "execution_count": 14,
      "outputs": [
        {
          "output_type": "display_data",
          "data": {
            "text/plain": [
              "       time_in_hospital  num_lab_procedures  num_procedures  num_medications  \\\n",
              "65884                 3                  49               6               27   \n",
              "86278                 5                  57               0               21   \n",
              "30000                 4                  37               2                9   \n",
              "51185                 9                  61               6               27   \n",
              "53902                 7                  23               0               13   \n",
              "\n",
              "       number_diagnoses  gender_Female  \\\n",
              "65884                 9              0   \n",
              "86278                 9              1   \n",
              "30000                 5              0   \n",
              "51185                 9              0   \n",
              "53902                 7              1   \n",
              "\n",
              "       discharge_disposition_id_Discharged to Home  change_Ch  diabetesMed_No  \\\n",
              "65884                                            1          1               0   \n",
              "86278                                            0          1               0   \n",
              "30000                                            1          0               1   \n",
              "51185                                            0          1               0   \n",
              "53902                                            1          0               0   \n",
              "\n",
              "       medicare_False  ...  max_glu_serum_None  max_glu_serum_Norm  \\\n",
              "65884               1  ...                   1                   0   \n",
              "86278               0  ...                   1                   0   \n",
              "30000               1  ...                   1                   0   \n",
              "51185               1  ...                   1                   0   \n",
              "53902               0  ...                   1                   0   \n",
              "\n",
              "       A1Cresult_>7  A1Cresult_>8  A1Cresult_None  A1Cresult_Norm  \\\n",
              "65884             0             0               1               0   \n",
              "86278             0             0               1               0   \n",
              "30000             0             0               1               0   \n",
              "51185             0             1               0               0   \n",
              "53902             0             0               1               0   \n",
              "\n",
              "       insulin_Down  insulin_No  insulin_Steady  insulin_Up  \n",
              "65884             0           0               0           1  \n",
              "86278             0           1               0           0  \n",
              "30000             0           1               0           0  \n",
              "51185             0           1               0           0  \n",
              "53902             0           1               0           0  \n",
              "\n",
              "[5 rows x 49 columns]"
            ],
            "text/html": [
              "\n",
              "  <div id=\"df-9a1ed7e7-7757-4e5f-958d-f70feab7cdc6\">\n",
              "    <div class=\"colab-df-container\">\n",
              "      <div>\n",
              "<style scoped>\n",
              "    .dataframe tbody tr th:only-of-type {\n",
              "        vertical-align: middle;\n",
              "    }\n",
              "\n",
              "    .dataframe tbody tr th {\n",
              "        vertical-align: top;\n",
              "    }\n",
              "\n",
              "    .dataframe thead th {\n",
              "        text-align: right;\n",
              "    }\n",
              "</style>\n",
              "<table border=\"1\" class=\"dataframe\">\n",
              "  <thead>\n",
              "    <tr style=\"text-align: right;\">\n",
              "      <th></th>\n",
              "      <th>time_in_hospital</th>\n",
              "      <th>num_lab_procedures</th>\n",
              "      <th>num_procedures</th>\n",
              "      <th>num_medications</th>\n",
              "      <th>number_diagnoses</th>\n",
              "      <th>gender_Female</th>\n",
              "      <th>discharge_disposition_id_Discharged to Home</th>\n",
              "      <th>change_Ch</th>\n",
              "      <th>diabetesMed_No</th>\n",
              "      <th>medicare_False</th>\n",
              "      <th>...</th>\n",
              "      <th>max_glu_serum_None</th>\n",
              "      <th>max_glu_serum_Norm</th>\n",
              "      <th>A1Cresult_&gt;7</th>\n",
              "      <th>A1Cresult_&gt;8</th>\n",
              "      <th>A1Cresult_None</th>\n",
              "      <th>A1Cresult_Norm</th>\n",
              "      <th>insulin_Down</th>\n",
              "      <th>insulin_No</th>\n",
              "      <th>insulin_Steady</th>\n",
              "      <th>insulin_Up</th>\n",
              "    </tr>\n",
              "  </thead>\n",
              "  <tbody>\n",
              "    <tr>\n",
              "      <th>65884</th>\n",
              "      <td>3</td>\n",
              "      <td>49</td>\n",
              "      <td>6</td>\n",
              "      <td>27</td>\n",
              "      <td>9</td>\n",
              "      <td>0</td>\n",
              "      <td>1</td>\n",
              "      <td>1</td>\n",
              "      <td>0</td>\n",
              "      <td>1</td>\n",
              "      <td>...</td>\n",
              "      <td>1</td>\n",
              "      <td>0</td>\n",
              "      <td>0</td>\n",
              "      <td>0</td>\n",
              "      <td>1</td>\n",
              "      <td>0</td>\n",
              "      <td>0</td>\n",
              "      <td>0</td>\n",
              "      <td>0</td>\n",
              "      <td>1</td>\n",
              "    </tr>\n",
              "    <tr>\n",
              "      <th>86278</th>\n",
              "      <td>5</td>\n",
              "      <td>57</td>\n",
              "      <td>0</td>\n",
              "      <td>21</td>\n",
              "      <td>9</td>\n",
              "      <td>1</td>\n",
              "      <td>0</td>\n",
              "      <td>1</td>\n",
              "      <td>0</td>\n",
              "      <td>0</td>\n",
              "      <td>...</td>\n",
              "      <td>1</td>\n",
              "      <td>0</td>\n",
              "      <td>0</td>\n",
              "      <td>0</td>\n",
              "      <td>1</td>\n",
              "      <td>0</td>\n",
              "      <td>0</td>\n",
              "      <td>1</td>\n",
              "      <td>0</td>\n",
              "      <td>0</td>\n",
              "    </tr>\n",
              "    <tr>\n",
              "      <th>30000</th>\n",
              "      <td>4</td>\n",
              "      <td>37</td>\n",
              "      <td>2</td>\n",
              "      <td>9</td>\n",
              "      <td>5</td>\n",
              "      <td>0</td>\n",
              "      <td>1</td>\n",
              "      <td>0</td>\n",
              "      <td>1</td>\n",
              "      <td>1</td>\n",
              "      <td>...</td>\n",
              "      <td>1</td>\n",
              "      <td>0</td>\n",
              "      <td>0</td>\n",
              "      <td>0</td>\n",
              "      <td>1</td>\n",
              "      <td>0</td>\n",
              "      <td>0</td>\n",
              "      <td>1</td>\n",
              "      <td>0</td>\n",
              "      <td>0</td>\n",
              "    </tr>\n",
              "    <tr>\n",
              "      <th>51185</th>\n",
              "      <td>9</td>\n",
              "      <td>61</td>\n",
              "      <td>6</td>\n",
              "      <td>27</td>\n",
              "      <td>9</td>\n",
              "      <td>0</td>\n",
              "      <td>0</td>\n",
              "      <td>1</td>\n",
              "      <td>0</td>\n",
              "      <td>1</td>\n",
              "      <td>...</td>\n",
              "      <td>1</td>\n",
              "      <td>0</td>\n",
              "      <td>0</td>\n",
              "      <td>1</td>\n",
              "      <td>0</td>\n",
              "      <td>0</td>\n",
              "      <td>0</td>\n",
              "      <td>1</td>\n",
              "      <td>0</td>\n",
              "      <td>0</td>\n",
              "    </tr>\n",
              "    <tr>\n",
              "      <th>53902</th>\n",
              "      <td>7</td>\n",
              "      <td>23</td>\n",
              "      <td>0</td>\n",
              "      <td>13</td>\n",
              "      <td>7</td>\n",
              "      <td>1</td>\n",
              "      <td>1</td>\n",
              "      <td>0</td>\n",
              "      <td>0</td>\n",
              "      <td>0</td>\n",
              "      <td>...</td>\n",
              "      <td>1</td>\n",
              "      <td>0</td>\n",
              "      <td>0</td>\n",
              "      <td>0</td>\n",
              "      <td>1</td>\n",
              "      <td>0</td>\n",
              "      <td>0</td>\n",
              "      <td>1</td>\n",
              "      <td>0</td>\n",
              "      <td>0</td>\n",
              "    </tr>\n",
              "  </tbody>\n",
              "</table>\n",
              "<p>5 rows × 49 columns</p>\n",
              "</div>\n",
              "      <button class=\"colab-df-convert\" onclick=\"convertToInteractive('df-9a1ed7e7-7757-4e5f-958d-f70feab7cdc6')\"\n",
              "              title=\"Convert this dataframe to an interactive table.\"\n",
              "              style=\"display:none;\">\n",
              "        \n",
              "  <svg xmlns=\"http://www.w3.org/2000/svg\" height=\"24px\"viewBox=\"0 0 24 24\"\n",
              "       width=\"24px\">\n",
              "    <path d=\"M0 0h24v24H0V0z\" fill=\"none\"/>\n",
              "    <path d=\"M18.56 5.44l.94 2.06.94-2.06 2.06-.94-2.06-.94-.94-2.06-.94 2.06-2.06.94zm-11 1L8.5 8.5l.94-2.06 2.06-.94-2.06-.94L8.5 2.5l-.94 2.06-2.06.94zm10 10l.94 2.06.94-2.06 2.06-.94-2.06-.94-.94-2.06-.94 2.06-2.06.94z\"/><path d=\"M17.41 7.96l-1.37-1.37c-.4-.4-.92-.59-1.43-.59-.52 0-1.04.2-1.43.59L10.3 9.45l-7.72 7.72c-.78.78-.78 2.05 0 2.83L4 21.41c.39.39.9.59 1.41.59.51 0 1.02-.2 1.41-.59l7.78-7.78 2.81-2.81c.8-.78.8-2.07 0-2.86zM5.41 20L4 18.59l7.72-7.72 1.47 1.35L5.41 20z\"/>\n",
              "  </svg>\n",
              "      </button>\n",
              "      \n",
              "  <style>\n",
              "    .colab-df-container {\n",
              "      display:flex;\n",
              "      flex-wrap:wrap;\n",
              "      gap: 12px;\n",
              "    }\n",
              "\n",
              "    .colab-df-convert {\n",
              "      background-color: #E8F0FE;\n",
              "      border: none;\n",
              "      border-radius: 50%;\n",
              "      cursor: pointer;\n",
              "      display: none;\n",
              "      fill: #1967D2;\n",
              "      height: 32px;\n",
              "      padding: 0 0 0 0;\n",
              "      width: 32px;\n",
              "    }\n",
              "\n",
              "    .colab-df-convert:hover {\n",
              "      background-color: #E2EBFA;\n",
              "      box-shadow: 0px 1px 2px rgba(60, 64, 67, 0.3), 0px 1px 3px 1px rgba(60, 64, 67, 0.15);\n",
              "      fill: #174EA6;\n",
              "    }\n",
              "\n",
              "    [theme=dark] .colab-df-convert {\n",
              "      background-color: #3B4455;\n",
              "      fill: #D2E3FC;\n",
              "    }\n",
              "\n",
              "    [theme=dark] .colab-df-convert:hover {\n",
              "      background-color: #434B5C;\n",
              "      box-shadow: 0px 1px 3px 1px rgba(0, 0, 0, 0.15);\n",
              "      filter: drop-shadow(0px 1px 2px rgba(0, 0, 0, 0.3));\n",
              "      fill: #FFFFFF;\n",
              "    }\n",
              "  </style>\n",
              "\n",
              "      <script>\n",
              "        const buttonEl =\n",
              "          document.querySelector('#df-9a1ed7e7-7757-4e5f-958d-f70feab7cdc6 button.colab-df-convert');\n",
              "        buttonEl.style.display =\n",
              "          google.colab.kernel.accessAllowed ? 'block' : 'none';\n",
              "\n",
              "        async function convertToInteractive(key) {\n",
              "          const element = document.querySelector('#df-9a1ed7e7-7757-4e5f-958d-f70feab7cdc6');\n",
              "          const dataTable =\n",
              "            await google.colab.kernel.invokeFunction('convertToInteractive',\n",
              "                                                     [key], {});\n",
              "          if (!dataTable) return;\n",
              "\n",
              "          const docLinkHtml = 'Like what you see? Visit the ' +\n",
              "            '<a target=\"_blank\" href=https://colab.research.google.com/notebooks/data_table.ipynb>data table notebook</a>'\n",
              "            + ' to learn more about interactive tables.';\n",
              "          element.innerHTML = '';\n",
              "          dataTable['output_type'] = 'display_data';\n",
              "          await google.colab.output.renderOutput(dataTable, element);\n",
              "          const docLink = document.createElement('div');\n",
              "          docLink.innerHTML = docLinkHtml;\n",
              "          element.appendChild(docLink);\n",
              "        }\n",
              "      </script>\n",
              "    </div>\n",
              "  </div>\n",
              "  "
            ]
          },
          "metadata": {}
        }
      ]
    },
    {
      "cell_type": "markdown",
      "source": [
        " # TODO: Split train, test data 80 train / 20 test \n"
      ],
      "metadata": {
        "id": "pLg6BiVp652g"
      }
    },
    {
      "cell_type": "code",
      "source": [
        "# write your code here \n",
        "\n",
        "X_train, X_test, y_train, y_test = train_test_split(x_numeric, y_raw, test_size=0.2, random_state=42)\n",
        "\n",
        "#test_size 20 percent as parameter"
      ],
      "metadata": {
        "id": "OTP3ues-L0bm"
      },
      "execution_count": 55,
      "outputs": []
    },
    {
      "cell_type": "markdown",
      "metadata": {
        "id": "FaQZc9mkDBQc"
      },
      "source": [
        "# Problem 2, Part (a) \n",
        "### **Train a baseline Random Forest (RF) (sklearn RandomForestClassifier) model and report metrics**"
      ]
    },
    {
      "cell_type": "markdown",
      "metadata": {
        "id": "J_9U8nMU3pg0"
      },
      "source": [
        "### Train a random forest model - Baseline"
      ]
    },
    {
      "cell_type": "code",
      "source": [
        "# write your code here \n",
        "# initialize a model with RandomForestClassifier \n",
        "n_estimators = 1\n",
        "\n",
        "# train the model with the training data split\n",
        "randomf_clf = RandomForestClassifier(n_estimators=n_estimators, random_state=42)\n",
        "\n",
        "# Train the classifier using the training data\n",
        "randomf_clf.fit(X_train, y_train)\n",
        "\n"
      ],
      "metadata": {
        "id": "mftji5ws6z-O",
        "colab": {
          "base_uri": "https://localhost:8080/",
          "height": 74
        },
        "outputId": "d0995924-d26c-4fe4-923f-c6fae451877b"
      },
      "execution_count": 69,
      "outputs": [
        {
          "output_type": "execute_result",
          "data": {
            "text/plain": [
              "RandomForestClassifier(n_estimators=1, random_state=42)"
            ],
            "text/html": [
              "<style>#sk-container-id-5 {color: black;background-color: white;}#sk-container-id-5 pre{padding: 0;}#sk-container-id-5 div.sk-toggleable {background-color: white;}#sk-container-id-5 label.sk-toggleable__label {cursor: pointer;display: block;width: 100%;margin-bottom: 0;padding: 0.3em;box-sizing: border-box;text-align: center;}#sk-container-id-5 label.sk-toggleable__label-arrow:before {content: \"▸\";float: left;margin-right: 0.25em;color: #696969;}#sk-container-id-5 label.sk-toggleable__label-arrow:hover:before {color: black;}#sk-container-id-5 div.sk-estimator:hover label.sk-toggleable__label-arrow:before {color: black;}#sk-container-id-5 div.sk-toggleable__content {max-height: 0;max-width: 0;overflow: hidden;text-align: left;background-color: #f0f8ff;}#sk-container-id-5 div.sk-toggleable__content pre {margin: 0.2em;color: black;border-radius: 0.25em;background-color: #f0f8ff;}#sk-container-id-5 input.sk-toggleable__control:checked~div.sk-toggleable__content {max-height: 200px;max-width: 100%;overflow: auto;}#sk-container-id-5 input.sk-toggleable__control:checked~label.sk-toggleable__label-arrow:before {content: \"▾\";}#sk-container-id-5 div.sk-estimator input.sk-toggleable__control:checked~label.sk-toggleable__label {background-color: #d4ebff;}#sk-container-id-5 div.sk-label input.sk-toggleable__control:checked~label.sk-toggleable__label {background-color: #d4ebff;}#sk-container-id-5 input.sk-hidden--visually {border: 0;clip: rect(1px 1px 1px 1px);clip: rect(1px, 1px, 1px, 1px);height: 1px;margin: -1px;overflow: hidden;padding: 0;position: absolute;width: 1px;}#sk-container-id-5 div.sk-estimator {font-family: monospace;background-color: #f0f8ff;border: 1px dotted black;border-radius: 0.25em;box-sizing: border-box;margin-bottom: 0.5em;}#sk-container-id-5 div.sk-estimator:hover {background-color: #d4ebff;}#sk-container-id-5 div.sk-parallel-item::after {content: \"\";width: 100%;border-bottom: 1px solid gray;flex-grow: 1;}#sk-container-id-5 div.sk-label:hover label.sk-toggleable__label {background-color: #d4ebff;}#sk-container-id-5 div.sk-serial::before {content: \"\";position: absolute;border-left: 1px solid gray;box-sizing: border-box;top: 0;bottom: 0;left: 50%;z-index: 0;}#sk-container-id-5 div.sk-serial {display: flex;flex-direction: column;align-items: center;background-color: white;padding-right: 0.2em;padding-left: 0.2em;position: relative;}#sk-container-id-5 div.sk-item {position: relative;z-index: 1;}#sk-container-id-5 div.sk-parallel {display: flex;align-items: stretch;justify-content: center;background-color: white;position: relative;}#sk-container-id-5 div.sk-item::before, #sk-container-id-5 div.sk-parallel-item::before {content: \"\";position: absolute;border-left: 1px solid gray;box-sizing: border-box;top: 0;bottom: 0;left: 50%;z-index: -1;}#sk-container-id-5 div.sk-parallel-item {display: flex;flex-direction: column;z-index: 1;position: relative;background-color: white;}#sk-container-id-5 div.sk-parallel-item:first-child::after {align-self: flex-end;width: 50%;}#sk-container-id-5 div.sk-parallel-item:last-child::after {align-self: flex-start;width: 50%;}#sk-container-id-5 div.sk-parallel-item:only-child::after {width: 0;}#sk-container-id-5 div.sk-dashed-wrapped {border: 1px dashed gray;margin: 0 0.4em 0.5em 0.4em;box-sizing: border-box;padding-bottom: 0.4em;background-color: white;}#sk-container-id-5 div.sk-label label {font-family: monospace;font-weight: bold;display: inline-block;line-height: 1.2em;}#sk-container-id-5 div.sk-label-container {text-align: center;}#sk-container-id-5 div.sk-container {/* jupyter's `normalize.less` sets `[hidden] { display: none; }` but bootstrap.min.css set `[hidden] { display: none !important; }` so we also need the `!important` here to be able to override the default hidden behavior on the sphinx rendered scikit-learn.org. See: https://github.com/scikit-learn/scikit-learn/issues/21755 */display: inline-block !important;position: relative;}#sk-container-id-5 div.sk-text-repr-fallback {display: none;}</style><div id=\"sk-container-id-5\" class=\"sk-top-container\"><div class=\"sk-text-repr-fallback\"><pre>RandomForestClassifier(n_estimators=1, random_state=42)</pre><b>In a Jupyter environment, please rerun this cell to show the HTML representation or trust the notebook. <br />On GitHub, the HTML representation is unable to render, please try loading this page with nbviewer.org.</b></div><div class=\"sk-container\" hidden><div class=\"sk-item\"><div class=\"sk-estimator sk-toggleable\"><input class=\"sk-toggleable__control sk-hidden--visually\" id=\"sk-estimator-id-5\" type=\"checkbox\" checked><label for=\"sk-estimator-id-5\" class=\"sk-toggleable__label sk-toggleable__label-arrow\">RandomForestClassifier</label><div class=\"sk-toggleable__content\"><pre>RandomForestClassifier(n_estimators=1, random_state=42)</pre></div></div></div></div></div>"
            ]
          },
          "metadata": {},
          "execution_count": 69
        }
      ]
    },
    {
      "cell_type": "markdown",
      "source": [
        "### Report metrics"
      ],
      "metadata": {
        "id": "HnLhqs6z1ASV"
      }
    },
    {
      "cell_type": "markdown",
      "source": [
        "Calculate metrics with Fairlearn MetricFrame\n"
      ],
      "metadata": {
        "id": "8jtZt43BOv0C"
      }
    },
    {
      "cell_type": "code",
      "source": [
        "# write your code here \n",
        "\n",
        "# get model's prediction for the test set\n",
        "y_pred_baseline = randomf_clf.predict(X_test)\n",
        "\n",
        "sensitive_feature = X_test['gender_Female'].replace({1:'female', 0:'male'})\n",
        "\n",
        "#evaluation metrics\n",
        "metrics = {'accuracy': accuracy_score,\n",
        "           'precision': precision_score,\n",
        "           'recall':recall_score,\n",
        "           'FNR': false_negative_rate,\n",
        "           'FPR': false_positive_rate,\n",
        "           }\n",
        "\n",
        "#metric_dict = {}\n",
        "#sample_params = {}\n",
        "\n",
        "grouped_by_sex = MetricFrame(metrics=metrics,\n",
        "                             y_true=y_test,\n",
        "                             y_pred=y_pred_baseline,\n",
        "                             sensitive_features = sensitive_feature)\n",
        "\n",
        "grouped_by_sex.by_group.plot.bar(\n",
        "    subplots=True, \n",
        "    figsize=(5, 10), \n",
        "    ylim=[0,1],\n",
        "    title=\"Metrics by Sex\",\n",
        "    )\n",
        "\n",
        "print(grouped_by_sex.overall[0])\n",
        "plt.show()"
      ],
      "metadata": {
        "id": "-o-cdBqa-9lX",
        "colab": {
          "base_uri": "https://localhost:8080/",
          "height": 721
        },
        "outputId": "1c59129b-fd07-4f84-a14e-c245854731ee"
      },
      "execution_count": 70,
      "outputs": [
        {
          "output_type": "stream",
          "name": "stdout",
          "text": [
            "0.5260314341846758\n"
          ]
        },
        {
          "output_type": "display_data",
          "data": {
            "text/plain": [
              "<Figure size 360x720 with 5 Axes>"
            ],
            "image/png": "[encoded data removed]"
          },
          "metadata": {
            "needs_background": "light"
          }
        }
      ]
    },
    {
      "cell_type": "markdown",
      "source": [
        "Print Results"
      ],
      "metadata": {
        "id": "0wXnL70HO0nc"
      }
    },
    {
      "cell_type": "code",
      "source": [
        "grouped_by_sex.overall"
      ],
      "metadata": {
        "colab": {
          "base_uri": "https://localhost:8080/"
        },
        "id": "FXjJYEvxtcm3",
        "outputId": "921f8d20-9fa9-424f-8fe2-eb91f0031156"
      },
      "execution_count": 71,
      "outputs": [
        {
          "output_type": "execute_result",
          "data": {
            "text/plain": [
              "accuracy     0.526031\n",
              "precision    0.505920\n",
              "recall       0.481557\n",
              "FNR          0.518443\n",
              "FPR          0.433019\n",
              "dtype: float64"
            ]
          },
          "metadata": {},
          "execution_count": 71
        }
      ]
    },
    {
      "cell_type": "code",
      "source": [
        "grouped_by_sex.by_group"
      ],
      "metadata": {
        "colab": {
          "base_uri": "https://localhost:8080/",
          "height": 143
        },
        "id": "MOmzzL4Ut5Pl",
        "outputId": "f802da5f-8164-4ff2-fb9a-1cb7b63abacf"
      },
      "execution_count": 72,
      "outputs": [
        {
          "output_type": "execute_result",
          "data": {
            "text/plain": [
              "               accuracy  precision    recall       FNR       FPR\n",
              "gender_Female                                                   \n",
              "female         0.535965   0.549133  0.491379  0.508621  0.417857\n",
              "male           0.513393   0.451220  0.467172  0.532828  0.450000"
            ],
            "text/html": [
              "\n",
              "  <div id=\"df-6296b1a9-4286-42fd-a448-80a06cdf152c\">\n",
              "    <div class=\"colab-df-container\">\n",
              "      <div>\n",
              "<style scoped>\n",
              "    .dataframe tbody tr th:only-of-type {\n",
              "        vertical-align: middle;\n",
              "    }\n",
              "\n",
              "    .dataframe tbody tr th {\n",
              "        vertical-align: top;\n",
              "    }\n",
              "\n",
              "    .dataframe thead th {\n",
              "        text-align: right;\n",
              "    }\n",
              "</style>\n",
              "<table border=\"1\" class=\"dataframe\">\n",
              "  <thead>\n",
              "    <tr style=\"text-align: right;\">\n",
              "      <th></th>\n",
              "      <th>accuracy</th>\n",
              "      <th>precision</th>\n",
              "      <th>recall</th>\n",
              "      <th>FNR</th>\n",
              "      <th>FPR</th>\n",
              "    </tr>\n",
              "    <tr>\n",
              "      <th>gender_Female</th>\n",
              "      <th></th>\n",
              "      <th></th>\n",
              "      <th></th>\n",
              "      <th></th>\n",
              "      <th></th>\n",
              "    </tr>\n",
              "  </thead>\n",
              "  <tbody>\n",
              "    <tr>\n",
              "      <th>female</th>\n",
              "      <td>0.535965</td>\n",
              "      <td>0.549133</td>\n",
              "      <td>0.491379</td>\n",
              "      <td>0.508621</td>\n",
              "      <td>0.417857</td>\n",
              "    </tr>\n",
              "    <tr>\n",
              "      <th>male</th>\n",
              "      <td>0.513393</td>\n",
              "      <td>0.451220</td>\n",
              "      <td>0.467172</td>\n",
              "      <td>0.532828</td>\n",
              "      <td>0.450000</td>\n",
              "    </tr>\n",
              "  </tbody>\n",
              "</table>\n",
              "</div>\n",
              "      <button class=\"colab-df-convert\" onclick=\"convertToInteractive('df-6296b1a9-4286-42fd-a448-80a06cdf152c')\"\n",
              "              title=\"Convert this dataframe to an interactive table.\"\n",
              "              style=\"display:none;\">\n",
              "        \n",
              "  <svg xmlns=\"http://www.w3.org/2000/svg\" height=\"24px\"viewBox=\"0 0 24 24\"\n",
              "       width=\"24px\">\n",
              "    <path d=\"M0 0h24v24H0V0z\" fill=\"none\"/>\n",
              "    <path d=\"M18.56 5.44l.94 2.06.94-2.06 2.06-.94-2.06-.94-.94-2.06-.94 2.06-2.06.94zm-11 1L8.5 8.5l.94-2.06 2.06-.94-2.06-.94L8.5 2.5l-.94 2.06-2.06.94zm10 10l.94 2.06.94-2.06 2.06-.94-2.06-.94-.94-2.06-.94 2.06-2.06.94z\"/><path d=\"M17.41 7.96l-1.37-1.37c-.4-.4-.92-.59-1.43-.59-.52 0-1.04.2-1.43.59L10.3 9.45l-7.72 7.72c-.78.78-.78 2.05 0 2.83L4 21.41c.39.39.9.59 1.41.59.51 0 1.02-.2 1.41-.59l7.78-7.78 2.81-2.81c.8-.78.8-2.07 0-2.86zM5.41 20L4 18.59l7.72-7.72 1.47 1.35L5.41 20z\"/>\n",
              "  </svg>\n",
              "      </button>\n",
              "      \n",
              "  <style>\n",
              "    .colab-df-container {\n",
              "      display:flex;\n",
              "      flex-wrap:wrap;\n",
              "      gap: 12px;\n",
              "    }\n",
              "\n",
              "    .colab-df-convert {\n",
              "      background-color: #E8F0FE;\n",
              "      border: none;\n",
              "      border-radius: 50%;\n",
              "      cursor: pointer;\n",
              "      display: none;\n",
              "      fill: #1967D2;\n",
              "      height: 32px;\n",
              "      padding: 0 0 0 0;\n",
              "      width: 32px;\n",
              "    }\n",
              "\n",
              "    .colab-df-convert:hover {\n",
              "      background-color: #E2EBFA;\n",
              "      box-shadow: 0px 1px 2px rgba(60, 64, 67, 0.3), 0px 1px 3px 1px rgba(60, 64, 67, 0.15);\n",
              "      fill: #174EA6;\n",
              "    }\n",
              "\n",
              "    [theme=dark] .colab-df-convert {\n",
              "      background-color: #3B4455;\n",
              "      fill: #D2E3FC;\n",
              "    }\n",
              "\n",
              "    [theme=dark] .colab-df-convert:hover {\n",
              "      background-color: #434B5C;\n",
              "      box-shadow: 0px 1px 3px 1px rgba(0, 0, 0, 0.15);\n",
              "      filter: drop-shadow(0px 1px 2px rgba(0, 0, 0, 0.3));\n",
              "      fill: #FFFFFF;\n",
              "    }\n",
              "  </style>\n",
              "\n",
              "      <script>\n",
              "        const buttonEl =\n",
              "          document.querySelector('#df-6296b1a9-4286-42fd-a448-80a06cdf152c button.colab-df-convert');\n",
              "        buttonEl.style.display =\n",
              "          google.colab.kernel.accessAllowed ? 'block' : 'none';\n",
              "\n",
              "        async function convertToInteractive(key) {\n",
              "          const element = document.querySelector('#df-6296b1a9-4286-42fd-a448-80a06cdf152c');\n",
              "          const dataTable =\n",
              "            await google.colab.kernel.invokeFunction('convertToInteractive',\n",
              "                                                     [key], {});\n",
              "          if (!dataTable) return;\n",
              "\n",
              "          const docLinkHtml = 'Like what you see? Visit the ' +\n",
              "            '<a target=\"_blank\" href=https://colab.research.google.com/notebooks/data_table.ipynb>data table notebook</a>'\n",
              "            + ' to learn more about interactive tables.';\n",
              "          element.innerHTML = '';\n",
              "          dataTable['output_type'] = 'display_data';\n",
              "          await google.colab.output.renderOutput(dataTable, element);\n",
              "          const docLink = document.createElement('div');\n",
              "          docLink.innerHTML = docLinkHtml;\n",
              "          element.appendChild(docLink);\n",
              "        }\n",
              "      </script>\n",
              "    </div>\n",
              "  </div>\n",
              "  "
            ]
          },
          "metadata": {},
          "execution_count": 72
        }
      ]
    },
    {
      "cell_type": "code",
      "source": [
        "#now we show additional metrics\n",
        "false_negative_rate_diff = false_negative_rate_difference(y_test, y_pred_baseline, sensitive_features= X_test['gender_Female'])\n",
        "print(f'false_negative_rate_diff: {false_negative_rate_diff:.4f}')\n",
        "\n",
        "false_positive_rate_diff = false_positive_rate_difference(y_test, y_pred_baseline, sensitive_features= X_test['gender_Female'])\n",
        "print(f'false_positive_rate_diff: {false_negative_rate_diff:.4f}')\n",
        "\n",
        "demo_parity_ratio = demographic_parity_ratio(y_test, y_pred_baseline, sensitive_features= X_test['gender_Female'])\n",
        "print(f'demographic_parity_ratio: {demo_parity_ratio:.4f}')\n",
        "\n",
        "equal_odds_ratio = equalized_odds_ratio(y_test, y_pred_baseline, sensitive_features= X_test['gender_Female'])\n",
        "print(f'equalized_odds_ratio: {equal_odds_ratio:.4f}')\n",
        "\n",
        "selection_rate_diff = selection_rate_difference(y_test, y_pred_baseline, sensitive_features= X_test['gender_Female'])\n",
        "print(f'selection_rate_difference: {selection_rate_diff:.4f}')"
      ],
      "metadata": {
        "colab": {
          "base_uri": "https://localhost:8080/"
        },
        "id": "hYZ1VMpc6uHv",
        "outputId": "01c429d4-2e91-465e-f457-6e52f8629b2a"
      },
      "execution_count": 73,
      "outputs": [
        {
          "output_type": "stream",
          "name": "stdout",
          "text": [
            "false_negative_rate_diff: 0.0242\n",
            "false_positive_rate_diff: 0.0242\n",
            "demographic_parity_ratio: 0.9949\n",
            "equalized_odds_ratio: 0.9286\n",
            "selection_rate_difference: 0.0023\n"
          ]
        }
      ]
    },
    {
      "cell_type": "code",
      "source": [
        "untuned_forest = {'accuracy':grouped_by_sex.overall['accuracy'],\n",
        "                'precision':grouped_by_sex.overall['precision'],\n",
        "                'recall':grouped_by_sex.overall['recall'],\n",
        "                'FNR':grouped_by_sex.overall['FNR'],\n",
        "                'FPR':grouped_by_sex.overall['FPR'],\n",
        "                \n",
        "                'false_negative_rate_difference':false_negative_rate_diff,\n",
        "                'false_positive_rate_difference':false_positive_rate_diff,\n",
        "                'demographic_parity_ratio':demo_parity_ratio,\n",
        "                'equalized_odds_ratio':equal_odds_ratio,\n",
        "                'selection_rate_difference':selection_rate_diff}"
      ],
      "metadata": {
        "id": "DZNcLleMIHOq"
      },
      "execution_count": 80,
      "outputs": []
    },
    {
      "cell_type": "code",
      "source": [
        "untuned_forest"
      ],
      "metadata": {
        "colab": {
          "base_uri": "https://localhost:8080/"
        },
        "id": "z5Kc5W-PIeAd",
        "outputId": "63093786-1780-4603-e045-cc4644304f9b"
      },
      "execution_count": 81,
      "outputs": [
        {
          "output_type": "execute_result",
          "data": {
            "text/plain": [
              "{'accuracy': 0.5260314341846758,\n",
              " 'precision': 0.5059203444564048,\n",
              " 'recall': 0.48155737704918034,\n",
              " 'FNR': 0.5184426229508197,\n",
              " 'FPR': 0.4330188679245283,\n",
              " 'false_negative_rate_difference': 0.024207593173110498,\n",
              " 'false_positive_rate_difference': 0.03214285714285714,\n",
              " 'demographic_parity_ratio': 0.9949165596919128,\n",
              " 'equalized_odds_ratio': 0.9285714285714286,\n",
              " 'selection_rate_difference': 0.002326127819548829}"
            ]
          },
          "metadata": {},
          "execution_count": 81
        }
      ]
    },
    {
      "cell_type": "markdown",
      "source": [
        "##DISCUSS\n",
        "\n",
        "very low accuracy across groups, 0.50 range is not something you want to rely on, so this model without tunning is not preforming properly. Moreover, in regards to the rest of the metrics, there is a positive bias for being a man, having a higher FPR than women. So even though it might have improved bias, it is still considerable and something to handle\n",
        "\n"
      ],
      "metadata": {
        "id": "pm0FRB8JwYg5"
      }
    },
    {
      "cell_type": "markdown",
      "source": [
        "# Problem 2, Part (b)"
      ],
      "metadata": {
        "id": "pDinJweUQT-w"
      }
    },
    {
      "cell_type": "markdown",
      "source": [
        "Train another classifier with the following value of hyperparameters"
      ],
      "metadata": {
        "id": "Kh1ruIp8Woyf"
      }
    },
    {
      "cell_type": "code",
      "source": [
        "# write your code here \n",
        "n_estimators = 1000\n",
        "max_depth = 10\n",
        "\n",
        "randomf_clf = RandomForestClassifier(n_estimators=n_estimators,max_depth=max_depth, random_state=42)\n",
        "\n",
        "# Train the classifier using the training data\n",
        "randomf_clf.fit(X_train, y_train)"
      ],
      "metadata": {
        "id": "1bGhluekQU8v",
        "colab": {
          "base_uri": "https://localhost:8080/",
          "height": 74
        },
        "outputId": "7c654015-b0e2-4957-aed4-1ec47c2abf1b"
      },
      "execution_count": 82,
      "outputs": [
        {
          "output_type": "execute_result",
          "data": {
            "text/plain": [
              "RandomForestClassifier(max_depth=10, n_estimators=1000, random_state=42)"
            ],
            "text/html": [
              "<style>#sk-container-id-6 {color: black;background-color: white;}#sk-container-id-6 pre{padding: 0;}#sk-container-id-6 div.sk-toggleable {background-color: white;}#sk-container-id-6 label.sk-toggleable__label {cursor: pointer;display: block;width: 100%;margin-bottom: 0;padding: 0.3em;box-sizing: border-box;text-align: center;}#sk-container-id-6 label.sk-toggleable__label-arrow:before {content: \"▸\";float: left;margin-right: 0.25em;color: #696969;}#sk-container-id-6 label.sk-toggleable__label-arrow:hover:before {color: black;}#sk-container-id-6 div.sk-estimator:hover label.sk-toggleable__label-arrow:before {color: black;}#sk-container-id-6 div.sk-toggleable__content {max-height: 0;max-width: 0;overflow: hidden;text-align: left;background-color: #f0f8ff;}#sk-container-id-6 div.sk-toggleable__content pre {margin: 0.2em;color: black;border-radius: 0.25em;background-color: #f0f8ff;}#sk-container-id-6 input.sk-toggleable__control:checked~div.sk-toggleable__content {max-height: 200px;max-width: 100%;overflow: auto;}#sk-container-id-6 input.sk-toggleable__control:checked~label.sk-toggleable__label-arrow:before {content: \"▾\";}#sk-container-id-6 div.sk-estimator input.sk-toggleable__control:checked~label.sk-toggleable__label {background-color: #d4ebff;}#sk-container-id-6 div.sk-label input.sk-toggleable__control:checked~label.sk-toggleable__label {background-color: #d4ebff;}#sk-container-id-6 input.sk-hidden--visually {border: 0;clip: rect(1px 1px 1px 1px);clip: rect(1px, 1px, 1px, 1px);height: 1px;margin: -1px;overflow: hidden;padding: 0;position: absolute;width: 1px;}#sk-container-id-6 div.sk-estimator {font-family: monospace;background-color: #f0f8ff;border: 1px dotted black;border-radius: 0.25em;box-sizing: border-box;margin-bottom: 0.5em;}#sk-container-id-6 div.sk-estimator:hover {background-color: #d4ebff;}#sk-container-id-6 div.sk-parallel-item::after {content: \"\";width: 100%;border-bottom: 1px solid gray;flex-grow: 1;}#sk-container-id-6 div.sk-label:hover label.sk-toggleable__label {background-color: #d4ebff;}#sk-container-id-6 div.sk-serial::before {content: \"\";position: absolute;border-left: 1px solid gray;box-sizing: border-box;top: 0;bottom: 0;left: 50%;z-index: 0;}#sk-container-id-6 div.sk-serial {display: flex;flex-direction: column;align-items: center;background-color: white;padding-right: 0.2em;padding-left: 0.2em;position: relative;}#sk-container-id-6 div.sk-item {position: relative;z-index: 1;}#sk-container-id-6 div.sk-parallel {display: flex;align-items: stretch;justify-content: center;background-color: white;position: relative;}#sk-container-id-6 div.sk-item::before, #sk-container-id-6 div.sk-parallel-item::before {content: \"\";position: absolute;border-left: 1px solid gray;box-sizing: border-box;top: 0;bottom: 0;left: 50%;z-index: -1;}#sk-container-id-6 div.sk-parallel-item {display: flex;flex-direction: column;z-index: 1;position: relative;background-color: white;}#sk-container-id-6 div.sk-parallel-item:first-child::after {align-self: flex-end;width: 50%;}#sk-container-id-6 div.sk-parallel-item:last-child::after {align-self: flex-start;width: 50%;}#sk-container-id-6 div.sk-parallel-item:only-child::after {width: 0;}#sk-container-id-6 div.sk-dashed-wrapped {border: 1px dashed gray;margin: 0 0.4em 0.5em 0.4em;box-sizing: border-box;padding-bottom: 0.4em;background-color: white;}#sk-container-id-6 div.sk-label label {font-family: monospace;font-weight: bold;display: inline-block;line-height: 1.2em;}#sk-container-id-6 div.sk-label-container {text-align: center;}#sk-container-id-6 div.sk-container {/* jupyter's `normalize.less` sets `[hidden] { display: none; }` but bootstrap.min.css set `[hidden] { display: none !important; }` so we also need the `!important` here to be able to override the default hidden behavior on the sphinx rendered scikit-learn.org. See: https://github.com/scikit-learn/scikit-learn/issues/21755 */display: inline-block !important;position: relative;}#sk-container-id-6 div.sk-text-repr-fallback {display: none;}</style><div id=\"sk-container-id-6\" class=\"sk-top-container\"><div class=\"sk-text-repr-fallback\"><pre>RandomForestClassifier(max_depth=10, n_estimators=1000, random_state=42)</pre><b>In a Jupyter environment, please rerun this cell to show the HTML representation or trust the notebook. <br />On GitHub, the HTML representation is unable to render, please try loading this page with nbviewer.org.</b></div><div class=\"sk-container\" hidden><div class=\"sk-item\"><div class=\"sk-estimator sk-toggleable\"><input class=\"sk-toggleable__control sk-hidden--visually\" id=\"sk-estimator-id-6\" type=\"checkbox\" checked><label for=\"sk-estimator-id-6\" class=\"sk-toggleable__label sk-toggleable__label-arrow\">RandomForestClassifier</label><div class=\"sk-toggleable__content\"><pre>RandomForestClassifier(max_depth=10, n_estimators=1000, random_state=42)</pre></div></div></div></div></div>"
            ]
          },
          "metadata": {},
          "execution_count": 82
        }
      ]
    },
    {
      "cell_type": "markdown",
      "source": [
        "Calculate metrics with Fairlearn MetricFrame\n",
        "and print the results"
      ],
      "metadata": {
        "id": "GWn_275zUS28"
      }
    },
    {
      "cell_type": "code",
      "source": [
        "# write your code here \n",
        "\n",
        "# get model's prediction for the test set\n",
        "y_pred_baseline = randomf_clf.predict(X_test)\n",
        "\n",
        "sensitive_feature = X_test['gender_Female'].replace({1:'female', 0:'male'})\n",
        "\n",
        "#evaluation metrics\n",
        "metrics = {'accuracy': accuracy_score,\n",
        "           'precision': precision_score,\n",
        "           'recall':recall_score,\n",
        "           'FNR': false_negative_rate,\n",
        "           'FPR': false_positive_rate,\n",
        "           }\n",
        "\n",
        "#metric_dict = {}\n",
        "#sample_params = {}\n",
        "\n",
        "grouped_by_sex = MetricFrame(metrics=metrics,\n",
        "                             y_true=y_test,\n",
        "                             y_pred=y_pred_baseline,\n",
        "                             sensitive_features = sensitive_feature)\n",
        "\n",
        "grouped_by_sex.by_group.plot.bar(\n",
        "    subplots=True, \n",
        "    figsize=(5, 10), \n",
        "    ylim=[0,1],\n",
        "    title=\"Metrics by Sex\",\n",
        "    )\n",
        "\n",
        "print(grouped_by_sex.overall[0])\n",
        "plt.show()"
      ],
      "metadata": {
        "id": "URm6dK9VQVKj",
        "colab": {
          "base_uri": "https://localhost:8080/",
          "height": 721
        },
        "outputId": "11e184a1-758b-422e-a57a-ce3b07f27148"
      },
      "execution_count": 83,
      "outputs": [
        {
          "output_type": "stream",
          "name": "stdout",
          "text": [
            "0.6139489194499018\n"
          ]
        },
        {
          "output_type": "display_data",
          "data": {
            "text/plain": [
              "<Figure size 360x720 with 5 Axes>"
            ],
            "image/png": "[encoded data removed]"
          },
          "metadata": {
            "needs_background": "light"
          }
        }
      ]
    },
    {
      "cell_type": "code",
      "source": [
        "grouped_by_sex.overall"
      ],
      "metadata": {
        "colab": {
          "base_uri": "https://localhost:8080/"
        },
        "id": "Zzh_kVdluflD",
        "outputId": "4f374c36-acc7-4897-d1b0-9425edcf4123"
      },
      "execution_count": 84,
      "outputs": [
        {
          "output_type": "execute_result",
          "data": {
            "text/plain": [
              "accuracy     0.613949\n",
              "precision    0.635328\n",
              "recall       0.456967\n",
              "FNR          0.543033\n",
              "FPR          0.241509\n",
              "dtype: float64"
            ]
          },
          "metadata": {},
          "execution_count": 84
        }
      ]
    },
    {
      "cell_type": "code",
      "source": [
        "grouped_by_sex.by_group"
      ],
      "metadata": {
        "colab": {
          "base_uri": "https://localhost:8080/",
          "height": 143
        },
        "id": "73MmS27huhbg",
        "outputId": "8261c58a-40dc-40bc-9b9a-70f4db9f5ddc"
      },
      "execution_count": 85,
      "outputs": [
        {
          "output_type": "execute_result",
          "data": {
            "text/plain": [
              "               accuracy  precision    recall       FNR       FPR\n",
              "gender_Female                                                   \n",
              "female         0.621053   0.675355  0.491379  0.508621  0.244643\n",
              "male           0.604911   0.575000  0.406566  0.593434  0.238000"
            ],
            "text/html": [
              "\n",
              "  <div id=\"df-83acb73e-33ef-4f9c-a125-7d6c6fc884aa\">\n",
              "    <div class=\"colab-df-container\">\n",
              "      <div>\n",
              "<style scoped>\n",
              "    .dataframe tbody tr th:only-of-type {\n",
              "        vertical-align: middle;\n",
              "    }\n",
              "\n",
              "    .dataframe tbody tr th {\n",
              "        vertical-align: top;\n",
              "    }\n",
              "\n",
              "    .dataframe thead th {\n",
              "        text-align: right;\n",
              "    }\n",
              "</style>\n",
              "<table border=\"1\" class=\"dataframe\">\n",
              "  <thead>\n",
              "    <tr style=\"text-align: right;\">\n",
              "      <th></th>\n",
              "      <th>accuracy</th>\n",
              "      <th>precision</th>\n",
              "      <th>recall</th>\n",
              "      <th>FNR</th>\n",
              "      <th>FPR</th>\n",
              "    </tr>\n",
              "    <tr>\n",
              "      <th>gender_Female</th>\n",
              "      <th></th>\n",
              "      <th></th>\n",
              "      <th></th>\n",
              "      <th></th>\n",
              "      <th></th>\n",
              "    </tr>\n",
              "  </thead>\n",
              "  <tbody>\n",
              "    <tr>\n",
              "      <th>female</th>\n",
              "      <td>0.621053</td>\n",
              "      <td>0.675355</td>\n",
              "      <td>0.491379</td>\n",
              "      <td>0.508621</td>\n",
              "      <td>0.244643</td>\n",
              "    </tr>\n",
              "    <tr>\n",
              "      <th>male</th>\n",
              "      <td>0.604911</td>\n",
              "      <td>0.575000</td>\n",
              "      <td>0.406566</td>\n",
              "      <td>0.593434</td>\n",
              "      <td>0.238000</td>\n",
              "    </tr>\n",
              "  </tbody>\n",
              "</table>\n",
              "</div>\n",
              "      <button class=\"colab-df-convert\" onclick=\"convertToInteractive('df-83acb73e-33ef-4f9c-a125-7d6c6fc884aa')\"\n",
              "              title=\"Convert this dataframe to an interactive table.\"\n",
              "              style=\"display:none;\">\n",
              "        \n",
              "  <svg xmlns=\"http://www.w3.org/2000/svg\" height=\"24px\"viewBox=\"0 0 24 24\"\n",
              "       width=\"24px\">\n",
              "    <path d=\"M0 0h24v24H0V0z\" fill=\"none\"/>\n",
              "    <path d=\"M18.56 5.44l.94 2.06.94-2.06 2.06-.94-2.06-.94-.94-2.06-.94 2.06-2.06.94zm-11 1L8.5 8.5l.94-2.06 2.06-.94-2.06-.94L8.5 2.5l-.94 2.06-2.06.94zm10 10l.94 2.06.94-2.06 2.06-.94-2.06-.94-.94-2.06-.94 2.06-2.06.94z\"/><path d=\"M17.41 7.96l-1.37-1.37c-.4-.4-.92-.59-1.43-.59-.52 0-1.04.2-1.43.59L10.3 9.45l-7.72 7.72c-.78.78-.78 2.05 0 2.83L4 21.41c.39.39.9.59 1.41.59.51 0 1.02-.2 1.41-.59l7.78-7.78 2.81-2.81c.8-.78.8-2.07 0-2.86zM5.41 20L4 18.59l7.72-7.72 1.47 1.35L5.41 20z\"/>\n",
              "  </svg>\n",
              "      </button>\n",
              "      \n",
              "  <style>\n",
              "    .colab-df-container {\n",
              "      display:flex;\n",
              "      flex-wrap:wrap;\n",
              "      gap: 12px;\n",
              "    }\n",
              "\n",
              "    .colab-df-convert {\n",
              "      background-color: #E8F0FE;\n",
              "      border: none;\n",
              "      border-radius: 50%;\n",
              "      cursor: pointer;\n",
              "      display: none;\n",
              "      fill: #1967D2;\n",
              "      height: 32px;\n",
              "      padding: 0 0 0 0;\n",
              "      width: 32px;\n",
              "    }\n",
              "\n",
              "    .colab-df-convert:hover {\n",
              "      background-color: #E2EBFA;\n",
              "      box-shadow: 0px 1px 2px rgba(60, 64, 67, 0.3), 0px 1px 3px 1px rgba(60, 64, 67, 0.15);\n",
              "      fill: #174EA6;\n",
              "    }\n",
              "\n",
              "    [theme=dark] .colab-df-convert {\n",
              "      background-color: #3B4455;\n",
              "      fill: #D2E3FC;\n",
              "    }\n",
              "\n",
              "    [theme=dark] .colab-df-convert:hover {\n",
              "      background-color: #434B5C;\n",
              "      box-shadow: 0px 1px 3px 1px rgba(0, 0, 0, 0.15);\n",
              "      filter: drop-shadow(0px 1px 2px rgba(0, 0, 0, 0.3));\n",
              "      fill: #FFFFFF;\n",
              "    }\n",
              "  </style>\n",
              "\n",
              "      <script>\n",
              "        const buttonEl =\n",
              "          document.querySelector('#df-83acb73e-33ef-4f9c-a125-7d6c6fc884aa button.colab-df-convert');\n",
              "        buttonEl.style.display =\n",
              "          google.colab.kernel.accessAllowed ? 'block' : 'none';\n",
              "\n",
              "        async function convertToInteractive(key) {\n",
              "          const element = document.querySelector('#df-83acb73e-33ef-4f9c-a125-7d6c6fc884aa');\n",
              "          const dataTable =\n",
              "            await google.colab.kernel.invokeFunction('convertToInteractive',\n",
              "                                                     [key], {});\n",
              "          if (!dataTable) return;\n",
              "\n",
              "          const docLinkHtml = 'Like what you see? Visit the ' +\n",
              "            '<a target=\"_blank\" href=https://colab.research.google.com/notebooks/data_table.ipynb>data table notebook</a>'\n",
              "            + ' to learn more about interactive tables.';\n",
              "          element.innerHTML = '';\n",
              "          dataTable['output_type'] = 'display_data';\n",
              "          await google.colab.output.renderOutput(dataTable, element);\n",
              "          const docLink = document.createElement('div');\n",
              "          docLink.innerHTML = docLinkHtml;\n",
              "          element.appendChild(docLink);\n",
              "        }\n",
              "      </script>\n",
              "    </div>\n",
              "  </div>\n",
              "  "
            ]
          },
          "metadata": {},
          "execution_count": 85
        }
      ]
    },
    {
      "cell_type": "code",
      "source": [
        "#now we show additional metrics\n",
        "false_negative_rate_diff = false_negative_rate_difference(y_test, y_pred_baseline, sensitive_features= X_test['gender_Female'])\n",
        "print(f'false_negative_rate_diff: {false_negative_rate_diff:.4f}')\n",
        "\n",
        "false_positive_rate_diff = false_positive_rate_difference(y_test, y_pred_baseline, sensitive_features= X_test['gender_Female'])\n",
        "print(f'false_positive_rate_diff: {false_negative_rate_diff:.4f}')\n",
        "\n",
        "demo_parity_ratio = demographic_parity_ratio(y_test, y_pred_baseline, sensitive_features= X_test['gender_Female'])\n",
        "print(f'demographic_parity_ratio: {demo_parity_ratio:.4f}')\n",
        "\n",
        "equal_odds_ratio = equalized_odds_ratio(y_test, y_pred_baseline, sensitive_features= X_test['gender_Female'])\n",
        "print(f'equalized_odds_ratio: {equal_odds_ratio:.4f}')\n",
        "\n",
        "selection_rate_diff = selection_rate_difference(y_test, y_pred_baseline, sensitive_features= X_test['gender_Female'])\n",
        "print(f'selection_rate_difference: {selection_rate_diff:.4f}')\n"
      ],
      "metadata": {
        "colab": {
          "base_uri": "https://localhost:8080/"
        },
        "id": "6Ymm-wID682T",
        "outputId": "db365f06-cf9f-4cbe-8f27-9c04f6e43906"
      },
      "execution_count": 86,
      "outputs": [
        {
          "output_type": "stream",
          "name": "stdout",
          "text": [
            "false_negative_rate_diff: 0.0848\n",
            "false_positive_rate_diff: 0.0848\n",
            "demographic_parity_ratio: 0.8442\n",
            "equalized_odds_ratio: 0.8274\n",
            "selection_rate_difference: 0.0577\n"
          ]
        }
      ]
    },
    {
      "cell_type": "code",
      "source": [
        "tuned_forest = {'accuracy':grouped_by_sex.overall['accuracy'],\n",
        "                'precision':grouped_by_sex.overall['precision'],\n",
        "                'recall':grouped_by_sex.overall['recall'],\n",
        "                'FNR':grouped_by_sex.overall['FNR'],\n",
        "                'FPR':grouped_by_sex.overall['FPR'],\n",
        "                \n",
        "                'false_negative_rate_difference':false_negative_rate_diff,\n",
        "                'false_positive_rate_difference':false_positive_rate_diff,\n",
        "                'demographic_parity_ratio':demo_parity_ratio,\n",
        "                'equalized_odds_ratio':equal_odds_ratio,\n",
        "                'selection_rate_difference':selection_rate_diff}"
      ],
      "metadata": {
        "id": "t4UviRm9H6We"
      },
      "execution_count": 87,
      "outputs": []
    },
    {
      "cell_type": "code",
      "source": [
        "tuned_forest"
      ],
      "metadata": {
        "colab": {
          "base_uri": "https://localhost:8080/"
        },
        "id": "8mKfSkRJInzP",
        "outputId": "cf52da59-4d83-4d49-90ef-42adb2855438"
      },
      "execution_count": 88,
      "outputs": [
        {
          "output_type": "execute_result",
          "data": {
            "text/plain": [
              "{'accuracy': 0.6139489194499018,\n",
              " 'precision': 0.6353276353276354,\n",
              " 'recall': 0.4569672131147541,\n",
              " 'FNR': 0.5430327868852459,\n",
              " 'FPR': 0.24150943396226415,\n",
              " 'false_negative_rate_difference': 0.08481365377917105,\n",
              " 'false_positive_rate_difference': 0.006642857142857145,\n",
              " 'demographic_parity_ratio': 0.8441943127962086,\n",
              " 'equalized_odds_ratio': 0.8273967747651959,\n",
              " 'selection_rate_difference': 0.05767543859649121}"
            ]
          },
          "metadata": {},
          "execution_count": 88
        }
      ]
    },
    {
      "cell_type": "markdown",
      "source": [
        "REPORT\n",
        "\n",
        "##In your report, discuss the impact of tuned hyperparameters compared to the baseline model on fairness and accuracy. Hypothesize about why certain hyperparameters led to more accurate/precise/fair models.\n"
      ],
      "metadata": {
        "id": "tY377es0wnFH"
      }
    },
    {
      "cell_type": "markdown",
      "source": [
        "First of all, accuracy is better here! and overall better results than before!\n",
        "\n",
        "Since we are using a random forest, in which the model is sort of performing a black box algorithm, hyperparameters such as max_depth and n_estimators can significantly impact the performance of the model, since they are the only things we can play around in order to change the path of the forest.\n",
        "\n",
        "To prevent overfitting, max_depth limits the depth of individual decision trees in the forest, and it most of the cases it cuts off branches that are way to specific to training data, making it better for the test in some cases. By setting a max_depth of 10, we restrict the model from becoming too complex, and I believe it might be a good number in order to keep it simple, and understandable.\n",
        "\n",
        "Because random forests are susceptible to noise and minute fluctuations in the training set, the model may become unreliable for specific fittings. The model's overall robustness is increased by training 1000 trees, which makes it more resilient to these perturbations and yields a more consistent and reliable forecast.\n",
        "\n",
        "Additionally, random forests can potentially introduce bias if certain features dominate the splitting rules in the decision trees, leading to unfair predictions. By training more trees, the model can explore more diverse splits and reduce the impact of any particular feature, and thus reducing bias. However, this is not a promise that the model will accomplish, meaning that even though it might perform better in terms of fairness than other models, doesn't assures us that fairness is a priority, but accuracy is. Moreover, setting a max_depth further avoids overemphasizing certain features and creates a more balanced decision trees as well, which might lead to a similar outcome described before.\n",
        "\n",
        "Notwithstanding, as mentioned before, all of this tunning can assure us a better accuracy, but it does not guarantee a fairer algorithm. Talking about our results, we do see that FPR and FNR are now lower and similar between sexes than it was before tunning parameters. But using a model like this, we will like to do some pre or post processing method to assure us of better fairness results."
      ],
      "metadata": {
        "id": "DA3sV5Nu9dYx"
      }
    },
    {
      "cell_type": "markdown",
      "source": [
        "# Problem 2, Part (c) \n",
        "### **Fit Fairlean Adversarial Debiaser**\n",
        "\n",
        "Experiment with the alpha parameter - which value of alpha produces the fairest and most accurate classifier? Does such a value exist?"
      ],
      "metadata": {
        "id": "1TxGuvaynIP6"
      }
    },
    {
      "cell_type": "code",
      "source": [
        "#@markdown Fit the AdversarialFairnessClassifier here.\n",
        "#@markdown Use these hyperparameters, while varying the `alpha` parameter:\n",
        "#@markdown - backend='tensorflow',\n",
        "#@markdown - predictor_model=[128,64,32,16,8],\n",
        "#@markdown - adversary_model=[32,16,8],\n",
        "#@markdown - learning_rate=0.001,\n",
        "#@markdown - epochs=3,\n",
        "#@markdown - batch_size=16,\n",
        "#@markdown - constraints='demographic_parity',\n",
        "#@markdown - random_state=seed,\n",
        "#@markdown - shuffle=True\n",
        "\n",
        "#set sensitivity rate\n",
        "sensitive_feature = X_test['gender_Female'].replace({1:'Female', 0:'Male'})\n",
        "\n",
        "#we initialize the dictionary with the rates we want to evaluate\n",
        "metrics_dictionary = {'alpha':[],\n",
        "                      'accuracy':[],\n",
        "                      'precision':[],\n",
        "                      'recall':[],\n",
        "                      'FNR':[],\n",
        "                      'FPR':[],\n",
        "                      'false_negative_rate_difference':[],\n",
        "                      'false_positive_rate_difference':[],\n",
        "                      'demographic_parity_ratio':[],\n",
        "                      'equalized_odds_ratio':[],\n",
        "                      'selection_rate_difference':[]\n",
        "                      }\n",
        "#use the alphas said in class\n",
        "alphas = [0.0, 0.3, 0.7, 1.0]\n",
        "\n",
        "#lets set a fixed seed for consistency in this first part\n",
        "seed = 42\n",
        "\n",
        "metrics = {'accuracy': accuracy_score,\n",
        "           'precision': precision_score,\n",
        "           'recall':recall_score,\n",
        "           'FNR': false_negative_rate,\n",
        "           'FPR': false_positive_rate\n",
        "           }\n",
        "\n",
        "#now we loop over different alphas and run the model\n",
        "for alpha in alphas:\n",
        "\n",
        "  #fixed features\n",
        "  model = AdversarialFairnessClassifier(backend='tensorflow',\n",
        "  predictor_model=[128,64,32,16,8],\n",
        "  adversary_model=[32,16,8],\n",
        "  learning_rate=0.001,\n",
        "  epochs=3,\n",
        "  batch_size=16,\n",
        "  constraints='demographic_parity',\n",
        "  random_state=seed,\n",
        "  shuffle=True,\n",
        "  alpha = alpha)\n",
        "\n",
        "  #fit the model with sensitivity feature\n",
        "  model.fit(X_train,y_train,sensitive_features = X_train['gender_Female'].replace({1:'Female',0:'Male'}))\n",
        "\n",
        "  y_pred_baseline =model.predict(X_test)\n",
        "\n",
        "  metric_frame = MetricFrame(metrics=metrics,\n",
        "                             y_true=y_test,\n",
        "                             y_pred=y_pred_baseline,\n",
        "                             sensitive_features = sensitive_feature)\n",
        "  \n",
        "  #we first store what we can get from the metric_frame\n",
        "  metrics_dictionary['alpha'].append(alpha)\n",
        "  metrics_dictionary['accuracy'].append(metric_frame.overall['accuracy'])\n",
        "  metrics_dictionary['precision'].append(metric_frame.overall['precision'])\n",
        "  metrics_dictionary['recall'].append(metric_frame.overall['recall'])\n",
        "  metrics_dictionary['FNR'].append(metric_frame.overall['FNR'])\n",
        "  metrics_dictionary['FPR'].append(metric_frame.overall['FPR'])\n",
        "\n",
        "  #then we store what we can get from using the functions\n",
        "  metrics_dictionary['false_negative_rate_difference'].append(false_negative_rate_difference(y_test, y_pred_baseline, sensitive_features = sensitive_feature))\n",
        "  metrics_dictionary['false_positive_rate_difference'].append(false_positive_rate_difference(y_test, y_pred_baseline, sensitive_features = sensitive_feature))\n",
        "  metrics_dictionary['demographic_parity_ratio'].append(demographic_parity_ratio(y_test, y_pred_baseline, sensitive_features = sensitive_feature))\n",
        "  metrics_dictionary['equalized_odds_ratio'].append(equalized_odds_ratio(y_test, y_pred_baseline, sensitive_features= sensitive_feature))\n",
        "  metrics_dictionary['selection_rate_difference'].append(selection_rate_difference(y_test, y_pred_baseline, sensitive_features = sensitive_feature))\n"
      ],
      "metadata": {
        "id": "IXHVzAFe_qE2",
        "colab": {
          "base_uri": "https://localhost:8080/"
        },
        "outputId": "fb1b6dba-d1a6-4621-9c7e-89e482fa59ae"
      },
      "execution_count": 42,
      "outputs": [
        {
          "output_type": "stream",
          "name": "stderr",
          "text": [
            "/usr/local/lib/python3.9/dist-packages/sklearn/preprocessing/_encoders.py:868: FutureWarning: `sparse` was renamed to `sparse_output` in version 1.2 and will be removed in 1.4. `sparse_output` is ignored unless you leave `sparse` to its default value.\n",
            "  warnings.warn(\n",
            "/usr/local/lib/python3.9/dist-packages/sklearn/preprocessing/_encoders.py:868: FutureWarning: `sparse` was renamed to `sparse_output` in version 1.2 and will be removed in 1.4. `sparse_output` is ignored unless you leave `sparse` to its default value.\n",
            "  warnings.warn(\n",
            "/usr/local/lib/python3.9/dist-packages/keras/initializers/initializers_v2.py:120: UserWarning: The initializer GlorotNormal is unseeded and being called multiple times, which will return identical values  each time (even if the initializer is unseeded). Please update your code to provide a seed to the initializer, or avoid using the same initalizer instance more than once.\n",
            "  warnings.warn(\n",
            "/usr/local/lib/python3.9/dist-packages/sklearn/preprocessing/_encoders.py:868: FutureWarning: `sparse` was renamed to `sparse_output` in version 1.2 and will be removed in 1.4. `sparse_output` is ignored unless you leave `sparse` to its default value.\n",
            "  warnings.warn(\n",
            "/usr/local/lib/python3.9/dist-packages/sklearn/preprocessing/_encoders.py:868: FutureWarning: `sparse` was renamed to `sparse_output` in version 1.2 and will be removed in 1.4. `sparse_output` is ignored unless you leave `sparse` to its default value.\n",
            "  warnings.warn(\n",
            "/usr/local/lib/python3.9/dist-packages/keras/initializers/initializers_v2.py:120: UserWarning: The initializer GlorotNormal is unseeded and being called multiple times, which will return identical values  each time (even if the initializer is unseeded). Please update your code to provide a seed to the initializer, or avoid using the same initalizer instance more than once.\n",
            "  warnings.warn(\n",
            "/usr/local/lib/python3.9/dist-packages/sklearn/preprocessing/_encoders.py:868: FutureWarning: `sparse` was renamed to `sparse_output` in version 1.2 and will be removed in 1.4. `sparse_output` is ignored unless you leave `sparse` to its default value.\n",
            "  warnings.warn(\n",
            "/usr/local/lib/python3.9/dist-packages/sklearn/preprocessing/_encoders.py:868: FutureWarning: `sparse` was renamed to `sparse_output` in version 1.2 and will be removed in 1.4. `sparse_output` is ignored unless you leave `sparse` to its default value.\n",
            "  warnings.warn(\n",
            "/usr/local/lib/python3.9/dist-packages/keras/initializers/initializers_v2.py:120: UserWarning: The initializer GlorotNormal is unseeded and being called multiple times, which will return identical values  each time (even if the initializer is unseeded). Please update your code to provide a seed to the initializer, or avoid using the same initalizer instance more than once.\n",
            "  warnings.warn(\n",
            "/usr/local/lib/python3.9/dist-packages/sklearn/preprocessing/_encoders.py:868: FutureWarning: `sparse` was renamed to `sparse_output` in version 1.2 and will be removed in 1.4. `sparse_output` is ignored unless you leave `sparse` to its default value.\n",
            "  warnings.warn(\n",
            "/usr/local/lib/python3.9/dist-packages/sklearn/preprocessing/_encoders.py:868: FutureWarning: `sparse` was renamed to `sparse_output` in version 1.2 and will be removed in 1.4. `sparse_output` is ignored unless you leave `sparse` to its default value.\n",
            "  warnings.warn(\n",
            "/usr/local/lib/python3.9/dist-packages/keras/initializers/initializers_v2.py:120: UserWarning: The initializer GlorotNormal is unseeded and being called multiple times, which will return identical values  each time (even if the initializer is unseeded). Please update your code to provide a seed to the initializer, or avoid using the same initalizer instance more than once.\n",
            "  warnings.warn(\n"
          ]
        }
      ]
    },
    {
      "cell_type": "code",
      "source": [
        "#@markdown ### Plot all our metrics as line plots while varying alpha\n",
        "import matplotlib.pyplot as plt\n",
        "\n",
        "metrics_dictionary\n",
        "plt.figure(figsize=(15,8))\n",
        "\n",
        "# Plot the line graph\n",
        "plt.plot(metrics_dictionary['alpha'], metrics_dictionary['accuracy'],label='Accuracy')\n",
        "plt.plot(metrics_dictionary['alpha'], metrics_dictionary['precision'],label='Precision')\n",
        "plt.plot(metrics_dictionary['alpha'], metrics_dictionary['recall'],label='Recall')\n",
        "plt.plot(metrics_dictionary['alpha'], metrics_dictionary['FNR'],label='FNR')\n",
        "plt.plot(metrics_dictionary['alpha'], metrics_dictionary['FPR'],label='FPR')\n",
        "plt.plot(metrics_dictionary['alpha'], metrics_dictionary['false_negative_rate_difference'],label='FNR difference')\n",
        "plt.plot(metrics_dictionary['alpha'], metrics_dictionary['false_positive_rate_difference'],label='FPR difference')\n",
        "plt.plot(metrics_dictionary['alpha'], metrics_dictionary['demographic_parity_ratio'],label='Demographic parity ratio')\n",
        "plt.plot(metrics_dictionary['alpha'], metrics_dictionary['equalized_odds_ratio'],label='Equalized odds ratio')\n",
        "plt.plot(metrics_dictionary['alpha'], metrics_dictionary['selection_rate_difference'],label='Selection rate difference')\n",
        "\n",
        "\n",
        "plt.legend()\n",
        "\n",
        "# Add labels and title to the graph\n",
        "plt.xlabel('Alphas')\n",
        "plt.ylabel('Percentage')\n",
        "plt.title('Metric performance across alphas')\n",
        "\n",
        "# Show the graph\n",
        "plt.show()"
      ],
      "metadata": {
        "id": "GU0sbnzSJq_P",
        "colab": {
          "base_uri": "https://localhost:8080/",
          "height": 513
        },
        "outputId": "06722a70-452e-4d15-ee2c-7abbad79c1f4"
      },
      "execution_count": 43,
      "outputs": [
        {
          "output_type": "display_data",
          "data": {
            "text/plain": [
              "<Figure size 1080x576 with 1 Axes>"
            ],
            "image/png": "[encoded data removed]"
          },
          "metadata": {
            "needs_background": "light"
          }
        }
      ]
    },
    {
      "cell_type": "markdown",
      "source": [
        "It appears to be certain tradeoff, and accuracy is not changing much accross alphas. It might be because of the root we picked"
      ],
      "metadata": {
        "id": "6TIekMov-yOw"
      }
    },
    {
      "cell_type": "code",
      "source": [
        "import random \n",
        "\n",
        "sensitive_feature = X_test['gender_Female'].replace({1:'Female', 0:'Male'})\n",
        "\n",
        "#use the alphas said in class\n",
        "alphas = [0.0, 0.3, 0.7, 1.0]\n",
        "\n",
        "#same metrics we want\n",
        "metrics = {'accuracy': accuracy_score,\n",
        "           'precision': precision_score,\n",
        "           'recall':recall_score,\n",
        "           'FNR': false_negative_rate,\n",
        "           'FPR': false_positive_rate\n",
        "           }\n",
        "\n",
        "#initialize a dataframe\n",
        "metrics_df = pd.DataFrame()\n",
        "\n",
        "#set a dictionary for male scores\n",
        "male_metrics_dictionary = {'alpha':[],\n",
        "                      'accuracy':[],\n",
        "                      'precision':[],\n",
        "                      'recall':[],\n",
        "                      'FNR':[],\n",
        "                      'FPR':[]\n",
        "                      }\n",
        "\n",
        "#set a dictionary for female scores\n",
        "female_metrics_dictionary = {'alpha':[],\n",
        "                      'accuracy':[],\n",
        "                      'precision':[],\n",
        "                      'recall':[],\n",
        "                      'FNR':[],\n",
        "                      'FPR':[]\n",
        "                      }\n",
        "                  \n",
        "#lets try with 10 different random seeds from 0 to 1000000      \n",
        "seeds = [random.randint(0,1000000) for i in range(10)]\n",
        "\n",
        "\n",
        "#Now, lets start looping\n",
        "for alpha in alphas:\n",
        "\n",
        "  male_accuracy = []\n",
        "  male_precision = []\n",
        "  male_recall =[]\n",
        "  male_FNR =[]\n",
        "  male_FPR =[]\n",
        "\n",
        "  female_accuracy = []\n",
        "  female_precision = []\n",
        "  female_recall =[]\n",
        "  female_FNR =[]\n",
        "  female_FPR =[]\n",
        "\n",
        "  for seed in seeds:\n",
        "\n",
        "    model = AdversarialFairnessClassifier(backend='tensorflow',\n",
        "    predictor_model=[128,64,32,16,8],\n",
        "    adversary_model=[32,16,8],\n",
        "    learning_rate=0.001,\n",
        "    epochs=3,\n",
        "    batch_size=16,\n",
        "    constraints='demographic_parity',\n",
        "    random_state=seed,\n",
        "    shuffle=True,\n",
        "    alpha = alpha)\n",
        "\n",
        "    #set sensitivity features on the train data\n",
        "    model.fit(X_train,y_train, sensitive_features = X_train['gender_Female'].replace({1:'Female',0:'Male'}))\n",
        "\n",
        "    y_pred_baseline =model.predict(X_test)\n",
        "\n",
        "    metric_frame = MetricFrame(metrics=metrics,\n",
        "                              y_true=y_test,\n",
        "                              y_pred=y_pred_baseline,\n",
        "                              sensitive_features = sensitive_feature)\n",
        "    \n",
        "    metrics_df = metrics_df.append({'alpha' : alpha,\n",
        "                                    'accuracy': metric_frame.overall['accuracy'],\n",
        "                                    'precision': metric_frame.overall['precision'],\n",
        "                                    'recall': metric_frame.overall['recall'],\n",
        "                                    'FNR': metric_frame.overall['FNR'],\n",
        "                                    'FPR': metric_frame.overall['FPR'],\n",
        "                                    'false_negative_rate_difference': false_negative_rate_difference(y_test, y_pred_baseline, sensitive_features= sensitive_feature),\n",
        "                                    'false_positive_rate_difference': false_positive_rate_difference(y_test, y_pred_baseline, sensitive_features= sensitive_feature),\n",
        "                                    'demographic_parity_ratio': demographic_parity_ratio(y_test, y_pred_baseline, sensitive_features = sensitive_feature),\n",
        "                                    'equalized_odds_ratio': equalized_odds_ratio(y_test, y_pred_baseline, sensitive_features = sensitive_feature),\n",
        "                                    'selection_rate_difference': selection_rate_difference(y_test, y_pred_baseline, sensitive_features = sensitive_feature)\n",
        "                                    },ignore_index=True)\n",
        "\n",
        "    #now saving info to temporary list per seed\n",
        "    male_accuracy.append(metric_frame.by_group.loc['Male'].accuracy)\n",
        "    male_precision.append(metric_frame.by_group.loc['Male'].precision)\n",
        "    male_recall.append(metric_frame.by_group.loc['Male'].recall)\n",
        "    male_FNR.append(metric_frame.by_group.loc['Male'].FNR)\n",
        "    male_FPR.append(metric_frame.by_group.loc['Male'].FPR)\n",
        "\n",
        "    female_accuracy.append(metric_frame.by_group.loc['Female'].accuracy)\n",
        "    female_precision.append(metric_frame.by_group.loc['Female'].precision)\n",
        "    female_recall.append(metric_frame.by_group.loc['Female'].recall)\n",
        "    female_FNR.append(metric_frame.by_group.loc['Female'].FNR)\n",
        "    female_FPR.append(metric_frame.by_group.loc['Female'].FPR)\n",
        "\n",
        "  #now we save info per alpha for group data\n",
        "  #Note, no need to store the alpha since they will be stored in hirearchial order\n",
        "  male_metrics_dictionary['accuracy'].append(male_accuracy)\n",
        "  male_metrics_dictionary['precision'].append(male_precision)\n",
        "  male_metrics_dictionary['recall'].append(male_recall)\n",
        "  male_metrics_dictionary['FNR'].append(male_FNR)\n",
        "  male_metrics_dictionary['FPR'].append(male_FPR)\n",
        "\n",
        "  female_metrics_dictionary['accuracy'].append(female_accuracy)\n",
        "  female_metrics_dictionary['precision'].append(female_precision)\n",
        "  female_metrics_dictionary['recall'].append(female_recall)\n",
        "  female_metrics_dictionary['FNR'].append(female_FNR)\n",
        "  female_metrics_dictionary['FPR'].append(female_FPR)\n"
      ],
      "metadata": {
        "colab": {
          "base_uri": "https://localhost:8080/"
        },
        "id": "lTBzV4OtcYFh",
        "outputId": "df5a3ec5-caac-4bad-9dab-983145de2fd0"
      },
      "execution_count": 45,
      "outputs": [
        {
          "output_type": "stream",
          "name": "stderr",
          "text": [
            "/usr/local/lib/python3.9/dist-packages/sklearn/preprocessing/_encoders.py:868: FutureWarning: `sparse` was renamed to `sparse_output` in version 1.2 and will be removed in 1.4. `sparse_output` is ignored unless you leave `sparse` to its default value.\n",
            "  warnings.warn(\n",
            "/usr/local/lib/python3.9/dist-packages/sklearn/preprocessing/_encoders.py:868: FutureWarning: `sparse` was renamed to `sparse_output` in version 1.2 and will be removed in 1.4. `sparse_output` is ignored unless you leave `sparse` to its default value.\n",
            "  warnings.warn(\n",
            "/usr/local/lib/python3.9/dist-packages/keras/initializers/initializers_v2.py:120: UserWarning: The initializer GlorotNormal is unseeded and being called multiple times, which will return identical values  each time (even if the initializer is unseeded). Please update your code to provide a seed to the initializer, or avoid using the same initalizer instance more than once.\n",
            "  warnings.warn(\n",
            "<ipython-input-45-a12cb81366a2>:79: FutureWarning: The frame.append method is deprecated and will be removed from pandas in a future version. Use pandas.concat instead.\n",
            "  metrics_df = metrics_df.append({'alpha' : alpha,\n",
            "/usr/local/lib/python3.9/dist-packages/sklearn/preprocessing/_encoders.py:868: FutureWarning: `sparse` was renamed to `sparse_output` in version 1.2 and will be removed in 1.4. `sparse_output` is ignored unless you leave `sparse` to its default value.\n",
            "  warnings.warn(\n",
            "/usr/local/lib/python3.9/dist-packages/sklearn/preprocessing/_encoders.py:868: FutureWarning: `sparse` was renamed to `sparse_output` in version 1.2 and will be removed in 1.4. `sparse_output` is ignored unless you leave `sparse` to its default value.\n",
            "  warnings.warn(\n",
            "/usr/local/lib/python3.9/dist-packages/keras/initializers/initializers_v2.py:120: UserWarning: The initializer GlorotNormal is unseeded and being called multiple times, which will return identical values  each time (even if the initializer is unseeded). Please update your code to provide a seed to the initializer, or avoid using the same initalizer instance more than once.\n",
            "  warnings.warn(\n",
            "<ipython-input-45-a12cb81366a2>:79: FutureWarning: The frame.append method is deprecated and will be removed from pandas in a future version. Use pandas.concat instead.\n",
            "  metrics_df = metrics_df.append({'alpha' : alpha,\n",
            "/usr/local/lib/python3.9/dist-packages/sklearn/preprocessing/_encoders.py:868: FutureWarning: `sparse` was renamed to `sparse_output` in version 1.2 and will be removed in 1.4. `sparse_output` is ignored unless you leave `sparse` to its default value.\n",
            "  warnings.warn(\n",
            "/usr/local/lib/python3.9/dist-packages/sklearn/preprocessing/_encoders.py:868: FutureWarning: `sparse` was renamed to `sparse_output` in version 1.2 and will be removed in 1.4. `sparse_output` is ignored unless you leave `sparse` to its default value.\n",
            "  warnings.warn(\n",
            "/usr/local/lib/python3.9/dist-packages/keras/initializers/initializers_v2.py:120: UserWarning: The initializer GlorotNormal is unseeded and being called multiple times, which will return identical values  each time (even if the initializer is unseeded). Please update your code to provide a seed to the initializer, or avoid using the same initalizer instance more than once.\n",
            "  warnings.warn(\n",
            "<ipython-input-45-a12cb81366a2>:79: FutureWarning: The frame.append method is deprecated and will be removed from pandas in a future version. Use pandas.concat instead.\n",
            "  metrics_df = metrics_df.append({'alpha' : alpha,\n",
            "/usr/local/lib/python3.9/dist-packages/sklearn/preprocessing/_encoders.py:868: FutureWarning: `sparse` was renamed to `sparse_output` in version 1.2 and will be removed in 1.4. `sparse_output` is ignored unless you leave `sparse` to its default value.\n",
            "  warnings.warn(\n",
            "/usr/local/lib/python3.9/dist-packages/sklearn/preprocessing/_encoders.py:868: FutureWarning: `sparse` was renamed to `sparse_output` in version 1.2 and will be removed in 1.4. `sparse_output` is ignored unless you leave `sparse` to its default value.\n",
            "  warnings.warn(\n",
            "/usr/local/lib/python3.9/dist-packages/keras/initializers/initializers_v2.py:120: UserWarning: The initializer GlorotNormal is unseeded and being called multiple times, which will return identical values  each time (even if the initializer is unseeded). Please update your code to provide a seed to the initializer, or avoid using the same initalizer instance more than once.\n",
            "  warnings.warn(\n",
            "<ipython-input-45-a12cb81366a2>:79: FutureWarning: The frame.append method is deprecated and will be removed from pandas in a future version. Use pandas.concat instead.\n",
            "  metrics_df = metrics_df.append({'alpha' : alpha,\n",
            "/usr/local/lib/python3.9/dist-packages/sklearn/preprocessing/_encoders.py:868: FutureWarning: `sparse` was renamed to `sparse_output` in version 1.2 and will be removed in 1.4. `sparse_output` is ignored unless you leave `sparse` to its default value.\n",
            "  warnings.warn(\n",
            "/usr/local/lib/python3.9/dist-packages/sklearn/preprocessing/_encoders.py:868: FutureWarning: `sparse` was renamed to `sparse_output` in version 1.2 and will be removed in 1.4. `sparse_output` is ignored unless you leave `sparse` to its default value.\n",
            "  warnings.warn(\n",
            "/usr/local/lib/python3.9/dist-packages/keras/initializers/initializers_v2.py:120: UserWarning: The initializer GlorotNormal is unseeded and being called multiple times, which will return identical values  each time (even if the initializer is unseeded). Please update your code to provide a seed to the initializer, or avoid using the same initalizer instance more than once.\n",
            "  warnings.warn(\n",
            "<ipython-input-45-a12cb81366a2>:79: FutureWarning: The frame.append method is deprecated and will be removed from pandas in a future version. Use pandas.concat instead.\n",
            "  metrics_df = metrics_df.append({'alpha' : alpha,\n",
            "/usr/local/lib/python3.9/dist-packages/sklearn/preprocessing/_encoders.py:868: FutureWarning: `sparse` was renamed to `sparse_output` in version 1.2 and will be removed in 1.4. `sparse_output` is ignored unless you leave `sparse` to its default value.\n",
            "  warnings.warn(\n",
            "/usr/local/lib/python3.9/dist-packages/sklearn/preprocessing/_encoders.py:868: FutureWarning: `sparse` was renamed to `sparse_output` in version 1.2 and will be removed in 1.4. `sparse_output` is ignored unless you leave `sparse` to its default value.\n",
            "  warnings.warn(\n",
            "/usr/local/lib/python3.9/dist-packages/keras/initializers/initializers_v2.py:120: UserWarning: The initializer GlorotNormal is unseeded and being called multiple times, which will return identical values  each time (even if the initializer is unseeded). Please update your code to provide a seed to the initializer, or avoid using the same initalizer instance more than once.\n",
            "  warnings.warn(\n",
            "<ipython-input-45-a12cb81366a2>:79: FutureWarning: The frame.append method is deprecated and will be removed from pandas in a future version. Use pandas.concat instead.\n",
            "  metrics_df = metrics_df.append({'alpha' : alpha,\n",
            "/usr/local/lib/python3.9/dist-packages/sklearn/preprocessing/_encoders.py:868: FutureWarning: `sparse` was renamed to `sparse_output` in version 1.2 and will be removed in 1.4. `sparse_output` is ignored unless you leave `sparse` to its default value.\n",
            "  warnings.warn(\n",
            "/usr/local/lib/python3.9/dist-packages/sklearn/preprocessing/_encoders.py:868: FutureWarning: `sparse` was renamed to `sparse_output` in version 1.2 and will be removed in 1.4. `sparse_output` is ignored unless you leave `sparse` to its default value.\n",
            "  warnings.warn(\n",
            "/usr/local/lib/python3.9/dist-packages/keras/initializers/initializers_v2.py:120: UserWarning: The initializer GlorotNormal is unseeded and being called multiple times, which will return identical values  each time (even if the initializer is unseeded). Please update your code to provide a seed to the initializer, or avoid using the same initalizer instance more than once.\n",
            "  warnings.warn(\n",
            "<ipython-input-45-a12cb81366a2>:79: FutureWarning: The frame.append method is deprecated and will be removed from pandas in a future version. Use pandas.concat instead.\n",
            "  metrics_df = metrics_df.append({'alpha' : alpha,\n",
            "/usr/local/lib/python3.9/dist-packages/sklearn/preprocessing/_encoders.py:868: FutureWarning: `sparse` was renamed to `sparse_output` in version 1.2 and will be removed in 1.4. `sparse_output` is ignored unless you leave `sparse` to its default value.\n",
            "  warnings.warn(\n",
            "/usr/local/lib/python3.9/dist-packages/sklearn/preprocessing/_encoders.py:868: FutureWarning: `sparse` was renamed to `sparse_output` in version 1.2 and will be removed in 1.4. `sparse_output` is ignored unless you leave `sparse` to its default value.\n",
            "  warnings.warn(\n",
            "/usr/local/lib/python3.9/dist-packages/keras/initializers/initializers_v2.py:120: UserWarning: The initializer GlorotNormal is unseeded and being called multiple times, which will return identical values  each time (even if the initializer is unseeded). Please update your code to provide a seed to the initializer, or avoid using the same initalizer instance more than once.\n",
            "  warnings.warn(\n",
            "<ipython-input-45-a12cb81366a2>:79: FutureWarning: The frame.append method is deprecated and will be removed from pandas in a future version. Use pandas.concat instead.\n",
            "  metrics_df = metrics_df.append({'alpha' : alpha,\n",
            "/usr/local/lib/python3.9/dist-packages/sklearn/preprocessing/_encoders.py:868: FutureWarning: `sparse` was renamed to `sparse_output` in version 1.2 and will be removed in 1.4. `sparse_output` is ignored unless you leave `sparse` to its default value.\n",
            "  warnings.warn(\n",
            "/usr/local/lib/python3.9/dist-packages/sklearn/preprocessing/_encoders.py:868: FutureWarning: `sparse` was renamed to `sparse_output` in version 1.2 and will be removed in 1.4. `sparse_output` is ignored unless you leave `sparse` to its default value.\n",
            "  warnings.warn(\n",
            "/usr/local/lib/python3.9/dist-packages/keras/initializers/initializers_v2.py:120: UserWarning: The initializer GlorotNormal is unseeded and being called multiple times, which will return identical values  each time (even if the initializer is unseeded). Please update your code to provide a seed to the initializer, or avoid using the same initalizer instance more than once.\n",
            "  warnings.warn(\n",
            "<ipython-input-45-a12cb81366a2>:79: FutureWarning: The frame.append method is deprecated and will be removed from pandas in a future version. Use pandas.concat instead.\n",
            "  metrics_df = metrics_df.append({'alpha' : alpha,\n",
            "/usr/local/lib/python3.9/dist-packages/sklearn/preprocessing/_encoders.py:868: FutureWarning: `sparse` was renamed to `sparse_output` in version 1.2 and will be removed in 1.4. `sparse_output` is ignored unless you leave `sparse` to its default value.\n",
            "  warnings.warn(\n",
            "/usr/local/lib/python3.9/dist-packages/sklearn/preprocessing/_encoders.py:868: FutureWarning: `sparse` was renamed to `sparse_output` in version 1.2 and will be removed in 1.4. `sparse_output` is ignored unless you leave `sparse` to its default value.\n",
            "  warnings.warn(\n",
            "/usr/local/lib/python3.9/dist-packages/keras/initializers/initializers_v2.py:120: UserWarning: The initializer GlorotNormal is unseeded and being called multiple times, which will return identical values  each time (even if the initializer is unseeded). Please update your code to provide a seed to the initializer, or avoid using the same initalizer instance more than once.\n",
            "  warnings.warn(\n",
            "<ipython-input-45-a12cb81366a2>:79: FutureWarning: The frame.append method is deprecated and will be removed from pandas in a future version. Use pandas.concat instead.\n",
            "  metrics_df = metrics_df.append({'alpha' : alpha,\n",
            "/usr/local/lib/python3.9/dist-packages/sklearn/preprocessing/_encoders.py:868: FutureWarning: `sparse` was renamed to `sparse_output` in version 1.2 and will be removed in 1.4. `sparse_output` is ignored unless you leave `sparse` to its default value.\n",
            "  warnings.warn(\n",
            "/usr/local/lib/python3.9/dist-packages/sklearn/preprocessing/_encoders.py:868: FutureWarning: `sparse` was renamed to `sparse_output` in version 1.2 and will be removed in 1.4. `sparse_output` is ignored unless you leave `sparse` to its default value.\n",
            "  warnings.warn(\n",
            "/usr/local/lib/python3.9/dist-packages/keras/initializers/initializers_v2.py:120: UserWarning: The initializer GlorotNormal is unseeded and being called multiple times, which will return identical values  each time (even if the initializer is unseeded). Please update your code to provide a seed to the initializer, or avoid using the same initalizer instance more than once.\n",
            "  warnings.warn(\n",
            "<ipython-input-45-a12cb81366a2>:79: FutureWarning: The frame.append method is deprecated and will be removed from pandas in a future version. Use pandas.concat instead.\n",
            "  metrics_df = metrics_df.append({'alpha' : alpha,\n",
            "/usr/local/lib/python3.9/dist-packages/sklearn/preprocessing/_encoders.py:868: FutureWarning: `sparse` was renamed to `sparse_output` in version 1.2 and will be removed in 1.4. `sparse_output` is ignored unless you leave `sparse` to its default value.\n",
            "  warnings.warn(\n",
            "/usr/local/lib/python3.9/dist-packages/sklearn/preprocessing/_encoders.py:868: FutureWarning: `sparse` was renamed to `sparse_output` in version 1.2 and will be removed in 1.4. `sparse_output` is ignored unless you leave `sparse` to its default value.\n",
            "  warnings.warn(\n",
            "/usr/local/lib/python3.9/dist-packages/keras/initializers/initializers_v2.py:120: UserWarning: The initializer GlorotNormal is unseeded and being called multiple times, which will return identical values  each time (even if the initializer is unseeded). Please update your code to provide a seed to the initializer, or avoid using the same initalizer instance more than once.\n",
            "  warnings.warn(\n",
            "<ipython-input-45-a12cb81366a2>:79: FutureWarning: The frame.append method is deprecated and will be removed from pandas in a future version. Use pandas.concat instead.\n",
            "  metrics_df = metrics_df.append({'alpha' : alpha,\n",
            "/usr/local/lib/python3.9/dist-packages/sklearn/preprocessing/_encoders.py:868: FutureWarning: `sparse` was renamed to `sparse_output` in version 1.2 and will be removed in 1.4. `sparse_output` is ignored unless you leave `sparse` to its default value.\n",
            "  warnings.warn(\n",
            "/usr/local/lib/python3.9/dist-packages/sklearn/preprocessing/_encoders.py:868: FutureWarning: `sparse` was renamed to `sparse_output` in version 1.2 and will be removed in 1.4. `sparse_output` is ignored unless you leave `sparse` to its default value.\n",
            "  warnings.warn(\n",
            "/usr/local/lib/python3.9/dist-packages/keras/initializers/initializers_v2.py:120: UserWarning: The initializer GlorotNormal is unseeded and being called multiple times, which will return identical values  each time (even if the initializer is unseeded). Please update your code to provide a seed to the initializer, or avoid using the same initalizer instance more than once.\n",
            "  warnings.warn(\n",
            "<ipython-input-45-a12cb81366a2>:79: FutureWarning: The frame.append method is deprecated and will be removed from pandas in a future version. Use pandas.concat instead.\n",
            "  metrics_df = metrics_df.append({'alpha' : alpha,\n",
            "/usr/local/lib/python3.9/dist-packages/sklearn/preprocessing/_encoders.py:868: FutureWarning: `sparse` was renamed to `sparse_output` in version 1.2 and will be removed in 1.4. `sparse_output` is ignored unless you leave `sparse` to its default value.\n",
            "  warnings.warn(\n",
            "/usr/local/lib/python3.9/dist-packages/sklearn/preprocessing/_encoders.py:868: FutureWarning: `sparse` was renamed to `sparse_output` in version 1.2 and will be removed in 1.4. `sparse_output` is ignored unless you leave `sparse` to its default value.\n",
            "  warnings.warn(\n",
            "/usr/local/lib/python3.9/dist-packages/keras/initializers/initializers_v2.py:120: UserWarning: The initializer GlorotNormal is unseeded and being called multiple times, which will return identical values  each time (even if the initializer is unseeded). Please update your code to provide a seed to the initializer, or avoid using the same initalizer instance more than once.\n",
            "  warnings.warn(\n",
            "<ipython-input-45-a12cb81366a2>:79: FutureWarning: The frame.append method is deprecated and will be removed from pandas in a future version. Use pandas.concat instead.\n",
            "  metrics_df = metrics_df.append({'alpha' : alpha,\n",
            "/usr/local/lib/python3.9/dist-packages/sklearn/preprocessing/_encoders.py:868: FutureWarning: `sparse` was renamed to `sparse_output` in version 1.2 and will be removed in 1.4. `sparse_output` is ignored unless you leave `sparse` to its default value.\n",
            "  warnings.warn(\n",
            "/usr/local/lib/python3.9/dist-packages/sklearn/preprocessing/_encoders.py:868: FutureWarning: `sparse` was renamed to `sparse_output` in version 1.2 and will be removed in 1.4. `sparse_output` is ignored unless you leave `sparse` to its default value.\n",
            "  warnings.warn(\n",
            "/usr/local/lib/python3.9/dist-packages/keras/initializers/initializers_v2.py:120: UserWarning: The initializer GlorotNormal is unseeded and being called multiple times, which will return identical values  each time (even if the initializer is unseeded). Please update your code to provide a seed to the initializer, or avoid using the same initalizer instance more than once.\n",
            "  warnings.warn(\n",
            "<ipython-input-45-a12cb81366a2>:79: FutureWarning: The frame.append method is deprecated and will be removed from pandas in a future version. Use pandas.concat instead.\n",
            "  metrics_df = metrics_df.append({'alpha' : alpha,\n",
            "/usr/local/lib/python3.9/dist-packages/sklearn/preprocessing/_encoders.py:868: FutureWarning: `sparse` was renamed to `sparse_output` in version 1.2 and will be removed in 1.4. `sparse_output` is ignored unless you leave `sparse` to its default value.\n",
            "  warnings.warn(\n",
            "/usr/local/lib/python3.9/dist-packages/sklearn/preprocessing/_encoders.py:868: FutureWarning: `sparse` was renamed to `sparse_output` in version 1.2 and will be removed in 1.4. `sparse_output` is ignored unless you leave `sparse` to its default value.\n",
            "  warnings.warn(\n",
            "/usr/local/lib/python3.9/dist-packages/keras/initializers/initializers_v2.py:120: UserWarning: The initializer GlorotNormal is unseeded and being called multiple times, which will return identical values  each time (even if the initializer is unseeded). Please update your code to provide a seed to the initializer, or avoid using the same initalizer instance more than once.\n",
            "  warnings.warn(\n",
            "<ipython-input-45-a12cb81366a2>:79: FutureWarning: The frame.append method is deprecated and will be removed from pandas in a future version. Use pandas.concat instead.\n",
            "  metrics_df = metrics_df.append({'alpha' : alpha,\n",
            "/usr/local/lib/python3.9/dist-packages/sklearn/preprocessing/_encoders.py:868: FutureWarning: `sparse` was renamed to `sparse_output` in version 1.2 and will be removed in 1.4. `sparse_output` is ignored unless you leave `sparse` to its default value.\n",
            "  warnings.warn(\n",
            "/usr/local/lib/python3.9/dist-packages/sklearn/preprocessing/_encoders.py:868: FutureWarning: `sparse` was renamed to `sparse_output` in version 1.2 and will be removed in 1.4. `sparse_output` is ignored unless you leave `sparse` to its default value.\n",
            "  warnings.warn(\n",
            "/usr/local/lib/python3.9/dist-packages/keras/initializers/initializers_v2.py:120: UserWarning: The initializer GlorotNormal is unseeded and being called multiple times, which will return identical values  each time (even if the initializer is unseeded). Please update your code to provide a seed to the initializer, or avoid using the same initalizer instance more than once.\n",
            "  warnings.warn(\n",
            "<ipython-input-45-a12cb81366a2>:79: FutureWarning: The frame.append method is deprecated and will be removed from pandas in a future version. Use pandas.concat instead.\n",
            "  metrics_df = metrics_df.append({'alpha' : alpha,\n",
            "/usr/local/lib/python3.9/dist-packages/sklearn/preprocessing/_encoders.py:868: FutureWarning: `sparse` was renamed to `sparse_output` in version 1.2 and will be removed in 1.4. `sparse_output` is ignored unless you leave `sparse` to its default value.\n",
            "  warnings.warn(\n",
            "/usr/local/lib/python3.9/dist-packages/sklearn/preprocessing/_encoders.py:868: FutureWarning: `sparse` was renamed to `sparse_output` in version 1.2 and will be removed in 1.4. `sparse_output` is ignored unless you leave `sparse` to its default value.\n",
            "  warnings.warn(\n",
            "/usr/local/lib/python3.9/dist-packages/keras/initializers/initializers_v2.py:120: UserWarning: The initializer GlorotNormal is unseeded and being called multiple times, which will return identical values  each time (even if the initializer is unseeded). Please update your code to provide a seed to the initializer, or avoid using the same initalizer instance more than once.\n",
            "  warnings.warn(\n",
            "<ipython-input-45-a12cb81366a2>:79: FutureWarning: The frame.append method is deprecated and will be removed from pandas in a future version. Use pandas.concat instead.\n",
            "  metrics_df = metrics_df.append({'alpha' : alpha,\n",
            "/usr/local/lib/python3.9/dist-packages/sklearn/preprocessing/_encoders.py:868: FutureWarning: `sparse` was renamed to `sparse_output` in version 1.2 and will be removed in 1.4. `sparse_output` is ignored unless you leave `sparse` to its default value.\n",
            "  warnings.warn(\n",
            "/usr/local/lib/python3.9/dist-packages/sklearn/preprocessing/_encoders.py:868: FutureWarning: `sparse` was renamed to `sparse_output` in version 1.2 and will be removed in 1.4. `sparse_output` is ignored unless you leave `sparse` to its default value.\n",
            "  warnings.warn(\n",
            "/usr/local/lib/python3.9/dist-packages/keras/initializers/initializers_v2.py:120: UserWarning: The initializer GlorotNormal is unseeded and being called multiple times, which will return identical values  each time (even if the initializer is unseeded). Please update your code to provide a seed to the initializer, or avoid using the same initalizer instance more than once.\n",
            "  warnings.warn(\n",
            "<ipython-input-45-a12cb81366a2>:79: FutureWarning: The frame.append method is deprecated and will be removed from pandas in a future version. Use pandas.concat instead.\n",
            "  metrics_df = metrics_df.append({'alpha' : alpha,\n",
            "/usr/local/lib/python3.9/dist-packages/sklearn/preprocessing/_encoders.py:868: FutureWarning: `sparse` was renamed to `sparse_output` in version 1.2 and will be removed in 1.4. `sparse_output` is ignored unless you leave `sparse` to its default value.\n",
            "  warnings.warn(\n",
            "/usr/local/lib/python3.9/dist-packages/sklearn/preprocessing/_encoders.py:868: FutureWarning: `sparse` was renamed to `sparse_output` in version 1.2 and will be removed in 1.4. `sparse_output` is ignored unless you leave `sparse` to its default value.\n",
            "  warnings.warn(\n",
            "/usr/local/lib/python3.9/dist-packages/keras/initializers/initializers_v2.py:120: UserWarning: The initializer GlorotNormal is unseeded and being called multiple times, which will return identical values  each time (even if the initializer is unseeded). Please update your code to provide a seed to the initializer, or avoid using the same initalizer instance more than once.\n",
            "  warnings.warn(\n",
            "<ipython-input-45-a12cb81366a2>:79: FutureWarning: The frame.append method is deprecated and will be removed from pandas in a future version. Use pandas.concat instead.\n",
            "  metrics_df = metrics_df.append({'alpha' : alpha,\n",
            "/usr/local/lib/python3.9/dist-packages/sklearn/preprocessing/_encoders.py:868: FutureWarning: `sparse` was renamed to `sparse_output` in version 1.2 and will be removed in 1.4. `sparse_output` is ignored unless you leave `sparse` to its default value.\n",
            "  warnings.warn(\n",
            "/usr/local/lib/python3.9/dist-packages/sklearn/preprocessing/_encoders.py:868: FutureWarning: `sparse` was renamed to `sparse_output` in version 1.2 and will be removed in 1.4. `sparse_output` is ignored unless you leave `sparse` to its default value.\n",
            "  warnings.warn(\n",
            "/usr/local/lib/python3.9/dist-packages/keras/initializers/initializers_v2.py:120: UserWarning: The initializer GlorotNormal is unseeded and being called multiple times, which will return identical values  each time (even if the initializer is unseeded). Please update your code to provide a seed to the initializer, or avoid using the same initalizer instance more than once.\n",
            "  warnings.warn(\n",
            "<ipython-input-45-a12cb81366a2>:79: FutureWarning: The frame.append method is deprecated and will be removed from pandas in a future version. Use pandas.concat instead.\n",
            "  metrics_df = metrics_df.append({'alpha' : alpha,\n",
            "/usr/local/lib/python3.9/dist-packages/sklearn/preprocessing/_encoders.py:868: FutureWarning: `sparse` was renamed to `sparse_output` in version 1.2 and will be removed in 1.4. `sparse_output` is ignored unless you leave `sparse` to its default value.\n",
            "  warnings.warn(\n",
            "/usr/local/lib/python3.9/dist-packages/sklearn/preprocessing/_encoders.py:868: FutureWarning: `sparse` was renamed to `sparse_output` in version 1.2 and will be removed in 1.4. `sparse_output` is ignored unless you leave `sparse` to its default value.\n",
            "  warnings.warn(\n",
            "/usr/local/lib/python3.9/dist-packages/keras/initializers/initializers_v2.py:120: UserWarning: The initializer GlorotNormal is unseeded and being called multiple times, which will return identical values  each time (even if the initializer is unseeded). Please update your code to provide a seed to the initializer, or avoid using the same initalizer instance more than once.\n",
            "  warnings.warn(\n",
            "<ipython-input-45-a12cb81366a2>:79: FutureWarning: The frame.append method is deprecated and will be removed from pandas in a future version. Use pandas.concat instead.\n",
            "  metrics_df = metrics_df.append({'alpha' : alpha,\n",
            "/usr/local/lib/python3.9/dist-packages/sklearn/preprocessing/_encoders.py:868: FutureWarning: `sparse` was renamed to `sparse_output` in version 1.2 and will be removed in 1.4. `sparse_output` is ignored unless you leave `sparse` to its default value.\n",
            "  warnings.warn(\n",
            "/usr/local/lib/python3.9/dist-packages/sklearn/preprocessing/_encoders.py:868: FutureWarning: `sparse` was renamed to `sparse_output` in version 1.2 and will be removed in 1.4. `sparse_output` is ignored unless you leave `sparse` to its default value.\n",
            "  warnings.warn(\n",
            "/usr/local/lib/python3.9/dist-packages/keras/initializers/initializers_v2.py:120: UserWarning: The initializer GlorotNormal is unseeded and being called multiple times, which will return identical values  each time (even if the initializer is unseeded). Please update your code to provide a seed to the initializer, or avoid using the same initalizer instance more than once.\n",
            "  warnings.warn(\n",
            "<ipython-input-45-a12cb81366a2>:79: FutureWarning: The frame.append method is deprecated and will be removed from pandas in a future version. Use pandas.concat instead.\n",
            "  metrics_df = metrics_df.append({'alpha' : alpha,\n",
            "/usr/local/lib/python3.9/dist-packages/sklearn/preprocessing/_encoders.py:868: FutureWarning: `sparse` was renamed to `sparse_output` in version 1.2 and will be removed in 1.4. `sparse_output` is ignored unless you leave `sparse` to its default value.\n",
            "  warnings.warn(\n",
            "/usr/local/lib/python3.9/dist-packages/sklearn/preprocessing/_encoders.py:868: FutureWarning: `sparse` was renamed to `sparse_output` in version 1.2 and will be removed in 1.4. `sparse_output` is ignored unless you leave `sparse` to its default value.\n",
            "  warnings.warn(\n",
            "/usr/local/lib/python3.9/dist-packages/keras/initializers/initializers_v2.py:120: UserWarning: The initializer GlorotNormal is unseeded and being called multiple times, which will return identical values  each time (even if the initializer is unseeded). Please update your code to provide a seed to the initializer, or avoid using the same initalizer instance more than once.\n",
            "  warnings.warn(\n",
            "<ipython-input-45-a12cb81366a2>:79: FutureWarning: The frame.append method is deprecated and will be removed from pandas in a future version. Use pandas.concat instead.\n",
            "  metrics_df = metrics_df.append({'alpha' : alpha,\n",
            "/usr/local/lib/python3.9/dist-packages/sklearn/preprocessing/_encoders.py:868: FutureWarning: `sparse` was renamed to `sparse_output` in version 1.2 and will be removed in 1.4. `sparse_output` is ignored unless you leave `sparse` to its default value.\n",
            "  warnings.warn(\n",
            "/usr/local/lib/python3.9/dist-packages/sklearn/preprocessing/_encoders.py:868: FutureWarning: `sparse` was renamed to `sparse_output` in version 1.2 and will be removed in 1.4. `sparse_output` is ignored unless you leave `sparse` to its default value.\n",
            "  warnings.warn(\n",
            "/usr/local/lib/python3.9/dist-packages/keras/initializers/initializers_v2.py:120: UserWarning: The initializer GlorotNormal is unseeded and being called multiple times, which will return identical values  each time (even if the initializer is unseeded). Please update your code to provide a seed to the initializer, or avoid using the same initalizer instance more than once.\n",
            "  warnings.warn(\n",
            "<ipython-input-45-a12cb81366a2>:79: FutureWarning: The frame.append method is deprecated and will be removed from pandas in a future version. Use pandas.concat instead.\n",
            "  metrics_df = metrics_df.append({'alpha' : alpha,\n",
            "/usr/local/lib/python3.9/dist-packages/sklearn/preprocessing/_encoders.py:868: FutureWarning: `sparse` was renamed to `sparse_output` in version 1.2 and will be removed in 1.4. `sparse_output` is ignored unless you leave `sparse` to its default value.\n",
            "  warnings.warn(\n",
            "/usr/local/lib/python3.9/dist-packages/sklearn/preprocessing/_encoders.py:868: FutureWarning: `sparse` was renamed to `sparse_output` in version 1.2 and will be removed in 1.4. `sparse_output` is ignored unless you leave `sparse` to its default value.\n",
            "  warnings.warn(\n",
            "/usr/local/lib/python3.9/dist-packages/keras/initializers/initializers_v2.py:120: UserWarning: The initializer GlorotNormal is unseeded and being called multiple times, which will return identical values  each time (even if the initializer is unseeded). Please update your code to provide a seed to the initializer, or avoid using the same initalizer instance more than once.\n",
            "  warnings.warn(\n",
            "<ipython-input-45-a12cb81366a2>:79: FutureWarning: The frame.append method is deprecated and will be removed from pandas in a future version. Use pandas.concat instead.\n",
            "  metrics_df = metrics_df.append({'alpha' : alpha,\n",
            "/usr/local/lib/python3.9/dist-packages/sklearn/preprocessing/_encoders.py:868: FutureWarning: `sparse` was renamed to `sparse_output` in version 1.2 and will be removed in 1.4. `sparse_output` is ignored unless you leave `sparse` to its default value.\n",
            "  warnings.warn(\n",
            "/usr/local/lib/python3.9/dist-packages/sklearn/preprocessing/_encoders.py:868: FutureWarning: `sparse` was renamed to `sparse_output` in version 1.2 and will be removed in 1.4. `sparse_output` is ignored unless you leave `sparse` to its default value.\n",
            "  warnings.warn(\n",
            "/usr/local/lib/python3.9/dist-packages/keras/initializers/initializers_v2.py:120: UserWarning: The initializer GlorotNormal is unseeded and being called multiple times, which will return identical values  each time (even if the initializer is unseeded). Please update your code to provide a seed to the initializer, or avoid using the same initalizer instance more than once.\n",
            "  warnings.warn(\n",
            "<ipython-input-45-a12cb81366a2>:79: FutureWarning: The frame.append method is deprecated and will be removed from pandas in a future version. Use pandas.concat instead.\n",
            "  metrics_df = metrics_df.append({'alpha' : alpha,\n",
            "/usr/local/lib/python3.9/dist-packages/sklearn/preprocessing/_encoders.py:868: FutureWarning: `sparse` was renamed to `sparse_output` in version 1.2 and will be removed in 1.4. `sparse_output` is ignored unless you leave `sparse` to its default value.\n",
            "  warnings.warn(\n",
            "/usr/local/lib/python3.9/dist-packages/sklearn/preprocessing/_encoders.py:868: FutureWarning: `sparse` was renamed to `sparse_output` in version 1.2 and will be removed in 1.4. `sparse_output` is ignored unless you leave `sparse` to its default value.\n",
            "  warnings.warn(\n",
            "/usr/local/lib/python3.9/dist-packages/keras/initializers/initializers_v2.py:120: UserWarning: The initializer GlorotNormal is unseeded and being called multiple times, which will return identical values  each time (even if the initializer is unseeded). Please update your code to provide a seed to the initializer, or avoid using the same initalizer instance more than once.\n",
            "  warnings.warn(\n",
            "<ipython-input-45-a12cb81366a2>:79: FutureWarning: The frame.append method is deprecated and will be removed from pandas in a future version. Use pandas.concat instead.\n",
            "  metrics_df = metrics_df.append({'alpha' : alpha,\n",
            "/usr/local/lib/python3.9/dist-packages/sklearn/preprocessing/_encoders.py:868: FutureWarning: `sparse` was renamed to `sparse_output` in version 1.2 and will be removed in 1.4. `sparse_output` is ignored unless you leave `sparse` to its default value.\n",
            "  warnings.warn(\n",
            "/usr/local/lib/python3.9/dist-packages/sklearn/preprocessing/_encoders.py:868: FutureWarning: `sparse` was renamed to `sparse_output` in version 1.2 and will be removed in 1.4. `sparse_output` is ignored unless you leave `sparse` to its default value.\n",
            "  warnings.warn(\n",
            "/usr/local/lib/python3.9/dist-packages/keras/initializers/initializers_v2.py:120: UserWarning: The initializer GlorotNormal is unseeded and being called multiple times, which will return identical values  each time (even if the initializer is unseeded). Please update your code to provide a seed to the initializer, or avoid using the same initalizer instance more than once.\n",
            "  warnings.warn(\n",
            "<ipython-input-45-a12cb81366a2>:79: FutureWarning: The frame.append method is deprecated and will be removed from pandas in a future version. Use pandas.concat instead.\n",
            "  metrics_df = metrics_df.append({'alpha' : alpha,\n",
            "/usr/local/lib/python3.9/dist-packages/sklearn/preprocessing/_encoders.py:868: FutureWarning: `sparse` was renamed to `sparse_output` in version 1.2 and will be removed in 1.4. `sparse_output` is ignored unless you leave `sparse` to its default value.\n",
            "  warnings.warn(\n",
            "/usr/local/lib/python3.9/dist-packages/sklearn/preprocessing/_encoders.py:868: FutureWarning: `sparse` was renamed to `sparse_output` in version 1.2 and will be removed in 1.4. `sparse_output` is ignored unless you leave `sparse` to its default value.\n",
            "  warnings.warn(\n",
            "/usr/local/lib/python3.9/dist-packages/keras/initializers/initializers_v2.py:120: UserWarning: The initializer GlorotNormal is unseeded and being called multiple times, which will return identical values  each time (even if the initializer is unseeded). Please update your code to provide a seed to the initializer, or avoid using the same initalizer instance more than once.\n",
            "  warnings.warn(\n",
            "<ipython-input-45-a12cb81366a2>:79: FutureWarning: The frame.append method is deprecated and will be removed from pandas in a future version. Use pandas.concat instead.\n",
            "  metrics_df = metrics_df.append({'alpha' : alpha,\n",
            "/usr/local/lib/python3.9/dist-packages/sklearn/preprocessing/_encoders.py:868: FutureWarning: `sparse` was renamed to `sparse_output` in version 1.2 and will be removed in 1.4. `sparse_output` is ignored unless you leave `sparse` to its default value.\n",
            "  warnings.warn(\n",
            "/usr/local/lib/python3.9/dist-packages/sklearn/preprocessing/_encoders.py:868: FutureWarning: `sparse` was renamed to `sparse_output` in version 1.2 and will be removed in 1.4. `sparse_output` is ignored unless you leave `sparse` to its default value.\n",
            "  warnings.warn(\n",
            "/usr/local/lib/python3.9/dist-packages/keras/initializers/initializers_v2.py:120: UserWarning: The initializer GlorotNormal is unseeded and being called multiple times, which will return identical values  each time (even if the initializer is unseeded). Please update your code to provide a seed to the initializer, or avoid using the same initalizer instance more than once.\n",
            "  warnings.warn(\n",
            "<ipython-input-45-a12cb81366a2>:79: FutureWarning: The frame.append method is deprecated and will be removed from pandas in a future version. Use pandas.concat instead.\n",
            "  metrics_df = metrics_df.append({'alpha' : alpha,\n",
            "/usr/local/lib/python3.9/dist-packages/sklearn/preprocessing/_encoders.py:868: FutureWarning: `sparse` was renamed to `sparse_output` in version 1.2 and will be removed in 1.4. `sparse_output` is ignored unless you leave `sparse` to its default value.\n",
            "  warnings.warn(\n",
            "/usr/local/lib/python3.9/dist-packages/sklearn/preprocessing/_encoders.py:868: FutureWarning: `sparse` was renamed to `sparse_output` in version 1.2 and will be removed in 1.4. `sparse_output` is ignored unless you leave `sparse` to its default value.\n",
            "  warnings.warn(\n",
            "/usr/local/lib/python3.9/dist-packages/keras/initializers/initializers_v2.py:120: UserWarning: The initializer GlorotNormal is unseeded and being called multiple times, which will return identical values  each time (even if the initializer is unseeded). Please update your code to provide a seed to the initializer, or avoid using the same initalizer instance more than once.\n",
            "  warnings.warn(\n",
            "<ipython-input-45-a12cb81366a2>:79: FutureWarning: The frame.append method is deprecated and will be removed from pandas in a future version. Use pandas.concat instead.\n",
            "  metrics_df = metrics_df.append({'alpha' : alpha,\n",
            "/usr/local/lib/python3.9/dist-packages/sklearn/preprocessing/_encoders.py:868: FutureWarning: `sparse` was renamed to `sparse_output` in version 1.2 and will be removed in 1.4. `sparse_output` is ignored unless you leave `sparse` to its default value.\n",
            "  warnings.warn(\n",
            "/usr/local/lib/python3.9/dist-packages/sklearn/preprocessing/_encoders.py:868: FutureWarning: `sparse` was renamed to `sparse_output` in version 1.2 and will be removed in 1.4. `sparse_output` is ignored unless you leave `sparse` to its default value.\n",
            "  warnings.warn(\n",
            "/usr/local/lib/python3.9/dist-packages/keras/initializers/initializers_v2.py:120: UserWarning: The initializer GlorotNormal is unseeded and being called multiple times, which will return identical values  each time (even if the initializer is unseeded). Please update your code to provide a seed to the initializer, or avoid using the same initalizer instance more than once.\n",
            "  warnings.warn(\n",
            "<ipython-input-45-a12cb81366a2>:79: FutureWarning: The frame.append method is deprecated and will be removed from pandas in a future version. Use pandas.concat instead.\n",
            "  metrics_df = metrics_df.append({'alpha' : alpha,\n",
            "/usr/local/lib/python3.9/dist-packages/sklearn/preprocessing/_encoders.py:868: FutureWarning: `sparse` was renamed to `sparse_output` in version 1.2 and will be removed in 1.4. `sparse_output` is ignored unless you leave `sparse` to its default value.\n",
            "  warnings.warn(\n",
            "/usr/local/lib/python3.9/dist-packages/sklearn/preprocessing/_encoders.py:868: FutureWarning: `sparse` was renamed to `sparse_output` in version 1.2 and will be removed in 1.4. `sparse_output` is ignored unless you leave `sparse` to its default value.\n",
            "  warnings.warn(\n",
            "/usr/local/lib/python3.9/dist-packages/keras/initializers/initializers_v2.py:120: UserWarning: The initializer GlorotNormal is unseeded and being called multiple times, which will return identical values  each time (even if the initializer is unseeded). Please update your code to provide a seed to the initializer, or avoid using the same initalizer instance more than once.\n",
            "  warnings.warn(\n",
            "<ipython-input-45-a12cb81366a2>:79: FutureWarning: The frame.append method is deprecated and will be removed from pandas in a future version. Use pandas.concat instead.\n",
            "  metrics_df = metrics_df.append({'alpha' : alpha,\n",
            "/usr/local/lib/python3.9/dist-packages/sklearn/preprocessing/_encoders.py:868: FutureWarning: `sparse` was renamed to `sparse_output` in version 1.2 and will be removed in 1.4. `sparse_output` is ignored unless you leave `sparse` to its default value.\n",
            "  warnings.warn(\n",
            "/usr/local/lib/python3.9/dist-packages/sklearn/preprocessing/_encoders.py:868: FutureWarning: `sparse` was renamed to `sparse_output` in version 1.2 and will be removed in 1.4. `sparse_output` is ignored unless you leave `sparse` to its default value.\n",
            "  warnings.warn(\n",
            "/usr/local/lib/python3.9/dist-packages/keras/initializers/initializers_v2.py:120: UserWarning: The initializer GlorotNormal is unseeded and being called multiple times, which will return identical values  each time (even if the initializer is unseeded). Please update your code to provide a seed to the initializer, or avoid using the same initalizer instance more than once.\n",
            "  warnings.warn(\n",
            "<ipython-input-45-a12cb81366a2>:79: FutureWarning: The frame.append method is deprecated and will be removed from pandas in a future version. Use pandas.concat instead.\n",
            "  metrics_df = metrics_df.append({'alpha' : alpha,\n",
            "/usr/local/lib/python3.9/dist-packages/sklearn/preprocessing/_encoders.py:868: FutureWarning: `sparse` was renamed to `sparse_output` in version 1.2 and will be removed in 1.4. `sparse_output` is ignored unless you leave `sparse` to its default value.\n",
            "  warnings.warn(\n",
            "/usr/local/lib/python3.9/dist-packages/sklearn/preprocessing/_encoders.py:868: FutureWarning: `sparse` was renamed to `sparse_output` in version 1.2 and will be removed in 1.4. `sparse_output` is ignored unless you leave `sparse` to its default value.\n",
            "  warnings.warn(\n",
            "/usr/local/lib/python3.9/dist-packages/keras/initializers/initializers_v2.py:120: UserWarning: The initializer GlorotNormal is unseeded and being called multiple times, which will return identical values  each time (even if the initializer is unseeded). Please update your code to provide a seed to the initializer, or avoid using the same initalizer instance more than once.\n",
            "  warnings.warn(\n",
            "<ipython-input-45-a12cb81366a2>:79: FutureWarning: The frame.append method is deprecated and will be removed from pandas in a future version. Use pandas.concat instead.\n",
            "  metrics_df = metrics_df.append({'alpha' : alpha,\n",
            "/usr/local/lib/python3.9/dist-packages/sklearn/preprocessing/_encoders.py:868: FutureWarning: `sparse` was renamed to `sparse_output` in version 1.2 and will be removed in 1.4. `sparse_output` is ignored unless you leave `sparse` to its default value.\n",
            "  warnings.warn(\n",
            "/usr/local/lib/python3.9/dist-packages/sklearn/preprocessing/_encoders.py:868: FutureWarning: `sparse` was renamed to `sparse_output` in version 1.2 and will be removed in 1.4. `sparse_output` is ignored unless you leave `sparse` to its default value.\n",
            "  warnings.warn(\n",
            "/usr/local/lib/python3.9/dist-packages/keras/initializers/initializers_v2.py:120: UserWarning: The initializer GlorotNormal is unseeded and being called multiple times, which will return identical values  each time (even if the initializer is unseeded). Please update your code to provide a seed to the initializer, or avoid using the same initalizer instance more than once.\n",
            "  warnings.warn(\n",
            "<ipython-input-45-a12cb81366a2>:79: FutureWarning: The frame.append method is deprecated and will be removed from pandas in a future version. Use pandas.concat instead.\n",
            "  metrics_df = metrics_df.append({'alpha' : alpha,\n",
            "/usr/local/lib/python3.9/dist-packages/sklearn/preprocessing/_encoders.py:868: FutureWarning: `sparse` was renamed to `sparse_output` in version 1.2 and will be removed in 1.4. `sparse_output` is ignored unless you leave `sparse` to its default value.\n",
            "  warnings.warn(\n",
            "/usr/local/lib/python3.9/dist-packages/sklearn/preprocessing/_encoders.py:868: FutureWarning: `sparse` was renamed to `sparse_output` in version 1.2 and will be removed in 1.4. `sparse_output` is ignored unless you leave `sparse` to its default value.\n",
            "  warnings.warn(\n",
            "/usr/local/lib/python3.9/dist-packages/keras/initializers/initializers_v2.py:120: UserWarning: The initializer GlorotNormal is unseeded and being called multiple times, which will return identical values  each time (even if the initializer is unseeded). Please update your code to provide a seed to the initializer, or avoid using the same initalizer instance more than once.\n",
            "  warnings.warn(\n",
            "<ipython-input-45-a12cb81366a2>:79: FutureWarning: The frame.append method is deprecated and will be removed from pandas in a future version. Use pandas.concat instead.\n",
            "  metrics_df = metrics_df.append({'alpha' : alpha,\n",
            "/usr/local/lib/python3.9/dist-packages/sklearn/preprocessing/_encoders.py:868: FutureWarning: `sparse` was renamed to `sparse_output` in version 1.2 and will be removed in 1.4. `sparse_output` is ignored unless you leave `sparse` to its default value.\n",
            "  warnings.warn(\n",
            "/usr/local/lib/python3.9/dist-packages/sklearn/preprocessing/_encoders.py:868: FutureWarning: `sparse` was renamed to `sparse_output` in version 1.2 and will be removed in 1.4. `sparse_output` is ignored unless you leave `sparse` to its default value.\n",
            "  warnings.warn(\n",
            "/usr/local/lib/python3.9/dist-packages/keras/initializers/initializers_v2.py:120: UserWarning: The initializer GlorotNormal is unseeded and being called multiple times, which will return identical values  each time (even if the initializer is unseeded). Please update your code to provide a seed to the initializer, or avoid using the same initalizer instance more than once.\n",
            "  warnings.warn(\n",
            "<ipython-input-45-a12cb81366a2>:79: FutureWarning: The frame.append method is deprecated and will be removed from pandas in a future version. Use pandas.concat instead.\n",
            "  metrics_df = metrics_df.append({'alpha' : alpha,\n",
            "/usr/local/lib/python3.9/dist-packages/sklearn/preprocessing/_encoders.py:868: FutureWarning: `sparse` was renamed to `sparse_output` in version 1.2 and will be removed in 1.4. `sparse_output` is ignored unless you leave `sparse` to its default value.\n",
            "  warnings.warn(\n",
            "/usr/local/lib/python3.9/dist-packages/sklearn/preprocessing/_encoders.py:868: FutureWarning: `sparse` was renamed to `sparse_output` in version 1.2 and will be removed in 1.4. `sparse_output` is ignored unless you leave `sparse` to its default value.\n",
            "  warnings.warn(\n",
            "/usr/local/lib/python3.9/dist-packages/keras/initializers/initializers_v2.py:120: UserWarning: The initializer GlorotNormal is unseeded and being called multiple times, which will return identical values  each time (even if the initializer is unseeded). Please update your code to provide a seed to the initializer, or avoid using the same initalizer instance more than once.\n",
            "  warnings.warn(\n",
            "<ipython-input-45-a12cb81366a2>:79: FutureWarning: The frame.append method is deprecated and will be removed from pandas in a future version. Use pandas.concat instead.\n",
            "  metrics_df = metrics_df.append({'alpha' : alpha,\n"
          ]
        }
      ]
    },
    {
      "cell_type": "markdown",
      "source": [
        " Plot the same metrics as above, but now using\n",
        "box-and-whiskers plots to show how the metrics vary across different choices of\n",
        "alpha (therefore, alpha is the x-axis; see here for example box-and-whisker code).\n"
      ],
      "metadata": {
        "id": "9K4vc4STxlnh"
      }
    },
    {
      "cell_type": "markdown",
      "source": [
        "##First we plot for in general"
      ],
      "metadata": {
        "id": "rlbSqzuHyTMG"
      }
    },
    {
      "cell_type": "code",
      "source": [
        "\n",
        "for col in metrics_df.columns:\n",
        "\n",
        "  if col == 'alpha':\n",
        "    continue\n",
        "\n",
        "  fig, axs = plt.subplots(nrows=1, ncols=4, figsize=(10, 6), sharey=True)\n",
        "\n",
        "  fs=10\n",
        "\n",
        "  axs[0].title.set_text('Alpha 0')\n",
        "\n",
        "  #lets plot the first graph with alpha = 0\n",
        "  axs[0].boxplot(metrics_df[metrics_df['alpha']==0][col], showmeans=True)\n",
        "  axs[0].set_xticklabels(['0'])\n",
        "  axs[0].set_ylabel(col)\n",
        "\n",
        "  #graph with alpha = 0.3\n",
        "  axs[1].boxplot(metrics_df[metrics_df['alpha']==0.3][col], showmeans=True)\n",
        "  axs[1].set_xticklabels(['0.3'])\n",
        "  axs[1].title.set_text('Alpha 0.3')\n",
        "\n",
        "\n",
        "  #graph with alpha = 0.7\n",
        "  axs[2].boxplot(metrics_df[metrics_df['alpha']==0.7][col], showmeans=True)\n",
        "  axs[2].set_xticklabels(['0.7'])\n",
        "  axs[2].title.set_text('Alpha 0.7')\n",
        "\n",
        "\n",
        "  #graph with alpha = 1\n",
        "  axs[3].boxplot(metrics_df[metrics_df['alpha']==1][col], showmeans=True)\n",
        "  axs[3].set_xticklabels(['1'])\n",
        "  axs[3].title.set_text('Alpha 1')\n",
        "\n",
        "\n",
        "  fig.subplots_adjust(hspace=0.4)\n",
        "  plt.show()"
      ],
      "metadata": {
        "colab": {
          "base_uri": "https://localhost:8080/",
          "height": 1000
        },
        "id": "35_hgrAQcYJK",
        "outputId": "34db3936-924b-409a-c13c-8fe58748a2cd"
      },
      "execution_count": 49,
      "outputs": [
        {
          "output_type": "display_data",
          "data": {
            "text/plain": [
              "<Figure size 720x432 with 4 Axes>"
            ],
            "image/png": "[encoded data removed]"
          },
          "metadata": {
            "needs_background": "light"
          }
        },
        {
          "output_type": "display_data",
          "data": {
            "text/plain": [
              "<Figure size 720x432 with 4 Axes>"
            ],
            "image/png": "[encoded data removed]"
          },
          "metadata": {
            "needs_background": "light"
          }
        },
        {
          "output_type": "display_data",
          "data": {
            "text/plain": [
              "<Figure size 720x432 with 4 Axes>"
            ],
            "image/png": "[encoded data removed]"
          },
          "metadata": {
            "needs_background": "light"
          }
        },
        {
          "output_type": "display_data",
          "data": {
            "text/plain": [
              "<Figure size 720x432 with 4 Axes>"
            ],
            "image/png": "[encoded data removed]"
          },
          "metadata": {
            "needs_background": "light"
          }
        },
        {
          "output_type": "display_data",
          "data": {
            "text/plain": [
              "<Figure size 720x432 with 4 Axes>"
            ],
            "image/png": "[encoded data removed]"
          },
          "metadata": {
            "needs_background": "light"
          }
        },
        {
          "output_type": "display_data",
          "data": {
            "text/plain": [
              "<Figure size 720x432 with 4 Axes>"
            ],
            "image/png": "[encoded data removed]"
          },
          "metadata": {
            "needs_background": "light"
          }
        },
        {
          "output_type": "display_data",
          "data": {
            "text/plain": [
              "<Figure size 720x432 with 4 Axes>"
            ],
            "image/png": "[encoded data removed]"
          },
          "metadata": {
            "needs_background": "light"
          }
        },
        {
          "output_type": "display_data",
          "data": {
            "text/plain": [
              "<Figure size 720x432 with 4 Axes>"
            ],
            "image/png": "[encoded data removed]"
          },
          "metadata": {
            "needs_background": "light"
          }
        },
        {
          "output_type": "display_data",
          "data": {
            "text/plain": [
              "<Figure size 720x432 with 4 Axes>"
            ],
            "image/png": "[encoded data removed]"
          },
          "metadata": {
            "needs_background": "light"
          }
        },
        {
          "output_type": "display_data",
          "data": {
            "text/plain": [
              "<Figure size 720x432 with 4 Axes>"
            ],
            "image/png": "[encoded data removed]"
          },
          "metadata": {
            "needs_background": "light"
          }
        }
      ]
    },
    {
      "cell_type": "markdown",
      "source": [
        "##First we plot for Males"
      ],
      "metadata": {
        "id": "-hOHJoaPyXmH"
      }
    },
    {
      "cell_type": "code",
      "source": [
        "# plots for the male data \n",
        "print(\"For males\")\n",
        "for key,values in male_metrics_dictionary.items():\n",
        "\n",
        "  if key =='alpha':\n",
        "    continue\n",
        "\n",
        "  fig, axs = plt.subplots(nrows=1, ncols=4, figsize=(10, 6), sharey=True)\n",
        "  fs=10\n",
        "\n",
        "  #lets plot for alpha = 0\n",
        "  axs[0].boxplot(values[0], showmeans=True)\n",
        "  axs[0].set_xticklabels(['0'])\n",
        "  axs[0].set_ylabel(key)\n",
        "  axs[0].title.set_text('Alpha 0.0')\n",
        "\n",
        "\n",
        "  #now for alpha = 0.3\n",
        "  axs[1].boxplot(values[1], showmeans=True)\n",
        "  axs[1].set_xticklabels(['0.3'])\n",
        "  axs[1].title.set_text('Alpha 0.3')\n",
        "\n",
        "  #now for alpha = 0.7\n",
        "  axs[2].boxplot(values[2], showmeans=True)\n",
        "  axs[2].set_xticklabels(['0.7'])\n",
        "  axs[2].title.set_text('Alpha 0.7')\n",
        "\n",
        "  #now for alpha = 1\n",
        "  axs[3].boxplot(values[3], showmeans=True)\n",
        "  axs[3].set_xticklabels(['1'])\n",
        "  axs[3].title.set_text('Alpha 1.0')\n",
        "\n",
        "\n",
        "  fig.subplots_adjust(hspace=0.4)\n",
        "  plt.show()\n",
        "  "
      ],
      "metadata": {
        "colab": {
          "base_uri": "https://localhost:8080/",
          "height": 1000
        },
        "id": "vHvBQG3CkEcT",
        "outputId": "d1782e1b-092c-4f40-b6b7-a3b9e19060a7"
      },
      "execution_count": 51,
      "outputs": [
        {
          "output_type": "stream",
          "name": "stdout",
          "text": [
            "For males\n"
          ]
        },
        {
          "output_type": "display_data",
          "data": {
            "text/plain": [
              "<Figure size 720x432 with 4 Axes>"
            ],
            "image/png": "[encoded data removed]"
          },
          "metadata": {
            "needs_background": "light"
          }
        },
        {
          "output_type": "display_data",
          "data": {
            "text/plain": [
              "<Figure size 720x432 with 4 Axes>"
            ],
            "image/png": "[encoded data removed]"
          },
          "metadata": {
            "needs_background": "light"
          }
        },
        {
          "output_type": "display_data",
          "data": {
            "text/plain": [
              "<Figure size 720x432 with 4 Axes>"
            ],
            "image/png": "[encoded data removed]"
          },
          "metadata": {
            "needs_background": "light"
          }
        },
        {
          "output_type": "display_data",
          "data": {
            "text/plain": [
              "<Figure size 720x432 with 4 Axes>"
            ],
            "image/png": "[encoded data removed]"
          },
          "metadata": {
            "needs_background": "light"
          }
        },
        {
          "output_type": "display_data",
          "data": {
            "text/plain": [
              "<Figure size 720x432 with 4 Axes>"
            ],
            "image/png": "[encoded data removed]"
          },
          "metadata": {
            "needs_background": "light"
          }
        }
      ]
    },
    {
      "cell_type": "markdown",
      "source": [
        "##Then we plot for females"
      ],
      "metadata": {
        "id": "NJ6lj6RDyZy1"
      }
    },
    {
      "cell_type": "code",
      "source": [
        "# plots for the female data \n",
        "\n",
        "print(\"for females\")\n",
        "\n",
        "for key,values in female_metrics_dictionary.items():\n",
        "\n",
        "  if key =='alpha':\n",
        "    continue\n",
        "\n",
        "  fig, axs = plt.subplots(nrows=1, ncols=4, figsize=(10, 6), sharey=True)\n",
        "  fs=10\n",
        "\n",
        "  #lets plot for alpha = 0\n",
        "  axs[0].boxplot(values[0], showmeans=True)\n",
        "  axs[0].set_xticklabels(['0'])\n",
        "  axs[0].set_ylabel(key)\n",
        "  axs[0].title.set_text('Alpha 0.0')\n",
        "\n",
        "  #now for alpha = 0.3\n",
        "  axs[1].boxplot(values[1], showmeans=True)\n",
        "  axs[1].set_xticklabels(['0.3'])\n",
        "  axs[1].title.set_text('Alpha 0.3')\n",
        "\n",
        "  #now for alpha = 0.7\n",
        "  axs[2].boxplot(values[2], showmeans=True)\n",
        "  axs[2].set_xticklabels(['0.7'])\n",
        "  axs[2].title.set_text('Alpha 0.7')\n",
        "\n",
        "  #now for alpha = 1\n",
        "  axs[3].boxplot(values[3], showmeans=True)\n",
        "  axs[3].set_xticklabels(['1'])\n",
        "  axs[3].title.set_text('Alpha 1.0')\n",
        "\n",
        "\n",
        "  fig.subplots_adjust(hspace=0.4)\n",
        "  plt.show()"
      ],
      "metadata": {
        "colab": {
          "base_uri": "https://localhost:8080/",
          "height": 1000
        },
        "id": "SCH8o5BqkEfU",
        "outputId": "e4d64489-2c55-420c-833c-339ad6afe6f3"
      },
      "execution_count": 52,
      "outputs": [
        {
          "output_type": "stream",
          "name": "stdout",
          "text": [
            "for females\n"
          ]
        },
        {
          "output_type": "display_data",
          "data": {
            "text/plain": [
              "<Figure size 720x432 with 4 Axes>"
            ],
            "image/png": "[encoded data removed]"
          },
          "metadata": {
            "needs_background": "light"
          }
        },
        {
          "output_type": "display_data",
          "data": {
            "text/plain": [
              "<Figure size 720x432 with 4 Axes>"
            ],
            "image/png": "[encoded data removed]"
          },
          "metadata": {
            "needs_background": "light"
          }
        },
        {
          "output_type": "display_data",
          "data": {
            "text/plain": [
              "<Figure size 720x432 with 4 Axes>"
            ],
            "image/png": "[encoded data removed]"
          },
          "metadata": {
            "needs_background": "light"
          }
        },
        {
          "output_type": "display_data",
          "data": {
            "text/plain": [
              "<Figure size 720x432 with 4 Axes>"
            ],
            "image/png": "[encoded data removed]"
          },
          "metadata": {
            "needs_background": "light"
          }
        },
        {
          "output_type": "display_data",
          "data": {
            "text/plain": [
              "<Figure size 720x432 with 4 Axes>"
            ],
            "image/png": "[encoded data removed]"
          },
          "metadata": {
            "needs_background": "light"
          }
        }
      ]
    },
    {
      "cell_type": "code",
      "source": [
        "metrics_df"
      ],
      "metadata": {
        "colab": {
          "base_uri": "https://localhost:8080/",
          "height": 1000
        },
        "id": "DbqomRm50t-Q",
        "outputId": "116148b3-a969-4b3f-a351-3ec1c5c95ac2"
      },
      "execution_count": 54,
      "outputs": [
        {
          "output_type": "execute_result",
          "data": {
            "text/plain": [
              "    alpha  accuracy  precision    recall       FNR       FPR  \\\n",
              "0     0.0  0.570727   0.607547  0.172932  0.827068  0.094118   \n",
              "1     0.0  0.524067   0.488650  0.878625  0.121375  0.774661   \n",
              "2     0.0  0.541749   0.499216  0.684211  0.315789  0.578281   \n",
              "3     0.0  0.582024   0.555249  0.431794  0.568206  0.291403   \n",
              "4     0.0  0.577603   0.532539  0.624060  0.375940  0.461538   \n",
              "5     0.0  0.523576   0.485693  0.711063  0.288937  0.634389   \n",
              "6     0.0  0.575639   0.534572  0.556391  0.443609  0.408145   \n",
              "7     0.0  0.556974   0.511390  0.699248  0.300752  0.562896   \n",
              "8     0.0  0.561395   0.536680  0.298604  0.701396  0.217195   \n",
              "9     0.0  0.577603   0.530472  0.663802  0.336198  0.495023   \n",
              "10    0.3  0.577603   0.579775  0.277121  0.722879  0.169231   \n",
              "11    0.3  0.502456   0.477348  0.928034  0.071966  0.856109   \n",
              "12    0.3  0.594794   0.559551  0.534909  0.465091  0.354751   \n",
              "13    0.3  0.589391   0.542147  0.656284  0.343716  0.466968   \n",
              "14    0.3  0.587426   0.562244  0.441461  0.558539  0.289593   \n",
              "15    0.3  0.556974   0.517079  0.471536  0.528464  0.371041   \n",
              "16    0.3  0.574656   0.536071  0.518797  0.481203  0.378281   \n",
              "17    0.3  0.549607   0.505401  0.703545  0.296455  0.580090   \n",
              "18    0.3  0.571709   0.548124  0.360902  0.639098  0.250679   \n",
              "19    0.3  0.562377   0.516234  0.683136  0.316864  0.539367   \n",
              "20    0.7  0.567289   0.583893  0.186896  0.813104  0.112217   \n",
              "21    0.7  0.472004   0.463526  0.982814  0.017186  0.958371   \n",
              "22    0.7  0.565815   0.530719  0.436090  0.563910  0.324887   \n",
              "23    0.7  0.567289   0.520525  0.680988  0.319012  0.528507   \n",
              "24    0.7  0.585462   0.539295  0.641246  0.358754  0.461538   \n",
              "25    0.7  0.555992   0.513961  0.533835  0.466165  0.425339   \n",
              "26    0.7  0.559921   0.518060  0.539205  0.460795  0.422624   \n",
              "27    0.7  0.529470   0.491054  0.795918  0.204082  0.695023   \n",
              "28    0.7  0.565815   0.541446  0.329753  0.670247  0.235294   \n",
              "29    0.7  0.592829   0.597701  0.335124  0.664876  0.190045   \n",
              "30    1.0  0.567289   0.640449  0.122449  0.877551  0.057919   \n",
              "31    1.0  0.500982   0.472421  0.781955  0.218045  0.735747   \n",
              "32    1.0  0.538802   0.497175  0.756176  0.243824  0.644344   \n",
              "33    1.0  0.580550   0.542077  0.532760  0.467240  0.379186   \n",
              "34    1.0  0.588409   0.550379  0.545650  0.454350  0.375566   \n",
              "35    1.0  0.535855   0.494590  0.687433  0.312567  0.591855   \n",
              "36    1.0  0.583497   0.550796  0.483351  0.516649  0.332127   \n",
              "37    1.0  0.523576   0.487588  0.822771  0.177229  0.728507   \n",
              "38    1.0  0.564833   0.539543  0.329753  0.670247  0.237104   \n",
              "39    1.0  0.586444   0.545735  0.570354  0.429646  0.400000   \n",
              "\n",
              "    false_negative_rate_difference  false_positive_rate_difference  \\\n",
              "0                         0.017097                        0.022522   \n",
              "1                         0.004857                        0.009558   \n",
              "2                         0.009629                        0.018487   \n",
              "3                         0.063022                        0.022558   \n",
              "4                         0.102321                        0.124862   \n",
              "5                         0.025061                        0.029817   \n",
              "6                         0.044970                        0.058340   \n",
              "7                         0.007009                        0.010181   \n",
              "8                         0.053467                        0.013817   \n",
              "9                         0.148882                        0.136656   \n",
              "10                        0.048367                        0.009631   \n",
              "11                        0.001839                        0.023029   \n",
              "12                        0.073390                        0.027779   \n",
              "13                        0.079576                        0.116143   \n",
              "14                        0.002438                        0.008267   \n",
              "15                        0.012203                        0.018296   \n",
              "16                        0.014051                        0.026642   \n",
              "17                        0.018108                        0.018220   \n",
              "18                        0.024696                        0.006014   \n",
              "19                        0.105554                        0.130454   \n",
              "20                        0.022590                        0.008936   \n",
              "21                        0.004080                        0.006136   \n",
              "22                        0.109920                        0.103150   \n",
              "23                        0.074551                        0.096098   \n",
              "24                        0.080816                        0.033875   \n",
              "25                        0.015656                        0.019021   \n",
              "26                        0.040890                        0.045917   \n",
              "27                        0.003823                        0.006739   \n",
              "28                        0.002302                        0.005352   \n",
              "29                        0.044713                        0.035291   \n",
              "30                        0.081345                        0.004898   \n",
              "31                        0.010383                        0.008363   \n",
              "32                        0.007791                        0.014209   \n",
              "33                        0.113415                        0.054072   \n",
              "34                        0.001142                        0.019251   \n",
              "35                        0.002330                        0.018089   \n",
              "36                        0.062479                        0.021659   \n",
              "37                        0.051582                        0.040051   \n",
              "38                        0.028439                        0.019643   \n",
              "39                        0.089669                        0.088075   \n",
              "\n",
              "    demographic_parity_ratio  equalized_odds_ratio  selection_rate_difference  \n",
              "0                   0.953274              0.784589                   0.006213  \n",
              "1                   0.988273              0.987732                   0.009693  \n",
              "2                   0.973562              0.968497                   0.016770  \n",
              "3                   0.882752              0.862882                   0.044034  \n",
              "4                   0.799611              0.759601                   0.118109  \n",
              "5                   0.962029              0.954155                   0.025958  \n",
              "6                   0.902568              0.867244                   0.048980  \n",
              "7                   0.990859              0.982088                   0.005744  \n",
              "8                   0.888999              0.837222                   0.030065  \n",
              "9                   0.786300              0.759560                   0.138453  \n",
              "10                  0.936423              0.840969                   0.014396  \n",
              "11                  0.983306              0.973431                   0.014954  \n",
              "12                  0.886171              0.870634                   0.052466  \n",
              "13                  0.842642              0.780570                   0.095301  \n",
              "14                  0.981437              0.971826                   0.006722  \n",
              "15                  0.994719              0.951961                   0.002209  \n",
              "16                  0.988691              0.932135                   0.005036  \n",
              "17                  0.967699              0.969041                   0.020866  \n",
              "18                  0.960692              0.934091                   0.012095  \n",
              "19                  0.826602              0.785921                   0.115912  \n",
              "20                  0.974567              0.886773                   0.003775  \n",
              "21                  0.994102              0.993616                   0.005733  \n",
              "22                  0.744415              0.723222                   0.108618  \n",
              "23                  0.871174              0.834335                   0.082907  \n",
              "24                  0.896317              0.880613                   0.059154  \n",
              "25                  0.968745              0.956329                   0.015103  \n",
              "26                  0.917628              0.897339                   0.041052  \n",
              "27                  0.994426              0.990348                   0.004142  \n",
              "28                  0.978550              0.977491                   0.006032  \n",
              "29                  0.868316              0.831130                   0.036381  \n",
              "30                  0.646846              0.515468                   0.038261  \n",
              "31                  0.998438              0.986799                   0.001183  \n",
              "32                  0.980429              0.978172                   0.013733  \n",
              "33                  0.842077              0.809741                   0.077678  \n",
              "34                  0.967978              0.949930                   0.014731  \n",
              "35                  0.989526              0.969931                   0.006695  \n",
              "36                  0.912432              0.879442                   0.036906  \n",
              "37                  0.945662              0.939429                   0.043211  \n",
              "38                  0.911831              0.916920                   0.025666  \n",
              "39                  0.837857              0.803081                   0.085024  "
            ],
            "text/html": [
              "\n",
              "  <div id=\"df-f72ae2fd-ff5c-4c55-8e3b-556c4da1e728\">\n",
              "    <div class=\"colab-df-container\">\n",
              "      <div>\n",
              "<style scoped>\n",
              "    .dataframe tbody tr th:only-of-type {\n",
              "        vertical-align: middle;\n",
              "    }\n",
              "\n",
              "    .dataframe tbody tr th {\n",
              "        vertical-align: top;\n",
              "    }\n",
              "\n",
              "    .dataframe thead th {\n",
              "        text-align: right;\n",
              "    }\n",
              "</style>\n",
              "<table border=\"1\" class=\"dataframe\">\n",
              "  <thead>\n",
              "    <tr style=\"text-align: right;\">\n",
              "      <th></th>\n",
              "      <th>alpha</th>\n",
              "      <th>accuracy</th>\n",
              "      <th>precision</th>\n",
              "      <th>recall</th>\n",
              "      <th>FNR</th>\n",
              "      <th>FPR</th>\n",
              "      <th>false_negative_rate_difference</th>\n",
              "      <th>false_positive_rate_difference</th>\n",
              "      <th>demographic_parity_ratio</th>\n",
              "      <th>equalized_odds_ratio</th>\n",
              "      <th>selection_rate_difference</th>\n",
              "    </tr>\n",
              "  </thead>\n",
              "  <tbody>\n",
              "    <tr>\n",
              "      <th>0</th>\n",
              "      <td>0.0</td>\n",
              "      <td>0.570727</td>\n",
              "      <td>0.607547</td>\n",
              "      <td>0.172932</td>\n",
              "      <td>0.827068</td>\n",
              "      <td>0.094118</td>\n",
              "      <td>0.017097</td>\n",
              "      <td>0.022522</td>\n",
              "      <td>0.953274</td>\n",
              "      <td>0.784589</td>\n",
              "      <td>0.006213</td>\n",
              "    </tr>\n",
              "    <tr>\n",
              "      <th>1</th>\n",
              "      <td>0.0</td>\n",
              "      <td>0.524067</td>\n",
              "      <td>0.488650</td>\n",
              "      <td>0.878625</td>\n",
              "      <td>0.121375</td>\n",
              "      <td>0.774661</td>\n",
              "      <td>0.004857</td>\n",
              "      <td>0.009558</td>\n",
              "      <td>0.988273</td>\n",
              "      <td>0.987732</td>\n",
              "      <td>0.009693</td>\n",
              "    </tr>\n",
              "    <tr>\n",
              "      <th>2</th>\n",
              "      <td>0.0</td>\n",
              "      <td>0.541749</td>\n",
              "      <td>0.499216</td>\n",
              "      <td>0.684211</td>\n",
              "      <td>0.315789</td>\n",
              "      <td>0.578281</td>\n",
              "      <td>0.009629</td>\n",
              "      <td>0.018487</td>\n",
              "      <td>0.973562</td>\n",
              "      <td>0.968497</td>\n",
              "      <td>0.016770</td>\n",
              "    </tr>\n",
              "    <tr>\n",
              "      <th>3</th>\n",
              "      <td>0.0</td>\n",
              "      <td>0.582024</td>\n",
              "      <td>0.555249</td>\n",
              "      <td>0.431794</td>\n",
              "      <td>0.568206</td>\n",
              "      <td>0.291403</td>\n",
              "      <td>0.063022</td>\n",
              "      <td>0.022558</td>\n",
              "      <td>0.882752</td>\n",
              "      <td>0.862882</td>\n",
              "      <td>0.044034</td>\n",
              "    </tr>\n",
              "    <tr>\n",
              "      <th>4</th>\n",
              "      <td>0.0</td>\n",
              "      <td>0.577603</td>\n",
              "      <td>0.532539</td>\n",
              "      <td>0.624060</td>\n",
              "      <td>0.375940</td>\n",
              "      <td>0.461538</td>\n",
              "      <td>0.102321</td>\n",
              "      <td>0.124862</td>\n",
              "      <td>0.799611</td>\n",
              "      <td>0.759601</td>\n",
              "      <td>0.118109</td>\n",
              "    </tr>\n",
              "    <tr>\n",
              "      <th>5</th>\n",
              "      <td>0.0</td>\n",
              "      <td>0.523576</td>\n",
              "      <td>0.485693</td>\n",
              "      <td>0.711063</td>\n",
              "      <td>0.288937</td>\n",
              "      <td>0.634389</td>\n",
              "      <td>0.025061</td>\n",
              "      <td>0.029817</td>\n",
              "      <td>0.962029</td>\n",
              "      <td>0.954155</td>\n",
              "      <td>0.025958</td>\n",
              "    </tr>\n",
              "    <tr>\n",
              "      <th>6</th>\n",
              "      <td>0.0</td>\n",
              "      <td>0.575639</td>\n",
              "      <td>0.534572</td>\n",
              "      <td>0.556391</td>\n",
              "      <td>0.443609</td>\n",
              "      <td>0.408145</td>\n",
              "      <td>0.044970</td>\n",
              "      <td>0.058340</td>\n",
              "      <td>0.902568</td>\n",
              "      <td>0.867244</td>\n",
              "      <td>0.048980</td>\n",
              "    </tr>\n",
              "    <tr>\n",
              "      <th>7</th>\n",
              "      <td>0.0</td>\n",
              "      <td>0.556974</td>\n",
              "      <td>0.511390</td>\n",
              "      <td>0.699248</td>\n",
              "      <td>0.300752</td>\n",
              "      <td>0.562896</td>\n",
              "      <td>0.007009</td>\n",
              "      <td>0.010181</td>\n",
              "      <td>0.990859</td>\n",
              "      <td>0.982088</td>\n",
              "      <td>0.005744</td>\n",
              "    </tr>\n",
              "    <tr>\n",
              "      <th>8</th>\n",
              "      <td>0.0</td>\n",
              "      <td>0.561395</td>\n",
              "      <td>0.536680</td>\n",
              "      <td>0.298604</td>\n",
              "      <td>0.701396</td>\n",
              "      <td>0.217195</td>\n",
              "      <td>0.053467</td>\n",
              "      <td>0.013817</td>\n",
              "      <td>0.888999</td>\n",
              "      <td>0.837222</td>\n",
              "      <td>0.030065</td>\n",
              "    </tr>\n",
              "    <tr>\n",
              "      <th>9</th>\n",
              "      <td>0.0</td>\n",
              "      <td>0.577603</td>\n",
              "      <td>0.530472</td>\n",
              "      <td>0.663802</td>\n",
              "      <td>0.336198</td>\n",
              "      <td>0.495023</td>\n",
              "      <td>0.148882</td>\n",
              "      <td>0.136656</td>\n",
              "      <td>0.786300</td>\n",
              "      <td>0.759560</td>\n",
              "      <td>0.138453</td>\n",
              "    </tr>\n",
              "    <tr>\n",
              "      <th>10</th>\n",
              "      <td>0.3</td>\n",
              "      <td>0.577603</td>\n",
              "      <td>0.579775</td>\n",
              "      <td>0.277121</td>\n",
              "      <td>0.722879</td>\n",
              "      <td>0.169231</td>\n",
              "      <td>0.048367</td>\n",
              "      <td>0.009631</td>\n",
              "      <td>0.936423</td>\n",
              "      <td>0.840969</td>\n",
              "      <td>0.014396</td>\n",
              "    </tr>\n",
              "    <tr>\n",
              "      <th>11</th>\n",
              "      <td>0.3</td>\n",
              "      <td>0.502456</td>\n",
              "      <td>0.477348</td>\n",
              "      <td>0.928034</td>\n",
              "      <td>0.071966</td>\n",
              "      <td>0.856109</td>\n",
              "      <td>0.001839</td>\n",
              "      <td>0.023029</td>\n",
              "      <td>0.983306</td>\n",
              "      <td>0.973431</td>\n",
              "      <td>0.014954</td>\n",
              "    </tr>\n",
              "    <tr>\n",
              "      <th>12</th>\n",
              "      <td>0.3</td>\n",
              "      <td>0.594794</td>\n",
              "      <td>0.559551</td>\n",
              "      <td>0.534909</td>\n",
              "      <td>0.465091</td>\n",
              "      <td>0.354751</td>\n",
              "      <td>0.073390</td>\n",
              "      <td>0.027779</td>\n",
              "      <td>0.886171</td>\n",
              "      <td>0.870634</td>\n",
              "      <td>0.052466</td>\n",
              "    </tr>\n",
              "    <tr>\n",
              "      <th>13</th>\n",
              "      <td>0.3</td>\n",
              "      <td>0.589391</td>\n",
              "      <td>0.542147</td>\n",
              "      <td>0.656284</td>\n",
              "      <td>0.343716</td>\n",
              "      <td>0.466968</td>\n",
              "      <td>0.079576</td>\n",
              "      <td>0.116143</td>\n",
              "      <td>0.842642</td>\n",
              "      <td>0.780570</td>\n",
              "      <td>0.095301</td>\n",
              "    </tr>\n",
              "    <tr>\n",
              "      <th>14</th>\n",
              "      <td>0.3</td>\n",
              "      <td>0.587426</td>\n",
              "      <td>0.562244</td>\n",
              "      <td>0.441461</td>\n",
              "      <td>0.558539</td>\n",
              "      <td>0.289593</td>\n",
              "      <td>0.002438</td>\n",
              "      <td>0.008267</td>\n",
              "      <td>0.981437</td>\n",
              "      <td>0.971826</td>\n",
              "      <td>0.006722</td>\n",
              "    </tr>\n",
              "    <tr>\n",
              "      <th>15</th>\n",
              "      <td>0.3</td>\n",
              "      <td>0.556974</td>\n",
              "      <td>0.517079</td>\n",
              "      <td>0.471536</td>\n",
              "      <td>0.528464</td>\n",
              "      <td>0.371041</td>\n",
              "      <td>0.012203</td>\n",
              "      <td>0.018296</td>\n",
              "      <td>0.994719</td>\n",
              "      <td>0.951961</td>\n",
              "      <td>0.002209</td>\n",
              "    </tr>\n",
              "    <tr>\n",
              "      <th>16</th>\n",
              "      <td>0.3</td>\n",
              "      <td>0.574656</td>\n",
              "      <td>0.536071</td>\n",
              "      <td>0.518797</td>\n",
              "      <td>0.481203</td>\n",
              "      <td>0.378281</td>\n",
              "      <td>0.014051</td>\n",
              "      <td>0.026642</td>\n",
              "      <td>0.988691</td>\n",
              "      <td>0.932135</td>\n",
              "      <td>0.005036</td>\n",
              "    </tr>\n",
              "    <tr>\n",
              "      <th>17</th>\n",
              "      <td>0.3</td>\n",
              "      <td>0.549607</td>\n",
              "      <td>0.505401</td>\n",
              "      <td>0.703545</td>\n",
              "      <td>0.296455</td>\n",
              "      <td>0.580090</td>\n",
              "      <td>0.018108</td>\n",
              "      <td>0.018220</td>\n",
              "      <td>0.967699</td>\n",
              "      <td>0.969041</td>\n",
              "      <td>0.020866</td>\n",
              "    </tr>\n",
              "    <tr>\n",
              "      <th>18</th>\n",
              "      <td>0.3</td>\n",
              "      <td>0.571709</td>\n",
              "      <td>0.548124</td>\n",
              "      <td>0.360902</td>\n",
              "      <td>0.639098</td>\n",
              "      <td>0.250679</td>\n",
              "      <td>0.024696</td>\n",
              "      <td>0.006014</td>\n",
              "      <td>0.960692</td>\n",
              "      <td>0.934091</td>\n",
              "      <td>0.012095</td>\n",
              "    </tr>\n",
              "    <tr>\n",
              "      <th>19</th>\n",
              "      <td>0.3</td>\n",
              "      <td>0.562377</td>\n",
              "      <td>0.516234</td>\n",
              "      <td>0.683136</td>\n",
              "      <td>0.316864</td>\n",
              "      <td>0.539367</td>\n",
              "      <td>0.105554</td>\n",
              "      <td>0.130454</td>\n",
              "      <td>0.826602</td>\n",
              "      <td>0.785921</td>\n",
              "      <td>0.115912</td>\n",
              "    </tr>\n",
              "    <tr>\n",
              "      <th>20</th>\n",
              "      <td>0.7</td>\n",
              "      <td>0.567289</td>\n",
              "      <td>0.583893</td>\n",
              "      <td>0.186896</td>\n",
              "      <td>0.813104</td>\n",
              "      <td>0.112217</td>\n",
              "      <td>0.022590</td>\n",
              "      <td>0.008936</td>\n",
              "      <td>0.974567</td>\n",
              "      <td>0.886773</td>\n",
              "      <td>0.003775</td>\n",
              "    </tr>\n",
              "    <tr>\n",
              "      <th>21</th>\n",
              "      <td>0.7</td>\n",
              "      <td>0.472004</td>\n",
              "      <td>0.463526</td>\n",
              "      <td>0.982814</td>\n",
              "      <td>0.017186</td>\n",
              "      <td>0.958371</td>\n",
              "      <td>0.004080</td>\n",
              "      <td>0.006136</td>\n",
              "      <td>0.994102</td>\n",
              "      <td>0.993616</td>\n",
              "      <td>0.005733</td>\n",
              "    </tr>\n",
              "    <tr>\n",
              "      <th>22</th>\n",
              "      <td>0.7</td>\n",
              "      <td>0.565815</td>\n",
              "      <td>0.530719</td>\n",
              "      <td>0.436090</td>\n",
              "      <td>0.563910</td>\n",
              "      <td>0.324887</td>\n",
              "      <td>0.109920</td>\n",
              "      <td>0.103150</td>\n",
              "      <td>0.744415</td>\n",
              "      <td>0.723222</td>\n",
              "      <td>0.108618</td>\n",
              "    </tr>\n",
              "    <tr>\n",
              "      <th>23</th>\n",
              "      <td>0.7</td>\n",
              "      <td>0.567289</td>\n",
              "      <td>0.520525</td>\n",
              "      <td>0.680988</td>\n",
              "      <td>0.319012</td>\n",
              "      <td>0.528507</td>\n",
              "      <td>0.074551</td>\n",
              "      <td>0.096098</td>\n",
              "      <td>0.871174</td>\n",
              "      <td>0.834335</td>\n",
              "      <td>0.082907</td>\n",
              "    </tr>\n",
              "    <tr>\n",
              "      <th>24</th>\n",
              "      <td>0.7</td>\n",
              "      <td>0.585462</td>\n",
              "      <td>0.539295</td>\n",
              "      <td>0.641246</td>\n",
              "      <td>0.358754</td>\n",
              "      <td>0.461538</td>\n",
              "      <td>0.080816</td>\n",
              "      <td>0.033875</td>\n",
              "      <td>0.896317</td>\n",
              "      <td>0.880613</td>\n",
              "      <td>0.059154</td>\n",
              "    </tr>\n",
              "    <tr>\n",
              "      <th>25</th>\n",
              "      <td>0.7</td>\n",
              "      <td>0.555992</td>\n",
              "      <td>0.513961</td>\n",
              "      <td>0.533835</td>\n",
              "      <td>0.466165</td>\n",
              "      <td>0.425339</td>\n",
              "      <td>0.015656</td>\n",
              "      <td>0.019021</td>\n",
              "      <td>0.968745</td>\n",
              "      <td>0.956329</td>\n",
              "      <td>0.015103</td>\n",
              "    </tr>\n",
              "    <tr>\n",
              "      <th>26</th>\n",
              "      <td>0.7</td>\n",
              "      <td>0.559921</td>\n",
              "      <td>0.518060</td>\n",
              "      <td>0.539205</td>\n",
              "      <td>0.460795</td>\n",
              "      <td>0.422624</td>\n",
              "      <td>0.040890</td>\n",
              "      <td>0.045917</td>\n",
              "      <td>0.917628</td>\n",
              "      <td>0.897339</td>\n",
              "      <td>0.041052</td>\n",
              "    </tr>\n",
              "    <tr>\n",
              "      <th>27</th>\n",
              "      <td>0.7</td>\n",
              "      <td>0.529470</td>\n",
              "      <td>0.491054</td>\n",
              "      <td>0.795918</td>\n",
              "      <td>0.204082</td>\n",
              "      <td>0.695023</td>\n",
              "      <td>0.003823</td>\n",
              "      <td>0.006739</td>\n",
              "      <td>0.994426</td>\n",
              "      <td>0.990348</td>\n",
              "      <td>0.004142</td>\n",
              "    </tr>\n",
              "    <tr>\n",
              "      <th>28</th>\n",
              "      <td>0.7</td>\n",
              "      <td>0.565815</td>\n",
              "      <td>0.541446</td>\n",
              "      <td>0.329753</td>\n",
              "      <td>0.670247</td>\n",
              "      <td>0.235294</td>\n",
              "      <td>0.002302</td>\n",
              "      <td>0.005352</td>\n",
              "      <td>0.978550</td>\n",
              "      <td>0.977491</td>\n",
              "      <td>0.006032</td>\n",
              "    </tr>\n",
              "    <tr>\n",
              "      <th>29</th>\n",
              "      <td>0.7</td>\n",
              "      <td>0.592829</td>\n",
              "      <td>0.597701</td>\n",
              "      <td>0.335124</td>\n",
              "      <td>0.664876</td>\n",
              "      <td>0.190045</td>\n",
              "      <td>0.044713</td>\n",
              "      <td>0.035291</td>\n",
              "      <td>0.868316</td>\n",
              "      <td>0.831130</td>\n",
              "      <td>0.036381</td>\n",
              "    </tr>\n",
              "    <tr>\n",
              "      <th>30</th>\n",
              "      <td>1.0</td>\n",
              "      <td>0.567289</td>\n",
              "      <td>0.640449</td>\n",
              "      <td>0.122449</td>\n",
              "      <td>0.877551</td>\n",
              "      <td>0.057919</td>\n",
              "      <td>0.081345</td>\n",
              "      <td>0.004898</td>\n",
              "      <td>0.646846</td>\n",
              "      <td>0.515468</td>\n",
              "      <td>0.038261</td>\n",
              "    </tr>\n",
              "    <tr>\n",
              "      <th>31</th>\n",
              "      <td>1.0</td>\n",
              "      <td>0.500982</td>\n",
              "      <td>0.472421</td>\n",
              "      <td>0.781955</td>\n",
              "      <td>0.218045</td>\n",
              "      <td>0.735747</td>\n",
              "      <td>0.010383</td>\n",
              "      <td>0.008363</td>\n",
              "      <td>0.998438</td>\n",
              "      <td>0.986799</td>\n",
              "      <td>0.001183</td>\n",
              "    </tr>\n",
              "    <tr>\n",
              "      <th>32</th>\n",
              "      <td>1.0</td>\n",
              "      <td>0.538802</td>\n",
              "      <td>0.497175</td>\n",
              "      <td>0.756176</td>\n",
              "      <td>0.243824</td>\n",
              "      <td>0.644344</td>\n",
              "      <td>0.007791</td>\n",
              "      <td>0.014209</td>\n",
              "      <td>0.980429</td>\n",
              "      <td>0.978172</td>\n",
              "      <td>0.013733</td>\n",
              "    </tr>\n",
              "    <tr>\n",
              "      <th>33</th>\n",
              "      <td>1.0</td>\n",
              "      <td>0.580550</td>\n",
              "      <td>0.542077</td>\n",
              "      <td>0.532760</td>\n",
              "      <td>0.467240</td>\n",
              "      <td>0.379186</td>\n",
              "      <td>0.113415</td>\n",
              "      <td>0.054072</td>\n",
              "      <td>0.842077</td>\n",
              "      <td>0.809741</td>\n",
              "      <td>0.077678</td>\n",
              "    </tr>\n",
              "    <tr>\n",
              "      <th>34</th>\n",
              "      <td>1.0</td>\n",
              "      <td>0.588409</td>\n",
              "      <td>0.550379</td>\n",
              "      <td>0.545650</td>\n",
              "      <td>0.454350</td>\n",
              "      <td>0.375566</td>\n",
              "      <td>0.001142</td>\n",
              "      <td>0.019251</td>\n",
              "      <td>0.967978</td>\n",
              "      <td>0.949930</td>\n",
              "      <td>0.014731</td>\n",
              "    </tr>\n",
              "    <tr>\n",
              "      <th>35</th>\n",
              "      <td>1.0</td>\n",
              "      <td>0.535855</td>\n",
              "      <td>0.494590</td>\n",
              "      <td>0.687433</td>\n",
              "      <td>0.312567</td>\n",
              "      <td>0.591855</td>\n",
              "      <td>0.002330</td>\n",
              "      <td>0.018089</td>\n",
              "      <td>0.989526</td>\n",
              "      <td>0.969931</td>\n",
              "      <td>0.006695</td>\n",
              "    </tr>\n",
              "    <tr>\n",
              "      <th>36</th>\n",
              "      <td>1.0</td>\n",
              "      <td>0.583497</td>\n",
              "      <td>0.550796</td>\n",
              "      <td>0.483351</td>\n",
              "      <td>0.516649</td>\n",
              "      <td>0.332127</td>\n",
              "      <td>0.062479</td>\n",
              "      <td>0.021659</td>\n",
              "      <td>0.912432</td>\n",
              "      <td>0.879442</td>\n",
              "      <td>0.036906</td>\n",
              "    </tr>\n",
              "    <tr>\n",
              "      <th>37</th>\n",
              "      <td>1.0</td>\n",
              "      <td>0.523576</td>\n",
              "      <td>0.487588</td>\n",
              "      <td>0.822771</td>\n",
              "      <td>0.177229</td>\n",
              "      <td>0.728507</td>\n",
              "      <td>0.051582</td>\n",
              "      <td>0.040051</td>\n",
              "      <td>0.945662</td>\n",
              "      <td>0.939429</td>\n",
              "      <td>0.043211</td>\n",
              "    </tr>\n",
              "    <tr>\n",
              "      <th>38</th>\n",
              "      <td>1.0</td>\n",
              "      <td>0.564833</td>\n",
              "      <td>0.539543</td>\n",
              "      <td>0.329753</td>\n",
              "      <td>0.670247</td>\n",
              "      <td>0.237104</td>\n",
              "      <td>0.028439</td>\n",
              "      <td>0.019643</td>\n",
              "      <td>0.911831</td>\n",
              "      <td>0.916920</td>\n",
              "      <td>0.025666</td>\n",
              "    </tr>\n",
              "    <tr>\n",
              "      <th>39</th>\n",
              "      <td>1.0</td>\n",
              "      <td>0.586444</td>\n",
              "      <td>0.545735</td>\n",
              "      <td>0.570354</td>\n",
              "      <td>0.429646</td>\n",
              "      <td>0.400000</td>\n",
              "      <td>0.089669</td>\n",
              "      <td>0.088075</td>\n",
              "      <td>0.837857</td>\n",
              "      <td>0.803081</td>\n",
              "      <td>0.085024</td>\n",
              "    </tr>\n",
              "  </tbody>\n",
              "</table>\n",
              "</div>\n",
              "      <button class=\"colab-df-convert\" onclick=\"convertToInteractive('df-f72ae2fd-ff5c-4c55-8e3b-556c4da1e728')\"\n",
              "              title=\"Convert this dataframe to an interactive table.\"\n",
              "              style=\"display:none;\">\n",
              "        \n",
              "  <svg xmlns=\"http://www.w3.org/2000/svg\" height=\"24px\"viewBox=\"0 0 24 24\"\n",
              "       width=\"24px\">\n",
              "    <path d=\"M0 0h24v24H0V0z\" fill=\"none\"/>\n",
              "    <path d=\"M18.56 5.44l.94 2.06.94-2.06 2.06-.94-2.06-.94-.94-2.06-.94 2.06-2.06.94zm-11 1L8.5 8.5l.94-2.06 2.06-.94-2.06-.94L8.5 2.5l-.94 2.06-2.06.94zm10 10l.94 2.06.94-2.06 2.06-.94-2.06-.94-.94-2.06-.94 2.06-2.06.94z\"/><path d=\"M17.41 7.96l-1.37-1.37c-.4-.4-.92-.59-1.43-.59-.52 0-1.04.2-1.43.59L10.3 9.45l-7.72 7.72c-.78.78-.78 2.05 0 2.83L4 21.41c.39.39.9.59 1.41.59.51 0 1.02-.2 1.41-.59l7.78-7.78 2.81-2.81c.8-.78.8-2.07 0-2.86zM5.41 20L4 18.59l7.72-7.72 1.47 1.35L5.41 20z\"/>\n",
              "  </svg>\n",
              "      </button>\n",
              "      \n",
              "  <style>\n",
              "    .colab-df-container {\n",
              "      display:flex;\n",
              "      flex-wrap:wrap;\n",
              "      gap: 12px;\n",
              "    }\n",
              "\n",
              "    .colab-df-convert {\n",
              "      background-color: #E8F0FE;\n",
              "      border: none;\n",
              "      border-radius: 50%;\n",
              "      cursor: pointer;\n",
              "      display: none;\n",
              "      fill: #1967D2;\n",
              "      height: 32px;\n",
              "      padding: 0 0 0 0;\n",
              "      width: 32px;\n",
              "    }\n",
              "\n",
              "    .colab-df-convert:hover {\n",
              "      background-color: #E2EBFA;\n",
              "      box-shadow: 0px 1px 2px rgba(60, 64, 67, 0.3), 0px 1px 3px 1px rgba(60, 64, 67, 0.15);\n",
              "      fill: #174EA6;\n",
              "    }\n",
              "\n",
              "    [theme=dark] .colab-df-convert {\n",
              "      background-color: #3B4455;\n",
              "      fill: #D2E3FC;\n",
              "    }\n",
              "\n",
              "    [theme=dark] .colab-df-convert:hover {\n",
              "      background-color: #434B5C;\n",
              "      box-shadow: 0px 1px 3px 1px rgba(0, 0, 0, 0.15);\n",
              "      filter: drop-shadow(0px 1px 2px rgba(0, 0, 0, 0.3));\n",
              "      fill: #FFFFFF;\n",
              "    }\n",
              "  </style>\n",
              "\n",
              "      <script>\n",
              "        const buttonEl =\n",
              "          document.querySelector('#df-f72ae2fd-ff5c-4c55-8e3b-556c4da1e728 button.colab-df-convert');\n",
              "        buttonEl.style.display =\n",
              "          google.colab.kernel.accessAllowed ? 'block' : 'none';\n",
              "\n",
              "        async function convertToInteractive(key) {\n",
              "          const element = document.querySelector('#df-f72ae2fd-ff5c-4c55-8e3b-556c4da1e728');\n",
              "          const dataTable =\n",
              "            await google.colab.kernel.invokeFunction('convertToInteractive',\n",
              "                                                     [key], {});\n",
              "          if (!dataTable) return;\n",
              "\n",
              "          const docLinkHtml = 'Like what you see? Visit the ' +\n",
              "            '<a target=\"_blank\" href=https://colab.research.google.com/notebooks/data_table.ipynb>data table notebook</a>'\n",
              "            + ' to learn more about interactive tables.';\n",
              "          element.innerHTML = '';\n",
              "          dataTable['output_type'] = 'display_data';\n",
              "          await google.colab.output.renderOutput(dataTable, element);\n",
              "          const docLink = document.createElement('div');\n",
              "          docLink.innerHTML = docLinkHtml;\n",
              "          element.appendChild(docLink);\n",
              "        }\n",
              "      </script>\n",
              "    </div>\n",
              "  </div>\n",
              "  "
            ]
          },
          "metadata": {},
          "execution_count": 54
        }
      ]
    },
    {
      "cell_type": "markdown",
      "source": [
        "##Discuss in your report how these results compare with the metrics from the tuned random forest model from (b).\n",
        "\n",
        "We see that our results appear to be a little bit better in general in terms of accuracy in comparison to our tunned model in part b, but in terms of false positive and false negative rates between male and females, aside from still having certain difference between them (meaning parity is not that high), they appear to be in high levels, so this model is not completely outperforming the one we had in part b. However, we should think that there might be one of the 40 models that is outperforming our tunned random forest, but it is not that clear from these graphs. We do see a higher demographic_parity_ratio, and false_positive_rate_difference falling to 0.009 in an instance, so the model is indeed stronger in giving us these fair tradeoffs with a safe promise of getting a fairer model. Honestly, I think that the seeds weren't the best, and further hyperparameting could substantially improve our results in comparison to part b\n",
        "\n",
        "\n"
      ],
      "metadata": {
        "id": "0kCn-9E-xpt3"
      }
    },
    {
      "cell_type": "markdown",
      "source": [
        "# Problem 2, Part (d) \n",
        "### **Threshold Optimizer Post-processing intervention**\n",
        "\n"
      ],
      "metadata": {
        "id": "-UbQD7Gy13rv"
      }
    },
    {
      "cell_type": "code",
      "source": [
        "#@markdown Fit the ThresholdOptimizer model here\n",
        "# Fit the ThresholdOptimizer model here\n",
        "\n",
        "#fixed estimators\n",
        "n_estimators = 1000\n",
        "max_depth = 10\n",
        "\n",
        "sensitive_feature = X_test['gender_Female'].replace({1:'Female', 0:'Male'})\n",
        "\n",
        "\n",
        "#lets set up the dict to save our findings\n",
        "threshold_metrics_dictionary = {'alpha':[],\n",
        "                      'accuracy':[],\n",
        "                      'precision':[],\n",
        "                      'recall':[],\n",
        "                      'FNR':[],\n",
        "                      'FPR':[],\n",
        "                      'false_negative_rate_difference':[],\n",
        "                      'false_positive_rate_difference':[],\n",
        "                      'demographic_parity_ratio':[],\n",
        "                      'equalized_odds_ratio':[],\n",
        "                      'selection_rate_difference':[]\n",
        "                      }\n",
        "\n",
        "#one for males\n",
        "threshold_male_metrics_dictionary = {'alpha':[],\n",
        "                      'accuracy':[],\n",
        "                      'precision':[],\n",
        "                      'recall':[],\n",
        "                      'FNR':[],\n",
        "                      'FPR':[],\n",
        "                      }\n",
        "#another for females\n",
        "threshold_female_metrics_dictionary = {'alpha':[],\n",
        "                      'accuracy':[],\n",
        "                      'precision':[],\n",
        "                      'recall':[],\n",
        "                      'FNR':[],\n",
        "                      'FPR':[],\n",
        "                      }\n",
        "\n",
        "#lets start the recalibration process\n",
        "\n",
        "for i in range(10):\n",
        "\n",
        "  X_train, X_test, y_train, y_test = train_test_split(x_numeric, y_raw, test_size=0.2)\n",
        "  default_model = RandomForestClassifier(n_estimators=n_estimators,max_depth=max_depth)\n",
        "\n",
        "  # Train the classifier using the training data\n",
        "  default_model.fit(X_train, y_train)\n",
        "\n",
        "  # Make the post-processed model\n",
        "  postprocessed_model = ThresholdOptimizer(\n",
        "      estimator=default_model,\n",
        "      constraints='selection_rate_parity',\n",
        "      objective='balanced_accuracy_score',\n",
        "      prefit=True,\n",
        "      predict_method='predict_proba'\n",
        "  )\n",
        "\n",
        "  # Fit the model to the training data\n",
        "  postprocessed_model.fit(X_train, y_train, sensitive_features = X_train['gender_Female'])\n",
        "\n",
        "  # Predict on the test data\n",
        "  y_pred_to = postprocessed_model.predict(X_test, sensitive_features = X_test['gender_Female'])  \n",
        "\n",
        "  # Make a metricframe\n",
        "  metrics_frame = MetricFrame(\n",
        "      metrics=metrics,\n",
        "      y_true=y_test,\n",
        "      y_pred=y_pred_to,\n",
        "      sensitive_features=X_test['gender_Female'].replace({1:'Female',0:'Male'}))\n",
        "  \n",
        "  #for regular ones\n",
        "  threshold_metrics_dictionary['accuracy'].append(metrics_frame.overall['accuracy'])\n",
        "  threshold_metrics_dictionary['precision'].append(metrics_frame.overall['precision'])\n",
        "  threshold_metrics_dictionary['recall'].append(metrics_frame.overall['recall'])\n",
        "  threshold_metrics_dictionary['FNR'].append(metrics_frame.overall['FNR'])\n",
        "  threshold_metrics_dictionary['FPR'].append(metrics_frame.overall['FPR'])\n",
        "\n",
        "  #for the ones we need a function for\n",
        "  threshold_metrics_dictionary['false_negative_rate_difference'].append(false_negative_rate_difference(y_test, y_pred_to, sensitive_features= sensitive_feature))\n",
        "  threshold_metrics_dictionary['false_positive_rate_difference'].append(false_positive_rate_difference(y_test, y_pred_to, sensitive_features= sensitive_feature))\n",
        "  threshold_metrics_dictionary['demographic_parity_ratio'].append(demographic_parity_ratio(y_test, y_pred_to, sensitive_features= sensitive_feature))\n",
        "  threshold_metrics_dictionary['equalized_odds_ratio'].append(equalized_odds_ratio(y_test, y_pred_to, sensitive_features= sensitive_feature))\n",
        "  threshold_metrics_dictionary['selection_rate_difference'].append(selection_rate_difference(y_test, y_pred_to, sensitive_features= sensitive_feature))\n",
        "\n",
        "  #reporting for males\n",
        "  threshold_male_metrics_dictionary['accuracy'].append(metrics_frame.by_group.loc['Male'].accuracy)\n",
        "  threshold_male_metrics_dictionary['precision'].append(metrics_frame.by_group.loc['Male'].precision)\n",
        "  threshold_male_metrics_dictionary['recall'].append(metrics_frame.by_group.loc['Male'].recall)\n",
        "  threshold_male_metrics_dictionary['FNR'].append(metrics_frame.by_group.loc['Male'].FNR)\n",
        "  threshold_male_metrics_dictionary['FPR'].append(metrics_frame.by_group.loc['Male'].FPR)\n",
        "\n",
        "  #reporting for females\n",
        "  threshold_female_metrics_dictionary['accuracy'].append(metrics_frame.by_group.loc['Female'].accuracy)\n",
        "  threshold_female_metrics_dictionary['precision'].append(metrics_frame.by_group.loc['Female'].precision)\n",
        "  threshold_female_metrics_dictionary['recall'].append(metrics_frame.by_group.loc['Female'].recall)\n",
        "  threshold_female_metrics_dictionary['FNR'].append(metrics_frame.by_group.loc['Female'].FNR)\n",
        "  threshold_female_metrics_dictionary['FPR'].append(metrics_frame.by_group.loc['Female'].FPR)"
      ],
      "metadata": {
        "id": "TJXJ1zypou-M"
      },
      "execution_count": 92,
      "outputs": []
    },
    {
      "cell_type": "code",
      "source": [
        "for col in metrics_df.columns:\n",
        "  if col == 'alpha':\n",
        "    continue\n",
        "  fig, axs = plt.subplots(nrows=1, ncols=5, figsize=(8, 5), sharey=True)\n",
        "  fs=10\n",
        "  \n",
        "  axs[0].boxplot(threshold_metrics_dictionary[col], showmeans=True)\n",
        "  axs[0].set_xticklabels(['Threshold Optimizer'])\n",
        "  axs[0].set_ylabel(col)\n",
        "  axs[0].set_ylabel(col)\n",
        "  axs[0].axhline(y = tuned_forest[col],linestyle =\"-\")\n",
        "  axs[0].axhline(y = untuned_forest[col],linestyle =\"--\")\n",
        "\n",
        "  # Set the x-axis tick labels\n",
        "  axs[1].boxplot(metrics_df[metrics_df['alpha']==0][col], showmeans=True)\n",
        "  axs[1].set_xticklabels(['0'])\n",
        "  axs[1].axhline(y = tuned_forest[col],linestyle =\"-\")\n",
        "  axs[1].axhline(y = untuned_forest[col],linestyle =\"--\")\n",
        "\n",
        "  axs[2].boxplot(metrics_df[metrics_df['alpha']==0.3][col], showmeans=True)\n",
        "  axs[2].set_xticklabels(['0.3'])\n",
        "  axs[2].axhline(y = tuned_forest[col],linestyle =\"-\")\n",
        "  axs[2].axhline(y = untuned_forest[col],linestyle =\"--\")\n",
        "\n",
        "\n",
        "  axs[3].boxplot(metrics_df[metrics_df['alpha']==0.7][col], showmeans=True)\n",
        "  axs[3].set_xticklabels(['0.7'])\n",
        "  axs[3].axhline(y = tuned_forest[col],linestyle =\"-\")\n",
        "  axs[3].axhline(y = untuned_forest[col],linestyle =\"--\")\n",
        "\n",
        "\n",
        "  axs[4].boxplot(metrics_df[metrics_df['alpha']==1][col], showmeans=True)\n",
        "  axs[4].set_xticklabels(['1'])\n",
        "  axs[4].axhline(y = tuned_forest[col],linestyle =\"-\")\n",
        "  axs[4].axhline(y = untuned_forest[col],linestyle =\"--\")\n",
        "\n",
        "\n",
        "  fig.subplots_adjust(hspace=0.4)\n",
        "  plt.show()"
      ],
      "metadata": {
        "id": "4fr32wEdsR0J",
        "colab": {
          "base_uri": "https://localhost:8080/",
          "height": 1000
        },
        "outputId": "a5fbd143-db56-4ea5-e734-4ee4d83afaa2"
      },
      "execution_count": 93,
      "outputs": [
        {
          "output_type": "display_data",
          "data": {
            "text/plain": [
              "<Figure size 576x360 with 5 Axes>"
            ],
            "image/png": "[encoded data removed]"
          },
          "metadata": {
            "needs_background": "light"
          }
        },
        {
          "output_type": "display_data",
          "data": {
            "text/plain": [
              "<Figure size 576x360 with 5 Axes>"
            ],
            "image/png": "[encoded data removed]"
          },
          "metadata": {
            "needs_background": "light"
          }
        },
        {
          "output_type": "display_data",
          "data": {
            "text/plain": [
              "<Figure size 576x360 with 5 Axes>"
            ],
            "image/png": "[encoded data removed]"
          },
          "metadata": {
            "needs_background": "light"
          }
        },
        {
          "output_type": "display_data",
          "data": {
            "text/plain": [
              "<Figure size 576x360 with 5 Axes>"
            ],
            "image/png": "[encoded data removed]"
          },
          "metadata": {
            "needs_background": "light"
          }
        },
        {
          "output_type": "display_data",
          "data": {
            "text/plain": [
              "<Figure size 576x360 with 5 Axes>"
            ],
            "image/png": "[encoded data removed]"
          },
          "metadata": {
            "needs_background": "light"
          }
        },
        {
          "output_type": "display_data",
          "data": {
            "text/plain": [
              "<Figure size 576x360 with 5 Axes>"
            ],
            "image/png": "[encoded data removed]"
          },
          "metadata": {
            "needs_background": "light"
          }
        },
        {
          "output_type": "display_data",
          "data": {
            "text/plain": [
              "<Figure size 576x360 with 5 Axes>"
            ],
            "image/png": "[encoded data removed]"
          },
          "metadata": {
            "needs_background": "light"
          }
        },
        {
          "output_type": "display_data",
          "data": {
            "text/plain": [
              "<Figure size 576x360 with 5 Axes>"
            ],
            "image/png": "[encoded data removed]"
          },
          "metadata": {
            "needs_background": "light"
          }
        },
        {
          "output_type": "display_data",
          "data": {
            "text/plain": [
              "<Figure size 576x360 with 5 Axes>"
            ],
            "image/png": "[encoded data removed]"
          },
          "metadata": {
            "needs_background": "light"
          }
        },
        {
          "output_type": "display_data",
          "data": {
            "text/plain": [
              "<Figure size 576x360 with 5 Axes>"
            ],
            "image/png": "[encoded data removed]"
          },
          "metadata": {
            "needs_background": "light"
          }
        }
      ]
    },
    {
      "cell_type": "code",
      "source": [
        "# male group data \n",
        "for key,values in male_metrics_dictionary.items():\n",
        "  if key =='alpha':\n",
        "    continue\n",
        "\n",
        "  fig, axs = plt.subplots(nrows=1, ncols=5, figsize=(8, 5), sharey=True)\n",
        "  fs=10\n",
        "\n",
        "  axs[0].boxplot(threshold_male_metrics_dictionary[key], showmeans=True)\n",
        "  axs[0].set_xticklabels(['Threshold Optimizer'])\n",
        "  axs[0].set_ylabel(col)\n",
        "  axs[0].set_ylabel(key)\n",
        "\n",
        "  # Set the x-axis tick labels\n",
        "  axs[1].boxplot(values[0], showmeans=True)\n",
        "  axs[1].set_xticklabels(['0'])\n",
        "  \n",
        "\n",
        "  axs[2].boxplot(values[1], showmeans=True)\n",
        "  axs[2].set_xticklabels(['0.3'])\n",
        "\n",
        "\n",
        "  axs[3].boxplot(values[2], showmeans=True)\n",
        "  axs[3].set_xticklabels(['0.7'])\n",
        "\n",
        "\n",
        "  axs[4].boxplot(values[3], showmeans=True)\n",
        "  axs[4].set_xticklabels(['1'])\n",
        "\n",
        "  fig.subplots_adjust(hspace=0.4)\n",
        "  plt.show()"
      ],
      "metadata": {
        "colab": {
          "base_uri": "https://localhost:8080/",
          "height": 1000
        },
        "id": "lN9u2QW1kVwu",
        "outputId": "4249c757-57a2-4b09-a9fa-c9f503ddd6d5"
      },
      "execution_count": 94,
      "outputs": [
        {
          "output_type": "display_data",
          "data": {
            "text/plain": [
              "<Figure size 576x360 with 5 Axes>"
            ],
            "image/png": "[encoded data removed]"
          },
          "metadata": {
            "needs_background": "light"
          }
        },
        {
          "output_type": "display_data",
          "data": {
            "text/plain": [
              "<Figure size 576x360 with 5 Axes>"
            ],
            "image/png": "[encoded data removed]"
          },
          "metadata": {
            "needs_background": "light"
          }
        },
        {
          "output_type": "display_data",
          "data": {
            "text/plain": [
              "<Figure size 576x360 with 5 Axes>"
            ],
            "image/png": "[encoded data removed]"
          },
          "metadata": {
            "needs_background": "light"
          }
        },
        {
          "output_type": "display_data",
          "data": {
            "text/plain": [
              "<Figure size 576x360 with 5 Axes>"
            ],
            "image/png": "[encoded data removed]"
          },
          "metadata": {
            "needs_background": "light"
          }
        },
        {
          "output_type": "display_data",
          "data": {
            "text/plain": [
              "<Figure size 576x360 with 5 Axes>"
            ],
            "image/png": "[encoded data removed]"
          },
          "metadata": {
            "needs_background": "light"
          }
        }
      ]
    },
    {
      "cell_type": "code",
      "source": [
        "# female group data \n",
        "for key,values in male_metrics_dictionary.items():\n",
        "  if key =='alpha':\n",
        "    continue\n",
        "\n",
        "  fig, axs = plt.subplots(nrows=1, ncols=5, figsize=(8, 5), sharey=True)\n",
        "  fs=10\n",
        "\n",
        "  axs[0].boxplot(threshold_female_metrics_dictionary[key], showmeans=True)\n",
        "  axs[0].set_xticklabels(['Threshold Optimizer'])\n",
        "  axs[0].set_ylabel(col)\n",
        "  axs[0].set_ylabel(key)\n",
        "\n",
        "  # Set the x-axis tick labels\n",
        "  axs[1].boxplot(values[0], showmeans=True)\n",
        "  axs[1].set_xticklabels(['0'])\n",
        "  \n",
        "\n",
        "  axs[2].boxplot(values[1], showmeans=True)\n",
        "  axs[2].set_xticklabels(['0.3'])\n",
        "\n",
        "\n",
        "  axs[3].boxplot(values[2], showmeans=True)\n",
        "  axs[3].set_xticklabels(['0.7'])\n",
        "\n",
        "\n",
        "  axs[4].boxplot(values[3], showmeans=True)\n",
        "  axs[4].set_xticklabels(['1'])\n",
        "\n",
        "  fig.subplots_adjust(hspace=0.4)\n",
        "  plt.show()"
      ],
      "metadata": {
        "colab": {
          "base_uri": "https://localhost:8080/",
          "height": 1000
        },
        "id": "y7R1QlDFkVzX",
        "outputId": "bf43ca56-e211-4ad0-bbc3-3288eef74153"
      },
      "execution_count": 95,
      "outputs": [
        {
          "output_type": "display_data",
          "data": {
            "text/plain": [
              "<Figure size 576x360 with 5 Axes>"
            ],
            "image/png": "[encoded data removed]"
          },
          "metadata": {
            "needs_background": "light"
          }
        },
        {
          "output_type": "display_data",
          "data": {
            "text/plain": [
              "<Figure size 576x360 with 5 Axes>"
            ],
            "image/png": "[encoded data removed]"
          },
          "metadata": {
            "needs_background": "light"
          }
        },
        {
          "output_type": "display_data",
          "data": {
            "text/plain": [
              "<Figure size 576x360 with 5 Axes>"
            ],
            "image/png": "[encoded data removed]"
          },
          "metadata": {
            "needs_background": "light"
          }
        },
        {
          "output_type": "display_data",
          "data": {
            "text/plain": [
              "<Figure size 576x360 with 5 Axes>"
            ],
            "image/png": "[encoded data removed]"
          },
          "metadata": {
            "needs_background": "light"
          }
        },
        {
          "output_type": "display_data",
          "data": {
            "text/plain": [
              "<Figure size 576x360 with 5 Axes>"
            ],
            "image/png": "[encoded data removed]"
          },
          "metadata": {
            "needs_background": "light"
          }
        }
      ]
    },
    {
      "cell_type": "code",
      "source": [
        "metrics_frame"
      ],
      "metadata": {
        "colab": {
          "base_uri": "https://localhost:8080/"
        },
        "id": "h3vN_iCZkV4q",
        "outputId": "5171806a-b8e7-461b-8f19-edd6dc361679"
      },
      "execution_count": 96,
      "outputs": [
        {
          "output_type": "execute_result",
          "data": {
            "text/plain": [
              "<fairlearn.metrics._metric_frame.MetricFrame at 0x7f30e056fb20>"
            ]
          },
          "metadata": {},
          "execution_count": 96
        }
      ]
    },
    {
      "cell_type": "markdown",
      "source": [
        "Conclude your report with any general observations about the trends and trade-offs you\n",
        "observed in the performance of the fairness enhancing interventions with respect to the\n",
        "accuracy and fairness metrics.\n",
        "\n",
        "\n",
        "After intervention in this last part, we see that accuracy in the model from part b was still competitive (expected, is the same). So lets focus on the fairness part. This one has a better performance in terms of FNR, but performs not that great in comparison in FPR. Then, when we go to see the rest of the graphs, we see that our model only outperforms the rest in equalized odds ratio and demographic parity (by what looks like an outlier in alpha 0.7). So we will have to pick that specific model with alpha 0.7 and compare it a little bit more in depth with the one in part b in order to see how better we got testing the best models. But in a nutshell, it does look like it improved the model from part b, but not by an outstanding amount. Maybe we should try pre processing methods in order to reduce bias in that case.\n",
        "\n",
        "Now, in terms of general observations, we do see that hypertunning correctly with random forest drives to pretty solid outcomes, and further hypertunning with pre and post fairness techniques can help us sustantially in making a reliable clasiffier model. Fairness enhancing interventions did not, however, increase the accuracy of our models sustantially, but it gave us more certainty that the model will not go out of bounds in terms of achieving a somewhat fairer model. \n"
      ],
      "metadata": {
        "id": "yoYLKC8X7nDU"
      }
    }
  ]
}